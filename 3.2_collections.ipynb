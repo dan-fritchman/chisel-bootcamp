{
 "cells": [
  {
   "cell_type": "markdown",
   "metadata": {},
   "source": [
    "<a name=\"top\"></a><img src=\"images/chisel_1024.png\" alt=\"Chisel logo\" style=\"width:480px;\" />"
   ]
  },
  {
   "cell_type": "markdown",
   "metadata": {},
   "source": [
    "# Module 3.2: Generators: Collections\n",
    "**Prev: [Generators: Parameters](3.1_parameters.ipynb)**<br>\n",
    "**Next: [Interlude: Chisel Standard Library](3.2_interlude.ipynb)**\n",
    "\n",
    "\n",
    "## Motivation\n",
    "Generators will frequently have to deal with variable numbers of objects, whether they are IOs, modules, or test vectors.\n",
    "Collections are important building blocks for dealing with situations like this.\n",
    "This module will introduce Scala collections and how to use them with Chisel generators.\n",
    "\n",
    "## Setup"
   ]
  },
  {
   "cell_type": "code",
   "execution_count": 1,
   "metadata": {},
   "outputs": [
    {
     "name": "stdout",
     "output_type": "stream",
     "text": [
      "Compiling /Users/dan/dev/dan-fritchman/chisel-bootcamp/Main.sc"
     ]
    },
    {
     "name": "stderr",
     "output_type": "stream",
     "text": [
      "Downloading https://repo1.maven.org/maven2/edu/berkeley/cs/chisel3_2.12/3.2-SNAPSHOT/chisel3_2.12-3.2-SNAPSHOT.pom.sha1\n",
      "Downloading https://repo1.maven.org/maven2/edu/berkeley/cs/chisel3_2.12/3.2-SNAPSHOT/chisel3_2.12-3.2-SNAPSHOT.pom\n",
      "Downloading https://repo1.maven.org/maven2/edu/berkeley/cs/chisel3_2.12/3.2-SNAPSHOT/maven-metadata.xml.sha1\n",
      "Downloading https://repo1.maven.org/maven2/edu/berkeley/cs/chisel3_2.12/3.2-SNAPSHOT/maven-metadata.xml\n",
      "Downloading https://repo1.maven.org/maven2/edu/berkeley/cs/firrtl_2.12/1.2-SNAPSHOT/firrtl_2.12-1.2-SNAPSHOT.pom\n",
      "Downloading https://repo1.maven.org/maven2/edu/berkeley/cs/firrtl_2.12/1.2-SNAPSHOT/firrtl_2.12-1.2-SNAPSHOT.pom.sha1\n",
      "Downloading https://repo1.maven.org/maven2/edu/berkeley/cs/firrtl_2.12/1.2-SNAPSHOT/maven-metadata.xml.sha1\n",
      "Downloading https://repo1.maven.org/maven2/edu/berkeley/cs/firrtl_2.12/1.2-SNAPSHOT/maven-metadata.xml\n",
      "Downloading https://repo1.maven.org/maven2/edu/berkeley/cs/chisel-iotesters_2.12/1.3-SNAPSHOT/chisel-iotesters_2.12-1.3-SNAPSHOT.pom\n",
      "Downloading https://repo1.maven.org/maven2/edu/berkeley/cs/chisel-iotesters_2.12/1.3-SNAPSHOT/chisel-iotesters_2.12-1.3-SNAPSHOT.pom.sha1\n",
      "Downloading https://repo1.maven.org/maven2/edu/berkeley/cs/chisel-iotesters_2.12/1.3-SNAPSHOT/maven-metadata.xml.sha1\n",
      "Downloading https://repo1.maven.org/maven2/edu/berkeley/cs/chisel-iotesters_2.12/1.3-SNAPSHOT/maven-metadata.xml\n",
      "Downloading https://repo1.maven.org/maven2/edu/berkeley/cs/firrtl_2.12/1.2-SNAPSHOT/firrtl_2.12-1.2-SNAPSHOT.pom\n",
      "Downloading https://repo1.maven.org/maven2/edu/berkeley/cs/firrtl_2.12/1.2-SNAPSHOT/firrtl_2.12-1.2-SNAPSHOT.pom.sha1\n",
      "Downloading https://repo1.maven.org/maven2/edu/berkeley/cs/firrtl-interpreter_2.12/1.2-SNAPSHOT/firrtl-interpreter_2.12-1.2-SNAPSHOT.pom.sha1\n",
      "Downloading https://repo1.maven.org/maven2/edu/berkeley/cs/chisel3_2.12/3.2-SNAPSHOT/chisel3_2.12-3.2-SNAPSHOT.pom\n",
      "Downloading https://repo1.maven.org/maven2/edu/berkeley/cs/chisel3_2.12/3.2-SNAPSHOT/chisel3_2.12-3.2-SNAPSHOT.pom.sha1\n",
      "Downloading https://repo1.maven.org/maven2/edu/berkeley/cs/treadle_2.12/1.1-SNAPSHOT/treadle_2.12-1.1-SNAPSHOT.pom\n",
      "Downloading https://repo1.maven.org/maven2/edu/berkeley/cs/treadle_2.12/1.1-SNAPSHOT/treadle_2.12-1.1-SNAPSHOT.pom.sha1\n",
      "Downloading https://repo1.maven.org/maven2/edu/berkeley/cs/firrtl-interpreter_2.12/1.2-SNAPSHOT/firrtl-interpreter_2.12-1.2-SNAPSHOT.pom\n",
      "Downloading https://repo1.maven.org/maven2/edu/berkeley/cs/chisel3_2.12/3.2-SNAPSHOT/maven-metadata.xml\n",
      "Downloading https://repo1.maven.org/maven2/edu/berkeley/cs/chisel3_2.12/3.2-SNAPSHOT/maven-metadata.xml.sha1\n",
      "Downloading https://repo1.maven.org/maven2/edu/berkeley/cs/treadle_2.12/1.1-SNAPSHOT/maven-metadata.xml.sha1\n",
      "Downloading https://repo1.maven.org/maven2/edu/berkeley/cs/treadle_2.12/1.1-SNAPSHOT/maven-metadata.xml\n",
      "Downloading https://repo1.maven.org/maven2/edu/berkeley/cs/firrtl-interpreter_2.12/1.2-SNAPSHOT/maven-metadata.xml.sha1\n",
      "Downloading https://repo1.maven.org/maven2/edu/berkeley/cs/firrtl-interpreter_2.12/1.2-SNAPSHOT/maven-metadata.xml\n",
      "Downloading https://repo1.maven.org/maven2/edu/berkeley/cs/firrtl_2.12/1.2-SNAPSHOT/maven-metadata.xml.sha1\n",
      "Downloading https://repo1.maven.org/maven2/edu/berkeley/cs/firrtl_2.12/1.2-SNAPSHOT/maven-metadata.xml\n",
      "Downloading https://repo1.maven.org/maven2/edu/berkeley/cs/chisel-testers2_2.12/0.1-SNAPSHOT/chisel-testers2_2.12-0.1-SNAPSHOT.pom\n",
      "Downloading https://repo1.maven.org/maven2/edu/berkeley/cs/chisel-testers2_2.12/0.1-SNAPSHOT/chisel-testers2_2.12-0.1-SNAPSHOT.pom.sha1\n",
      "Downloading https://repo1.maven.org/maven2/edu/berkeley/cs/chisel-testers2_2.12/0.1-SNAPSHOT/maven-metadata.xml\n",
      "Downloading https://repo1.maven.org/maven2/edu/berkeley/cs/chisel-testers2_2.12/0.1-SNAPSHOT/maven-metadata.xml.sha1\n",
      "Downloading https://repo1.maven.org/maven2/edu/berkeley/cs/chisel3_2.12/3.2-SNAPSHOT/chisel3_2.12-3.2-SNAPSHOT.pom\n",
      "Downloading https://repo1.maven.org/maven2/edu/berkeley/cs/chisel3_2.12/3.2-SNAPSHOT/chisel3_2.12-3.2-SNAPSHOT.pom.sha1\n",
      "Downloading https://repo1.maven.org/maven2/edu/berkeley/cs/treadle_2.12/1.1-SNAPSHOT/treadle_2.12-1.1-SNAPSHOT.pom\n",
      "Downloading https://repo1.maven.org/maven2/edu/berkeley/cs/treadle_2.12/1.1-SNAPSHOT/treadle_2.12-1.1-SNAPSHOT.pom.sha1\n",
      "Downloading https://repo1.maven.org/maven2/edu/berkeley/cs/treadle_2.12/1.1-SNAPSHOT/maven-metadata.xml\n",
      "Downloading https://repo1.maven.org/maven2/edu/berkeley/cs/treadle_2.12/1.1-SNAPSHOT/maven-metadata.xml.sha1\n",
      "Downloading https://repo1.maven.org/maven2/edu/berkeley/cs/chisel3_2.12/3.2-SNAPSHOT/maven-metadata.xml.sha1\n",
      "Downloading https://repo1.maven.org/maven2/edu/berkeley/cs/chisel3_2.12/3.2-SNAPSHOT/maven-metadata.xml\n",
      "Downloading https://repo1.maven.org/maven2/edu/berkeley/cs/firrtl_2.12/1.2-SNAPSHOT/firrtl_2.12-1.2-SNAPSHOT.pom.sha1\n",
      "Downloading https://repo1.maven.org/maven2/edu/berkeley/cs/firrtl_2.12/1.2-SNAPSHOT/firrtl_2.12-1.2-SNAPSHOT.pom\n",
      "Downloading https://repo1.maven.org/maven2/edu/berkeley/cs/firrtl_2.12/1.2-SNAPSHOT/maven-metadata.xml\n",
      "Downloading https://repo1.maven.org/maven2/edu/berkeley/cs/firrtl_2.12/1.2-SNAPSHOT/maven-metadata.xml.sha1\n",
      "Downloading https://repo1.maven.org/maven2/net/sourceforge/f2j/arpack_combined_all/0.1/arpack_combined_all-0.1-sources.jar.sha1\n",
      "Downloading https://repo1.maven.org/maven2/net/sourceforge/f2j/arpack_combined_all/0.1/arpack_combined_all-0.1-sources.jar\n",
      "Downloading https://repo1.maven.org/maven2/net/sourceforge/f2j/arpack_combined_all/0.1/arpack_combined_all-0.1-sources.jar.sha1\n",
      "Downloading https://repo1.maven.org/maven2/net/sourceforge/f2j/arpack_combined_all/0.1/arpack_combined_all-0.1-sources.jar\n",
      "Downloading https://repo1.maven.org/maven2/edu/berkeley/cs/rocket-dsptools_2.12/1.2-020719-SNAPSHOT/rocket-dsptools_2.12-1.2-020719-SNAPSHOT.pom\n",
      "Downloading https://repo1.maven.org/maven2/edu/berkeley/cs/rocket-dsptools_2.12/1.2-020719-SNAPSHOT/rocket-dsptools_2.12-1.2-020719-SNAPSHOT.pom.sha1\n",
      "Downloading https://repo1.maven.org/maven2/edu/berkeley/cs/rocket-dsptools_2.12/1.2-020719-SNAPSHOT/maven-metadata.xml\n",
      "Downloading https://repo1.maven.org/maven2/edu/berkeley/cs/rocket-dsptools_2.12/1.2-020719-SNAPSHOT/maven-metadata.xml.sha1\n",
      "Downloading https://repo1.maven.org/maven2/edu/berkeley/cs/dsptools_2.12/1.2-020719-SNAPSHOT/dsptools_2.12-1.2-020719-SNAPSHOT.pom\n",
      "Downloading https://repo1.maven.org/maven2/edu/berkeley/cs/rocketchip_2.12/1.2-020719-SNAPSHOT/rocketchip_2.12-1.2-020719-SNAPSHOT.pom.sha1\n",
      "Downloading https://repo1.maven.org/maven2/edu/berkeley/cs/rocketchip_2.12/1.2-020719-SNAPSHOT/rocketchip_2.12-1.2-020719-SNAPSHOT.pom\n",
      "Downloading https://repo1.maven.org/maven2/edu/berkeley/cs/chisel3_2.12/3.2-020719-SNAPSHOT/chisel3_2.12-3.2-020719-SNAPSHOT.pom\n",
      "Downloading https://repo1.maven.org/maven2/edu/berkeley/cs/dsptools_2.12/1.2-020719-SNAPSHOT/dsptools_2.12-1.2-020719-SNAPSHOT.pom.sha1\n",
      "Downloading https://repo1.maven.org/maven2/edu/berkeley/cs/chisel3_2.12/3.2-020719-SNAPSHOT/chisel3_2.12-3.2-020719-SNAPSHOT.pom.sha1\n",
      "Downloading https://repo1.maven.org/maven2/edu/berkeley/cs/chisel-iotesters_2.12/1.3-020719-SNAPSHOT/chisel-iotesters_2.12-1.3-020719-SNAPSHOT.pom\n",
      "Downloading https://repo1.maven.org/maven2/edu/berkeley/cs/chisel-iotesters_2.12/1.3-020719-SNAPSHOT/chisel-iotesters_2.12-1.3-020719-SNAPSHOT.pom.sha1\n",
      "Downloading https://repo1.maven.org/maven2/edu/berkeley/cs/dsptools_2.12/1.2-020719-SNAPSHOT/maven-metadata.xml\n",
      "Downloading https://repo1.maven.org/maven2/edu/berkeley/cs/dsptools_2.12/1.2-020719-SNAPSHOT/maven-metadata.xml.sha1\n",
      "Downloading https://repo1.maven.org/maven2/edu/berkeley/cs/rocketchip_2.12/1.2-020719-SNAPSHOT/maven-metadata.xml\n",
      "Downloading https://repo1.maven.org/maven2/edu/berkeley/cs/rocketchip_2.12/1.2-020719-SNAPSHOT/maven-metadata.xml.sha1\n",
      "Downloading https://repo1.maven.org/maven2/edu/berkeley/cs/chisel-iotesters_2.12/1.3-020719-SNAPSHOT/maven-metadata.xml.sha1\n",
      "Downloading https://repo1.maven.org/maven2/edu/berkeley/cs/chisel-iotesters_2.12/1.3-020719-SNAPSHOT/maven-metadata.xml\n",
      "Downloading https://repo1.maven.org/maven2/edu/berkeley/cs/chisel3_2.12/3.2-020719-SNAPSHOT/maven-metadata.xml\n",
      "Downloading https://repo1.maven.org/maven2/edu/berkeley/cs/chisel3_2.12/3.2-020719-SNAPSHOT/maven-metadata.xml.sha1\n",
      "Downloading https://repo1.maven.org/maven2/edu/berkeley/cs/firrtl-interpreter_2.12/1.2-020719-SNAPSHOT/firrtl-interpreter_2.12-1.2-020719-SNAPSHOT.pom\n"
     ]
    },
    {
     "name": "stderr",
     "output_type": "stream",
     "text": [
      "Downloading https://repo1.maven.org/maven2/edu/berkeley/cs/hardfloat_2.12/1.2-020719-SNAPSHOT/hardfloat_2.12-1.2-020719-SNAPSHOT.pom.sha1\n",
      "Downloading https://repo1.maven.org/maven2/edu/berkeley/cs/hardfloat_2.12/1.2-020719-SNAPSHOT/hardfloat_2.12-1.2-020719-SNAPSHOT.pom\n",
      "Downloading https://repo1.maven.org/maven2/edu/berkeley/cs/treadle_2.12/1.1-020719-SNAPSHOT/treadle_2.12-1.1-020719-SNAPSHOT.pom\n",
      "Downloading https://repo1.maven.org/maven2/edu/berkeley/cs/firrtl-interpreter_2.12/1.2-020719-SNAPSHOT/firrtl-interpreter_2.12-1.2-020719-SNAPSHOT.pom.sha1\n",
      "Downloading https://repo1.maven.org/maven2/edu/berkeley/cs/treadle_2.12/1.1-020719-SNAPSHOT/treadle_2.12-1.1-020719-SNAPSHOT.pom.sha1\n",
      "Downloading https://repo1.maven.org/maven2/edu/berkeley/cs/rocket-macros_2.12/1.2-020719-SNAPSHOT/rocket-macros_2.12-1.2-020719-SNAPSHOT.pom\n",
      "Downloading https://repo1.maven.org/maven2/edu/berkeley/cs/rocket-macros_2.12/1.2-020719-SNAPSHOT/rocket-macros_2.12-1.2-020719-SNAPSHOT.pom.sha1\n",
      "Downloading https://repo1.maven.org/maven2/edu/berkeley/cs/firrtl_2.12/1.2-020719-SNAPSHOT/firrtl_2.12-1.2-020719-SNAPSHOT.pom\n",
      "Downloading https://repo1.maven.org/maven2/edu/berkeley/cs/firrtl_2.12/1.2-020719-SNAPSHOT/firrtl_2.12-1.2-020719-SNAPSHOT.pom.sha1\n",
      "Downloading https://repo1.maven.org/maven2/edu/berkeley/cs/hardfloat_2.12/1.2-020719-SNAPSHOT/maven-metadata.xml.sha1\n",
      "Downloading https://repo1.maven.org/maven2/edu/berkeley/cs/firrtl-interpreter_2.12/1.2-020719-SNAPSHOT/maven-metadata.xml\n",
      "Downloading https://repo1.maven.org/maven2/edu/berkeley/cs/treadle_2.12/1.1-020719-SNAPSHOT/maven-metadata.xml.sha1\n",
      "Downloading https://repo1.maven.org/maven2/edu/berkeley/cs/hardfloat_2.12/1.2-020719-SNAPSHOT/maven-metadata.xml\n",
      "Downloading https://repo1.maven.org/maven2/edu/berkeley/cs/firrtl-interpreter_2.12/1.2-020719-SNAPSHOT/maven-metadata.xml.sha1\n",
      "Downloading https://repo1.maven.org/maven2/edu/berkeley/cs/treadle_2.12/1.1-020719-SNAPSHOT/maven-metadata.xml\n",
      "Downloading https://repo1.maven.org/maven2/edu/berkeley/cs/rocket-macros_2.12/1.2-020719-SNAPSHOT/maven-metadata.xml\n",
      "Downloading https://repo1.maven.org/maven2/edu/berkeley/cs/rocket-macros_2.12/1.2-020719-SNAPSHOT/maven-metadata.xml.sha1\n",
      "Downloading https://repo1.maven.org/maven2/edu/berkeley/cs/firrtl_2.12/1.2-020719-SNAPSHOT/maven-metadata.xml\n",
      "Downloading https://repo1.maven.org/maven2/edu/berkeley/cs/firrtl_2.12/1.2-020719-SNAPSHOT/maven-metadata.xml.sha1\n",
      "Downloading https://repo1.maven.org/maven2/net/sourceforge/f2j/arpack_combined_all/0.1/arpack_combined_all-0.1-sources.jar.sha1\n",
      "Downloading https://repo1.maven.org/maven2/net/sourceforge/f2j/arpack_combined_all/0.1/arpack_combined_all-0.1-sources.jar\n"
     ]
    },
    {
     "name": "stdout",
     "output_type": "stream",
     "text": [
      "Compiling /Users/dan/dev/dan-fritchman/chisel-bootcamp/Main.sc #2"
     ]
    },
    {
     "data": {
      "text/plain": [
       "\u001b[36mpath\u001b[39m: \u001b[32mString\u001b[39m = \u001b[32m\"/Users/dan/dev/dan-fritchman/chisel-bootcamp/source/load-ivy.sc\"\u001b[39m"
      ]
     },
     "execution_count": 1,
     "metadata": {},
     "output_type": "execute_result"
    }
   ],
   "source": [
    "val path = System.getProperty(\"user.dir\") + \"/source/load-ivy.sc\"\n",
    "interp.load.module(ammonite.ops.Path(java.nio.file.FileSystems.getDefault().getPath(path)))"
   ]
  },
  {
   "cell_type": "markdown",
   "metadata": {},
   "source": [
    "Note we add a new import here because `mutable.ArrayBuffer` lives in `scala.collections`."
   ]
  },
  {
   "cell_type": "code",
   "execution_count": 2,
   "metadata": {},
   "outputs": [
    {
     "data": {
      "text/plain": [
       "\u001b[32mimport \u001b[39m\u001b[36mchisel3._\n",
       "\u001b[39m\n",
       "\u001b[32mimport \u001b[39m\u001b[36mchisel3.util._\n",
       "\u001b[39m\n",
       "\u001b[32mimport \u001b[39m\u001b[36mchisel3.iotesters.{ChiselFlatSpec, Driver, PeekPokeTester}\n",
       "\u001b[39m\n",
       "\u001b[32mimport \u001b[39m\u001b[36mscala.collection._\u001b[39m"
      ]
     },
     "execution_count": 2,
     "metadata": {},
     "output_type": "execute_result"
    }
   ],
   "source": [
    "import chisel3._\n",
    "import chisel3.util._\n",
    "import chisel3.iotesters.{ChiselFlatSpec, Driver, PeekPokeTester}\n",
    "import scala.collection._"
   ]
  },
  {
   "cell_type": "markdown",
   "metadata": {},
   "source": [
    "---\n",
    "# Generators and Collections<a name=\"generators-and-collections\"></a> \n",
    "In this section, we will focus on the concept of *generators* and the use of Scala collections as a tool to implement them.\n",
    "Instead of looking at Chisel code as an *instance* of a circuit, i.e. a description of a particular circuit, \n",
    "we will instead consider it to be a generator of a circuit.\n",
    "\n",
    "We will start by considering the FIR filter from previous exercises.  "
   ]
  },
  {
   "cell_type": "code",
   "execution_count": 3,
   "metadata": {},
   "outputs": [
    {
     "data": {
      "text/plain": [
       "defined \u001b[32mclass\u001b[39m \u001b[36mMy4ElementFir\u001b[39m"
      ]
     },
     "execution_count": 3,
     "metadata": {},
     "output_type": "execute_result"
    }
   ],
   "source": [
    "class My4ElementFir(b0: Int, b1: Int, b2: Int, b3: Int) extends Module {\n",
    "  val io = IO(new Bundle {\n",
    "    val in = Input(UInt(8.W))\n",
    "    val out = Output(UInt(8.W))\n",
    "  })\n",
    "\n",
    "  val x_n1 = RegNext(io.in, 0.U)\n",
    "  val x_n2 = RegNext(x_n1, 0.U)\n",
    "  val x_n3 = RegNext(x_n2, 0.U)\n",
    "  io.out := io.in * b0.U(8.W) + x_n1 * b1.U(8.W) +\n",
    "    x_n2 * b2.U(8.W) + x_n3 * b3.U(8.W)\n",
    "}\n"
   ]
  },
  {
   "cell_type": "markdown",
   "metadata": {},
   "source": [
    "This circuit is a simple case of a generator because it can generate versions of this 4-tap filter with\n",
    "different coefficients.  But what if we want the circuit to have more taps?  We are going to do this in several steps.\n",
    "\n",
    "- Build a software *Golden Model* of a tap configurable FIR.\n",
    "- Redesign our test to use this model, and confirm that it works.\n",
    "- Refactor our My4ElementFir to allow an configurable number of taps.\n",
    "- Test the new circuit using our new test harness.\n",
    "\n",
    "<span style=\"color:blue\">**Example: FIR Golden Model**</span><br><a name=\"fir-golden-model\"></a> \n",
    "Below is a Scala software implementation of a FIR circuit.  "
   ]
  },
  {
   "cell_type": "code",
   "execution_count": 4,
   "metadata": {},
   "outputs": [
    {
     "data": {
      "text/plain": [
       "defined \u001b[32mclass\u001b[39m \u001b[36mScalaFirFilter\u001b[39m"
      ]
     },
     "execution_count": 4,
     "metadata": {},
     "output_type": "execute_result"
    }
   ],
   "source": [
    "/**\n",
    "  * A naive implementation of an FIR filter with an arbitrary number of taps.\n",
    "  */\n",
    "class ScalaFirFilter(taps: Seq[Int]) {\n",
    "  var pseudoRegisters = List.fill(taps.length)(0)\n",
    "\n",
    "  def poke(value: Int): Int = {\n",
    "    pseudoRegisters = value :: pseudoRegisters.take(taps.length - 1)\n",
    "    var accumulator = 0\n",
    "    for(i <- taps.indices) {\n",
    "      accumulator += taps(i) * pseudoRegisters(i)\n",
    "    }\n",
    "    accumulator\n",
    "  }\n",
    "}"
   ]
  },
  {
   "cell_type": "markdown",
   "metadata": {},
   "source": [
    "### Seq\n",
    "Note that `taps` has become a `Seq[Int]` which means that the user of the class can pass an arbitrarily-long sequence of `Int`s when constructing the class.\n",
    "### Registers\n",
    "With `  var pseudoRegisters = List.fill(taps.length)(0)` we create a `List` that will hold values from previous cycles.  `List` was chosen because its syntax of adding an element to the head and removing the last element is very simple. Just about any member of the scala collections family could be used.  We are also initializing this list to contain all zeros.\n",
    "### Poke\n",
    "Our class adds a poke function/method that emulates putting a new input into the filter and cycling the clock.\n",
    "### Updating the registers\n",
    "The line `pseudoRegisters = value :: pseudoRegisters.take(taps.length - 1)` first uses the `take` method of list to keep the all but the last element of the list, then uses the `::` list concatentation operator to add `value` to the head of the reduced version of the list.\n",
    "### Computing the output\n",
    "A simple for loop with an accumulator sums each element of the list times its corresponding tap coefficient. The line with just `accumulator` returns that value as the function result.\n",
    "## Adapting our previous test for testing our golden model\n",
    "We will now use our previous work to confirm that our golden model works.  A bit of editing magic takes our previous tests harness and morphs it into..."
   ]
  },
  {
   "cell_type": "code",
   "execution_count": 5,
   "metadata": {},
   "outputs": [
    {
     "name": "stdout",
     "output_type": "stream",
     "text": [
      "out = 1\n",
      "out = 5\n",
      "out = 8\n",
      "out = 10\n",
      "out = 16\n",
      "out = 12\n"
     ]
    },
    {
     "data": {
      "text/plain": [
       "\u001b[36mfilter\u001b[39m: \u001b[32mScalaFirFilter\u001b[39m = ammonite.$sess.cmd3$Helper$ScalaFirFilter@59dee8bc\n",
       "\u001b[36mout\u001b[39m: \u001b[32mInt\u001b[39m = \u001b[32m12\u001b[39m"
      ]
     },
     "execution_count": 5,
     "metadata": {},
     "output_type": "execute_result"
    }
   ],
   "source": [
    "val filter = new ScalaFirFilter(Seq(1, 1, 1, 1))\n",
    "\n",
    "var out = 0\n",
    "\n",
    "out = filter.poke(1)\n",
    "println(s\"out = $out\")\n",
    "assert(out == 1)  // 1, 0, 0, 0\n",
    "\n",
    "out = filter.poke(4)\n",
    "assert(out == 5)  // 4, 1, 0, 0\n",
    "println(s\"out = $out\")\n",
    "\n",
    "out = filter.poke(3)\n",
    "assert(out == 8)  // 3, 4, 1, 0\n",
    "println(s\"out = $out\")\n",
    "\n",
    "out = filter.poke(2)\n",
    "assert(out == 10)  // 2, 3, 4, 1\n",
    "println(s\"out = $out\")\n",
    "\n",
    "out = filter.poke(7)\n",
    "assert(out == 16)  // 7, 2, 3, 4\n",
    "println(s\"out = $out\")\n",
    "\n",
    "out = filter.poke(0)\n",
    "assert(out == 12)  // 0, 7, 2, 3\n",
    "println(s\"out = $out\")"
   ]
  },
  {
   "cell_type": "markdown",
   "metadata": {},
   "source": [
    "Executing the previous block demonstrates that our software model returns the same results as My4ElementFir did.\n"
   ]
  },
  {
   "cell_type": "markdown",
   "metadata": {},
   "source": [
    "## Test circuit using the golden model.<a name=\"use-golden-model-as-test\"></a> \n",
    "Now that we are reasonably confident about our golden model, we re-write our test to compare the circuit outputs with the output of the golden model, instead of using laboriously hand-crafted examples.\n",
    "What follows is a quick first pass to do it."
   ]
  },
  {
   "cell_type": "code",
   "execution_count": 6,
   "metadata": {},
   "outputs": [
    {
     "name": "stdout",
     "output_type": "stream",
     "text": [
      "[\u001b[35minfo\u001b[0m] [0.002] Elaborating design...\n",
      "[\u001b[35minfo\u001b[0m] [1.071] Done elaborating.\n",
      "Total FIRRTL Compile Time: 703.1 ms\n",
      "Total FIRRTL Compile Time: 67.8 ms\n",
      "End of dependency graph\n",
      "Circuit state created\n",
      "[\u001b[35minfo\u001b[0m] [0.003] SEED 1575031539616\n",
      "test My4ElementFir Success: 100 tests passed in 105 cycles taking 0.126268 seconds\n",
      "[\u001b[35minfo\u001b[0m] [0.111] RAN 100 CYCLES PASSED\n"
     ]
    },
    {
     "data": {
      "text/plain": [
       "\u001b[36mgoldenModel\u001b[39m: \u001b[32mScalaFirFilter\u001b[39m = ammonite.$sess.cmd3$Helper$ScalaFirFilter@4f44dbfa\n",
       "\u001b[36mres5_1\u001b[39m: \u001b[32mBoolean\u001b[39m = true"
      ]
     },
     "execution_count": 6,
     "metadata": {},
     "output_type": "execute_result"
    }
   ],
   "source": [
    "val goldenModel = new ScalaFirFilter(Seq(1, 1, 1, 1))\n",
    "\n",
    "Driver(() => new My4ElementFir(1, 1, 1, 1)) {\n",
    "  c => new PeekPokeTester(c) {\n",
    "    for(i <- 0 until 100) {\n",
    "      val input = scala.util.Random.nextInt(8)\n",
    "\n",
    "      val goldenModelResult = goldenModel.poke(input)\n",
    "\n",
    "      poke(c.io.in, input)\n",
    "\n",
    "      expect(c.io.out, goldenModelResult, s\"i $i, input $input, gm $goldenModelResult, ${peek(c.io.out)}\")\n",
    "\n",
    "      step(1)\n",
    "    }\n",
    "  }\n",
    "}"
   ]
  },
  {
   "cell_type": "markdown",
   "metadata": {},
   "source": [
    "Our test runs for 100 cycles, and checks that the two different methods, hardware and software, are in sync at each step.\n",
    "\n",
    "### Things to watch out for\n",
    "(i.e., mistakes we actually committed while writing this.)\n",
    "\n",
    "1. Getting the step in the right place. Software and hardware execute differently; it's easy to get this wrong.\n",
    "1. This test is weak because it is very sensitive to how the IOs and registers are sized. Implementing a software golden model that observes wrapping behavior at arbitrary data bit widths can be complicated.  Here we just make sure that we only pass in values that fit."
   ]
  },
  {
   "cell_type": "markdown",
   "metadata": {},
   "source": [
    "<span style=\"color:blue\">**Example: Parameterized FIR Generator**</span><br><a name=\"fir-golden-model\"></a> \n",
    "Below we have created a new Filter class, `MyManyElementsFilter` that takes a `Seq` of constants to use for taps.  This list can be any number of elements.\n",
    "For good measure a `bitWidth` has been added that allows us to control the sizes of numbers that can be handled by our circuit.\n",
    "In response the variable length we have had to refactor the creation of registers and how they are connected.\n",
    "The methodology used below uses a simple subset of the available library of collection functions.\n",
    "Later sections show how to more succinctly express the behavior in a way that also makes what is happening clearer."
   ]
  },
  {
   "cell_type": "code",
   "execution_count": 8,
   "metadata": {},
   "outputs": [
    {
     "data": {
      "text/plain": [
       "defined \u001b[32mclass\u001b[39m \u001b[36mMyManyElementFir\u001b[39m"
      ]
     },
     "execution_count": 8,
     "metadata": {},
     "output_type": "execute_result"
    }
   ],
   "source": [
    "class MyManyElementFir(consts: Seq[Int], bitWidth: Int) extends Module {\n",
    "  val io = IO(new Bundle {\n",
    "    val in = Input(UInt(bitWidth.W))\n",
    "    val out = Output(UInt(bitWidth.W))\n",
    "  })\n",
    "\n",
    "  val regs = mutable.ArrayBuffer[UInt]()\n",
    "  for(i <- 0 until consts.length) {\n",
    "      if(i == 0) regs += io.in\n",
    "      else       regs += RegNext(regs(i - 1), 0.U)\n",
    "  }\n",
    "  \n",
    "  val muls = mutable.ArrayBuffer[UInt]()\n",
    "  for(i <- 0 until consts.length) {\n",
    "      muls += regs(i) * consts(i).U\n",
    "  }\n",
    "\n",
    "  val scan = mutable.ArrayBuffer[UInt]()\n",
    "  for(i <- 0 until consts.length) {\n",
    "      if(i == 0) scan += muls(i)\n",
    "      else scan += muls(i) + scan(i - 1)\n",
    "  }\n",
    "\n",
    "  io.out := scan.last\n",
    "}"
   ]
  },
  {
   "cell_type": "markdown",
   "metadata": {},
   "source": [
    "#### How we did it\n",
    "There are three parallel sections starting at lines 7, 13, and 18.\n",
    "We are using a Scala collection type called `ArrayBuffer`.\n",
    "`ArrayBuffer` allows you to append elements using the `+=` operator (also insert and delete, but we don't need this).\n",
    "First, we create an ArrayBuffer `regs` whose elements will be `UInt`s.\n",
    "Then iterate over the taps, adding the input as the first element followed by creating registers using RegNext which connect the input of the register to the previous element (`regs(i-1)`) and initializes it to unsigned zero (`0.U`).\n",
    "These registers will hold the previous values of inputs as they are needed.\n",
    "\n",
    "Next, we create another ArrayBuffer `muls` of `UInt`s.\n",
    "Each element of muls will be a node whose i-th element is the product of the `regs(i)` and `const(i)`.\n",
    "\n",
    "Note the use of the `scan.last` method.\n",
    "It takes the last element of a collection, and is a more elegant alternative to `regs(i - 1)` used during the `regs` construction."
   ]
  },
  {
   "cell_type": "markdown",
   "metadata": {},
   "source": [
    "### Does it behave the same as `My4ElementFir`?\n",
    "A good first test of our new version is to see if it can pass the test we just applied to the\n",
    "`My4ElementFir`.\n",
    "We create an instance of `MyManyElementFir` and run even more data through it."
   ]
  },
  {
   "cell_type": "code",
   "execution_count": 9,
   "metadata": {},
   "outputs": [
    {
     "name": "stdout",
     "output_type": "stream",
     "text": [
      "[\u001b[35minfo\u001b[0m] [0.000] Elaborating design...\n",
      "[\u001b[35minfo\u001b[0m] [0.070] Done elaborating.\n",
      "Total FIRRTL Compile Time: 74.1 ms\n",
      "Total FIRRTL Compile Time: 58.3 ms\n",
      "End of dependency graph\n",
      "Circuit state created\n",
      "[\u001b[35minfo\u001b[0m] [0.000] SEED 1575031995809\n",
      "test MyManyElementFir Success: 100 tests passed in 105 cycles taking 0.060921 seconds\n",
      "[\u001b[35minfo\u001b[0m] [0.060] RAN 100 CYCLES PASSED\n"
     ]
    },
    {
     "data": {
      "text/plain": [
       "\u001b[36mgoldenModel\u001b[39m: \u001b[32mScalaFirFilter\u001b[39m = ammonite.$sess.cmd3$Helper$ScalaFirFilter@3ab4a68\n",
       "\u001b[36mres8_1\u001b[39m: \u001b[32mBoolean\u001b[39m = true"
      ]
     },
     "execution_count": 9,
     "metadata": {},
     "output_type": "execute_result"
    }
   ],
   "source": [
    "val goldenModel = new ScalaFirFilter(Seq(1, 1, 1, 1))\n",
    "\n",
    "Driver(() => new MyManyElementFir(Seq(1, 1, 1, 1), 8)) {\n",
    "  c => new PeekPokeTester(c) {\n",
    "    for(i <- 0 until 100) {\n",
    "      val input = scala.util.Random.nextInt(8)\n",
    "\n",
    "      val goldenModelResult = goldenModel.poke(input)\n",
    "\n",
    "      poke(c.io.in, input)\n",
    "\n",
    "      expect(c.io.out, goldenModelResult, s\"i $i, input $input, gm $goldenModelResult, ${peek(c.io.out)}\")\n",
    "\n",
    "      step(1)\n",
    "    }\n",
    "  }\n",
    "}"
   ]
  },
  {
   "cell_type": "markdown",
   "metadata": {},
   "source": [
    "### Now let's test a bunch of different sized FIR filters\n",
    "We create some helper functions: `r` which gets a random number; `runOneTest` which creates a golden model and a hardware simulation of a filter for a particular set of taps, and then runs at least twice the number of taps worth of data through the filter."
   ]
  },
  {
   "cell_type": "code",
   "execution_count": 10,
   "metadata": {},
   "outputs": [
    {
     "name": "stdout",
     "output_type": "stream",
     "text": [
      "[\u001b[35minfo\u001b[0m] [0.000] Elaborating design...\n",
      "[\u001b[35minfo\u001b[0m] [0.025] Done elaborating.\n",
      "Total FIRRTL Compile Time: 64.8 ms\n",
      "Total FIRRTL Compile Time: 96.1 ms\n",
      "End of dependency graph\n",
      "Circuit state created\n",
      "[\u001b[35minfo\u001b[0m] [0.000] SEED 1575032037992\n",
      "test MyManyElementFir Success: 4 tests passed in 9 cycles taking 0.003419 seconds\n",
      "[\u001b[35minfo\u001b[0m] [0.004] RAN 4 CYCLES PASSED\n",
      "[\u001b[35minfo\u001b[0m] [0.000] Elaborating design...\n",
      "[\u001b[35minfo\u001b[0m] [0.104] Done elaborating.\n",
      "Total FIRRTL Compile Time: 99.7 ms\n",
      "Total FIRRTL Compile Time: 100.7 ms\n",
      "End of dependency graph\n",
      "Circuit state created\n",
      "[\u001b[35minfo\u001b[0m] [0.000] SEED 1575032038279\n",
      "test MyManyElementFir Success: 24 tests passed in 29 cycles taking 0.089063 seconds\n",
      "[\u001b[35minfo\u001b[0m] [0.064] RAN 24 CYCLES PASSED\n",
      "[\u001b[35minfo\u001b[0m] [0.000] Elaborating design...\n",
      "[\u001b[35minfo\u001b[0m] [0.011] Done elaborating.\n",
      "Total FIRRTL Compile Time: 103.0 ms\n",
      "Total FIRRTL Compile Time: 145.0 ms\n",
      "End of dependency graph\n",
      "Circuit state created\n",
      "[\u001b[35minfo\u001b[0m] [0.000] SEED 1575032038927\n",
      "test MyManyElementFir Success: 44 tests passed in 49 cycles taking 0.186091 seconds\n",
      "[\u001b[35minfo\u001b[0m] [0.181] RAN 44 CYCLES PASSED\n",
      "[\u001b[35minfo\u001b[0m] [0.000] Elaborating design...\n",
      "[\u001b[35minfo\u001b[0m] [0.105] Done elaborating.\n",
      "Total FIRRTL Compile Time: 114.9 ms\n",
      "Total FIRRTL Compile Time: 97.3 ms\n",
      "End of dependency graph\n",
      "Circuit state created\n",
      "[\u001b[35minfo\u001b[0m] [0.000] SEED 1575032039613\n",
      "test MyManyElementFir Success: 64 tests passed in 69 cycles taking 0.561904 seconds\n",
      "[\u001b[35minfo\u001b[0m] [0.554] RAN 64 CYCLES PASSED\n",
      "[\u001b[35minfo\u001b[0m] [0.000] Elaborating design...\n",
      "[\u001b[35minfo\u001b[0m] [0.072] Done elaborating.\n",
      "Total FIRRTL Compile Time: 135.3 ms\n",
      "Total FIRRTL Compile Time: 138.3 ms\n",
      "End of dependency graph\n",
      "Circuit state created\n",
      "[\u001b[35minfo\u001b[0m] [0.000] SEED 1575032040755\n",
      "test MyManyElementFir Success: 84 tests passed in 89 cycles taking 0.653651 seconds\n",
      "[\u001b[35minfo\u001b[0m] [0.576] RAN 84 CYCLES PASSED\n",
      "[\u001b[35minfo\u001b[0m] [0.000] Elaborating design...\n",
      "[\u001b[35minfo\u001b[0m] [0.079] Done elaborating.\n",
      "Total FIRRTL Compile Time: 122.7 ms\n",
      "Total FIRRTL Compile Time: 84.0 ms\n",
      "End of dependency graph\n",
      "Circuit state created\n",
      "[\u001b[35minfo\u001b[0m] [0.000] SEED 1575032042026\n",
      "test MyManyElementFir Success: 104 tests passed in 109 cycles taking 0.116692 seconds\n",
      "[\u001b[35minfo\u001b[0m] [0.114] RAN 104 CYCLES PASSED\n",
      "[\u001b[35minfo\u001b[0m] [0.000] Elaborating design...\n",
      "[\u001b[35minfo\u001b[0m] [0.086] Done elaborating.\n",
      "Total FIRRTL Compile Time: 519.1 ms\n",
      "Total FIRRTL Compile Time: 111.1 ms\n",
      "End of dependency graph\n",
      "Circuit state created\n",
      "[\u001b[35minfo\u001b[0m] [0.000] SEED 1575032042696\n",
      "test MyManyElementFir Success: 124 tests passed in 129 cycles taking 0.251171 seconds\n",
      "[\u001b[35minfo\u001b[0m] [0.226] RAN 124 CYCLES PASSED\n",
      "[\u001b[35minfo\u001b[0m] [0.000] Elaborating design...\n",
      "[\u001b[35minfo\u001b[0m] [0.169] Done elaborating.\n",
      "Total FIRRTL Compile Time: 435.1 ms\n",
      "Total FIRRTL Compile Time: 135.7 ms\n",
      "End of dependency graph\n",
      "Circuit state created\n",
      "[\u001b[35minfo\u001b[0m] [0.000] SEED 1575032044397\n",
      "test MyManyElementFir Success: 144 tests passed in 149 cycles taking 0.354552 seconds\n",
      "[\u001b[35minfo\u001b[0m] [0.295] RAN 144 CYCLES PASSED\n",
      "[\u001b[35minfo\u001b[0m] [0.000] Elaborating design...\n",
      "[\u001b[35minfo\u001b[0m] [0.110] Done elaborating.\n",
      "Total FIRRTL Compile Time: 279.3 ms\n",
      "Total FIRRTL Compile Time: 143.1 ms\n",
      "End of dependency graph\n",
      "Circuit state created\n",
      "[\u001b[35minfo\u001b[0m] [0.000] SEED 1575032045842\n",
      "test MyManyElementFir Success: 164 tests passed in 169 cycles taking 0.235700 seconds\n",
      "[\u001b[35minfo\u001b[0m] [0.223] RAN 164 CYCLES PASSED\n",
      "[\u001b[35minfo\u001b[0m] [0.000] Elaborating design...\n",
      "[\u001b[35minfo\u001b[0m] [0.097] Done elaborating.\n",
      "Total FIRRTL Compile Time: 181.0 ms\n",
      "Total FIRRTL Compile Time: 148.1 ms\n",
      "End of dependency graph\n",
      "Circuit state created\n",
      "[\u001b[35minfo\u001b[0m] [0.000] SEED 1575032046914\n",
      "test MyManyElementFir Success: 184 tests passed in 189 cycles taking 0.307330 seconds\n",
      "[\u001b[35minfo\u001b[0m] [0.301] RAN 184 CYCLES PASSED\n"
     ]
    },
    {
     "data": {
      "text/plain": [
       "defined \u001b[32mfunction\u001b[39m \u001b[36mr\u001b[39m\n",
       "defined \u001b[32mfunction\u001b[39m \u001b[36mrunOneTest\u001b[39m"
      ]
     },
     "execution_count": 10,
     "metadata": {},
     "output_type": "execute_result"
    }
   ],
   "source": [
    "/** a convenience method to get a random integer\n",
    "  */\n",
    "def r(): Int = {\n",
    "  scala.util.Random.nextInt(1024)\n",
    "}\n",
    "\n",
    "/**\n",
    "  * run a test comparing software and hardware filters\n",
    "  * run for at least twice as many samples as taps\n",
    "  */\n",
    "def runOneTest(taps: Seq[Int]) {\n",
    "  val goldenModel = new ScalaFirFilter(taps)\n",
    "\n",
    "  Driver(() => new MyManyElementFir(taps, 32)) {\n",
    "    c => new PeekPokeTester(c) {\n",
    "      for(i <- 0 until 2 * taps.length) {\n",
    "        val input = r()\n",
    "\n",
    "        val goldenModelResult = goldenModel.poke(input)\n",
    "\n",
    "        poke(c.io.in, input)\n",
    "\n",
    "        expect(c.io.out, goldenModelResult, s\"i $i, input $input, gm $goldenModelResult, ${peek(c.io.out)}\")\n",
    "\n",
    "        step(1)\n",
    "      }\n",
    "    }\n",
    "  }\n",
    "}\n",
    "\n",
    "for(tapSize <- 2 until 100 by 10) {\n",
    "  val taps = Seq.fill(tapSize)(r())  // create a sequence of random coefficients\n",
    "\n",
    "  runOneTest(taps)\n",
    "}"
   ]
  },
  {
   "cell_type": "markdown",
   "metadata": {},
   "source": [
    "### Just for fun, let's make a bigger one\n",
    "The following will run a single test on a 500 tap\n",
    "FIR filter.  It can take a minute or so to run.\n",
    "(Hint: Watch for the Scala ● to change to Scala ○ on the Toolbar when the execution completes.)"
   ]
  },
  {
   "cell_type": "code",
   "execution_count": 11,
   "metadata": {},
   "outputs": [
    {
     "name": "stdout",
     "output_type": "stream",
     "text": [
      "[\u001b[35minfo\u001b[0m] [0.000] Elaborating design...\n",
      "[\u001b[35minfo\u001b[0m] [0.086] Done elaborating.\n",
      "Total FIRRTL Compile Time: 689.4 ms\n",
      "Total FIRRTL Compile Time: 588.6 ms\n",
      "End of dependency graph\n",
      "Circuit state created\n",
      "[\u001b[35minfo\u001b[0m] [0.000] SEED 1575032048695\n",
      "test MyManyElementFir Success: 1000 tests passed in 1005 cycles taking 7.489493 seconds\n",
      "[\u001b[35minfo\u001b[0m] [7.445] RAN 1000 CYCLES PASSED\n"
     ]
    }
   ],
   "source": [
    "runOneTest(Seq.fill(500)(r()))"
   ]
  },
  {
   "cell_type": "code",
   "execution_count": 12,
   "metadata": {},
   "outputs": [
    {
     "name": "stdout",
     "output_type": "stream",
     "text": [
      "[\u001b[35minfo\u001b[0m] [0.000] Elaborating design...\n",
      "[\u001b[35minfo\u001b[0m] [0.087] Done elaborating.\n",
      "Total FIRRTL Compile Time: 793.8 ms\n",
      "Total FIRRTL Compile Time: 665.4 ms\n",
      "End of dependency graph\n",
      "Circuit state created\n",
      "[\u001b[35minfo\u001b[0m] [0.000] SEED 1575032061945\n",
      "test MyManyElementFir Success: 100 tests passed in 105 cycles taking 0.982896 seconds\n",
      "[\u001b[35minfo\u001b[0m] [0.876] RAN 100 CYCLES PASSED\n"
     ]
    },
    {
     "data": {
      "text/plain": [
       "\u001b[36mtaps\u001b[39m: \u001b[32mSeq\u001b[39m[\u001b[32mInt\u001b[39m] = \u001b[33mList\u001b[39m(\n",
       "  \u001b[32m1003\u001b[39m,\n",
       "  \u001b[32m161\u001b[39m,\n",
       "  \u001b[32m264\u001b[39m,\n",
       "  \u001b[32m100\u001b[39m,\n",
       "  \u001b[32m656\u001b[39m,\n",
       "  \u001b[32m789\u001b[39m,\n",
       "  \u001b[32m493\u001b[39m,\n",
       "  \u001b[32m924\u001b[39m,\n",
       "  \u001b[32m111\u001b[39m,\n",
       "  \u001b[32m759\u001b[39m,\n",
       "  \u001b[32m819\u001b[39m,\n",
       "  \u001b[32m583\u001b[39m,\n",
       "  \u001b[32m931\u001b[39m,\n",
       "  \u001b[32m638\u001b[39m,\n",
       "  \u001b[32m56\u001b[39m,\n",
       "  \u001b[32m839\u001b[39m,\n",
       "  \u001b[32m742\u001b[39m,\n",
       "  \u001b[32m450\u001b[39m,\n",
       "  \u001b[32m866\u001b[39m,\n",
       "  \u001b[32m44\u001b[39m,\n",
       "  \u001b[32m178\u001b[39m,\n",
       "  \u001b[32m665\u001b[39m,\n",
       "  \u001b[32m82\u001b[39m,\n",
       "  \u001b[32m603\u001b[39m,\n",
       "  \u001b[32m478\u001b[39m,\n",
       "  \u001b[32m826\u001b[39m,\n",
       "  \u001b[32m263\u001b[39m,\n",
       "  \u001b[32m200\u001b[39m,\n",
       "  \u001b[32m251\u001b[39m,\n",
       "  \u001b[32m722\u001b[39m,\n",
       "  \u001b[32m588\u001b[39m,\n",
       "  \u001b[32m299\u001b[39m,\n",
       "  \u001b[32m284\u001b[39m,\n",
       "  \u001b[32m634\u001b[39m,\n",
       "  \u001b[32m766\u001b[39m,\n",
       "  \u001b[32m835\u001b[39m,\n",
       "  \u001b[32m168\u001b[39m,\n",
       "  \u001b[32m122\u001b[39m,\n",
       "...\n",
       "\u001b[36mgoldenModel\u001b[39m: \u001b[32mScalaFirFilter\u001b[39m = ammonite.$sess.cmd3$Helper$ScalaFirFilter@47c238b8\n",
       "\u001b[36mres11_2\u001b[39m: \u001b[32mBoolean\u001b[39m = true"
      ]
     },
     "execution_count": 12,
     "metadata": {},
     "output_type": "execute_result"
    }
   ],
   "source": [
    "val taps = Seq.fill(500)(r())\n",
    "\n",
    "val goldenModel = new ScalaFirFilter(taps)\n",
    "\n",
    "Driver(() => new MyManyElementFir(taps, 32)) {\n",
    "  c => new PeekPokeTester(c) {\n",
    "    for(i <- 0 until 100) {\n",
    "      val input = r()\n",
    "\n",
    "      val goldenModelResult = goldenModel.poke(input)\n",
    "\n",
    "      poke(c.io.in, input)\n",
    "\n",
    "      expect(c.io.out, goldenModelResult, s\"i $i, input $input, gm $goldenModelResult, ${peek(c.io.out)}\")\n",
    "\n",
    "      step(1)\n",
    "    }\n",
    "  }\n",
    "}"
   ]
  },
  {
   "cell_type": "markdown",
   "metadata": {},
   "source": [
    "---\n",
    "# Hardware Collections\n",
    "\n",
    "<span style=\"color:blue\">**Example: Add run-time configurable taps to our FIR**</span><br>\n",
    "The following code adds an additional `consts` vector to the IO of our FIR generator which allows the coefficients to be changed externally after circuit generation.\n",
    "This is done with the Chisel collection type `Vec`.\n",
    "`Vec` supports many of the scala collection methods but it can only contain Chisel hardware elements.\n",
    "`Vec` should only be used in situations where ordinary Scala collections won't work.  \n",
    "Basically this is in one of two situations.\n",
    "1. You need a collection of elements in a Bundle, typically a Bundle that will be used as IO.\n",
    "1. You need to access the collection via an index that is part of the hardware (think Register File).\n"
   ]
  },
  {
   "cell_type": "code",
   "execution_count": 13,
   "metadata": {},
   "outputs": [
    {
     "data": {
      "text/plain": [
       "defined \u001b[32mclass\u001b[39m \u001b[36mMyManyDynamicElementVecFir\u001b[39m"
      ]
     },
     "execution_count": 13,
     "metadata": {},
     "output_type": "execute_result"
    }
   ],
   "source": [
    "class MyManyDynamicElementVecFir(length: Int) extends Module {\n",
    "  val io = IO(new Bundle {\n",
    "    val in = Input(UInt(8.W))\n",
    "    val out = Output(UInt(8.W))\n",
    "    val consts = Input(Vec(length, UInt(8.W)))\n",
    "  })\n",
    "\n",
    "  // Reference solution\n",
    "  val regs = RegInit(VecInit(Seq.fill(length - 1)(0.U(8.W))))\n",
    "  for(i <- 0 until length - 1) {\n",
    "      if(i == 0) regs(i) := io.in\n",
    "      else       regs(i) := regs(i - 1)\n",
    "  }\n",
    "  \n",
    "  val muls = Wire(Vec(length, UInt(8.W)))\n",
    "  for(i <- 0 until length) {\n",
    "      if(i == 0) muls(i) := io.in * io.consts(i)\n",
    "      else       muls(i) := regs(i - 1) * io.consts(i)\n",
    "  }\n",
    "\n",
    "  val scan = Wire(Vec(length, UInt(8.W)))\n",
    "  for(i <- 0 until length) {\n",
    "      if(i == 0) scan(i) := muls(i)\n",
    "      else scan(i) := muls(i) + scan(i - 1)\n",
    "  }\n",
    "\n",
    "  io.out := scan(length - 1)\n",
    "}"
   ]
  },
  {
   "cell_type": "code",
   "execution_count": 14,
   "metadata": {},
   "outputs": [
    {
     "name": "stdout",
     "output_type": "stream",
     "text": [
      "[\u001b[35minfo\u001b[0m] [0.000] Elaborating design...\n",
      "[\u001b[35minfo\u001b[0m] [0.098] Done elaborating.\n",
      "Total FIRRTL Compile Time: 57.7 ms\n",
      "Total FIRRTL Compile Time: 30.9 ms\n",
      "End of dependency graph\n",
      "Circuit state created\n",
      "[\u001b[35minfo\u001b[0m] [0.000] SEED 1575032281633\n",
      "test MyManyDynamicElementVecFir Success: 100 tests passed in 105 cycles taking 0.056403 seconds\n",
      "[\u001b[35minfo\u001b[0m] [0.045] RAN 100 CYCLES PASSED\n"
     ]
    },
    {
     "data": {
      "text/plain": [
       "\u001b[36mgoldenModel\u001b[39m: \u001b[32mScalaFirFilter\u001b[39m = ammonite.$sess.cmd3$Helper$ScalaFirFilter@3f24dc68\n",
       "\u001b[36mres13_1\u001b[39m: \u001b[32mBoolean\u001b[39m = true"
      ]
     },
     "execution_count": 14,
     "metadata": {},
     "output_type": "execute_result"
    }
   ],
   "source": [
    "val goldenModel = new ScalaFirFilter(Seq(1, 1, 1, 1))\n",
    "\n",
    "Driver(() => new MyManyDynamicElementVecFir(4)) {\n",
    "  c => new PeekPokeTester(c) {\n",
    "    poke(c.io.consts(0), 1)\n",
    "    poke(c.io.consts(1), 1)\n",
    "    poke(c.io.consts(2), 1)\n",
    "    poke(c.io.consts(3), 1)\n",
    "    for(i <- 0 until 100) {\n",
    "      val input = scala.util.Random.nextInt(8)\n",
    "\n",
    "      val goldenModelResult = goldenModel.poke(input)\n",
    "\n",
    "      poke(c.io.in, input)\n",
    "\n",
    "      expect(c.io.out, goldenModelResult, s\"i $i, input $input, gm $goldenModelResult, ${peek(c.io.out)}\")\n",
    "\n",
    "      step(1)\n",
    "    }\n",
    "  }\n",
    "}"
   ]
  },
  {
   "cell_type": "markdown",
   "metadata": {},
   "source": [
    "<span style=\"color:red\">**Exercise: 32-bit RISC-V Processor**</span><br><a name=\"fir-golden-model\"></a>\n",
    "\n",
    "A [register file](https://en.wikipedia.org/wiki/Register_file) is an important building block for making a processor.\n",
    "A register file is an array of registers that can be read from or written to via a number of read or write ports.\n",
    "Each port consists of an address and data field.\n",
    "\n",
    "The [RISC-V instruction set architecture](https://riscv.org/specifications/) defines several variants, the simplest of which is called RV32I.\n",
    "RV32I has a size-32 array of 32-bit registers.\n",
    "**The register at index 0 (the first register) is always zero when you read from it, regardless of what you write to it** (it's often useful to have 0 handy).\n",
    "\n",
    "Implement a register file for RV32I with a single write port and a paramterized number of read ports.\n",
    "Writes will only be performed when `wen` (write enable) is asserted."
   ]
  },
  {
   "cell_type": "code",
   "execution_count": 23,
   "metadata": {},
   "outputs": [
    {
     "data": {
      "text/plain": [
       "defined \u001b[32mclass\u001b[39m \u001b[36mRegisterFile\u001b[39m"
      ]
     },
     "execution_count": 23,
     "metadata": {},
     "output_type": "execute_result"
    }
   ],
   "source": [
    "class RegisterFile(readPorts: Int) extends Module {\n",
    "    require(readPorts >= 0)\n",
    "    val io = IO(new Bundle {\n",
    "        val wen   = Input(Bool())\n",
    "        val waddr = Input(UInt(5.W))\n",
    "        val wdata = Input(UInt(32.W))\n",
    "        val raddr = Input(Vec(readPorts, UInt(5.W)))\n",
    "        val rdata = Output(Vec(readPorts, UInt(32.W)))\n",
    "    })\n",
    "    \n",
    "    // A Register of a vector of UInts\n",
    "    val reg = RegInit(VecInit(Seq.fill(32)(0.U(32.W))))\n",
    "    \n",
    "    when(io.wen) {\n",
    "        reg(io.waddr) := io.wdata\n",
    "    }\n",
    "    for(i <- 0 until readPorts) {\n",
    "      when(io.raddr(i) === 0.U) { io.rdata(i) := 0.U }\n",
    "      .otherwise{io.rdata(i) := reg(i)}\n",
    "    }\n",
    "\n",
    "}"
   ]
  },
  {
   "cell_type": "code",
   "execution_count": 24,
   "metadata": {},
   "outputs": [
    {
     "name": "stdout",
     "output_type": "stream",
     "text": [
      "[\u001b[35minfo\u001b[0m] [0.000] Elaborating design...\n",
      "[\u001b[35minfo\u001b[0m] [0.067] Done elaborating.\n",
      "Total FIRRTL Compile Time: 82.4 ms\n",
      "Total FIRRTL Compile Time: 54.1 ms\n",
      "End of dependency graph\n",
      "Circuit state created\n",
      "[\u001b[35minfo\u001b[0m] [0.000] SEED 1575033033858\n",
      "[\u001b[35minfo\u001b[0m] [0.057] EXPECT AT 32   io_rdata_0 got 3 expected 13 FAIL\n",
      "[\u001b[35minfo\u001b[0m] [0.058] EXPECT AT 32   io_rdata_1 got 8 expected 18 FAIL\n",
      "[\u001b[35minfo\u001b[0m] [0.058] EXPECT AT 32   io_rdata_0 got 3 expected 23 FAIL\n",
      "[\u001b[35minfo\u001b[0m] [0.066] EXPECT AT 32   io_rdata_1 got 8 expected 28 FAIL\n",
      "[\u001b[35minfo\u001b[0m] [0.067] EXPECT AT 32   io_rdata_0 got 3 expected 33 FAIL\n",
      "[\u001b[35minfo\u001b[0m] [0.069] EXPECT AT 32   io_rdata_1 got 8 expected 38 FAIL\n",
      "[\u001b[35minfo\u001b[0m] [0.070] EXPECT AT 32   io_rdata_0 got 3 expected 43 FAIL\n",
      "[\u001b[35minfo\u001b[0m] [0.072] EXPECT AT 32   io_rdata_1 got 8 expected 48 FAIL\n",
      "[\u001b[35minfo\u001b[0m] [0.073] EXPECT AT 32   io_rdata_0 got 3 expected 53 FAIL\n",
      "[\u001b[35minfo\u001b[0m] [0.075] EXPECT AT 32   io_rdata_1 got 8 expected 58 FAIL\n",
      "[\u001b[35minfo\u001b[0m] [0.075] EXPECT AT 32   io_rdata_0 got 3 expected 63 FAIL\n",
      "[\u001b[35minfo\u001b[0m] [0.076] EXPECT AT 32   io_rdata_1 got 8 expected 68 FAIL\n",
      "[\u001b[35minfo\u001b[0m] [0.077] EXPECT AT 32   io_rdata_0 got 3 expected 73 FAIL\n",
      "[\u001b[35minfo\u001b[0m] [0.077] EXPECT AT 32   io_rdata_1 got 8 expected 78 FAIL\n",
      "[\u001b[35minfo\u001b[0m] [0.078] EXPECT AT 32   io_rdata_0 got 3 expected 83 FAIL\n",
      "[\u001b[35minfo\u001b[0m] [0.080] EXPECT AT 32   io_rdata_1 got 8 expected 88 FAIL\n",
      "[\u001b[35minfo\u001b[0m] [0.080] EXPECT AT 32   io_rdata_0 got 3 expected 93 FAIL\n",
      "[\u001b[35minfo\u001b[0m] [0.081] EXPECT AT 32   io_rdata_1 got 8 expected 98 FAIL\n",
      "[\u001b[35minfo\u001b[0m] [0.082] EXPECT AT 32   io_rdata_0 got 3 expected 103 FAIL\n",
      "[\u001b[35minfo\u001b[0m] [0.082] EXPECT AT 32   io_rdata_1 got 8 expected 108 FAIL\n",
      "[\u001b[35minfo\u001b[0m] [0.085] EXPECT AT 32   io_rdata_0 got 3 expected 113 FAIL\n",
      "[\u001b[35minfo\u001b[0m] [0.087] EXPECT AT 32   io_rdata_1 got 8 expected 118 FAIL\n",
      "[\u001b[35minfo\u001b[0m] [0.100] EXPECT AT 32   io_rdata_0 got 3 expected 123 FAIL\n",
      "[\u001b[35minfo\u001b[0m] [0.102] EXPECT AT 32   io_rdata_1 got 8 expected 128 FAIL\n",
      "[\u001b[35minfo\u001b[0m] [0.105] EXPECT AT 32   io_rdata_0 got 3 expected 133 FAIL\n",
      "[\u001b[35minfo\u001b[0m] [0.107] EXPECT AT 32   io_rdata_1 got 8 expected 138 FAIL\n",
      "[\u001b[35minfo\u001b[0m] [0.109] EXPECT AT 32   io_rdata_0 got 3 expected 143 FAIL\n",
      "[\u001b[35minfo\u001b[0m] [0.110] EXPECT AT 32   io_rdata_1 got 8 expected 148 FAIL\n",
      "[\u001b[35minfo\u001b[0m] [0.111] EXPECT AT 32   io_rdata_0 got 3 expected 153 FAIL\n",
      "[\u001b[35minfo\u001b[0m] [0.112] EXPECT AT 32   io_rdata_1 got 8 expected 158 FAIL\n",
      "test RegisterFile Success: 66 tests passed in 37 cycles taking 0.114526 seconds\n",
      "[\u001b[35minfo\u001b[0m] [0.112] RAN 32 CYCLES FAILED FIRST AT CYCLE 32\n"
     ]
    },
    {
     "data": {
      "text/plain": [
       "\u001b[36mres23\u001b[39m: \u001b[32mBoolean\u001b[39m = false"
      ]
     },
     "execution_count": 24,
     "metadata": {},
     "output_type": "execute_result"
    }
   ],
   "source": [
    "chisel3.iotesters.Driver(() => new RegisterFile(2) ) { c => new PeekPokeTester(c) {\n",
    "    def readExpect(addr: Int, value: Int, port: Int = 0): Unit = {\n",
    "        poke(c.io.raddr(port), addr)\n",
    "        expect(c.io.rdata(port), value)\n",
    "    }\n",
    "    def write(addr: Int, value: Int): Unit = {\n",
    "        poke(c.io.wen, 1)\n",
    "        poke(c.io.wdata, value)\n",
    "        poke(c.io.waddr, addr)\n",
    "        step(1)\n",
    "        poke(c.io.wen, 0)\n",
    "    }\n",
    "    // everything should be 0 on init\n",
    "    for (i <- 0 until 32) {\n",
    "        readExpect(i, 0, port = 0)\n",
    "        readExpect(i, 0, port = 1)\n",
    "    }\n",
    "\n",
    "    // write 5 * addr + 3\n",
    "    for (i <- 0 until 32) {\n",
    "        write(i, 5 * i + 3)\n",
    "    }\n",
    "\n",
    "    // check that the writes worked\n",
    "    for (i <- 0 until 32) {\n",
    "        readExpect(i, if (i == 0) 0 else 5 * i + 3, port = i % 2)\n",
    "    }\n",
    "\n",
    "}}"
   ]
  },
  {
   "cell_type": "markdown",
   "metadata": {},
   "source": [
    "<div id=\"container\"><section id=\"accordion\"><div>\n",
    "<input type=\"checkbox\" id=\"check-1\" />\n",
    "<label for=\"check-1\"><strong>Solution</strong></label>\n",
    "<article>\n",
    "<pre style=\"background-color:#f7f7f7\">\n",
    "    when (io.wen) {\n",
    "        reg(io.waddr) := io.wdata\n",
    "    }\n",
    "    for (i &lt;- 0 until readPorts) {\n",
    "        when (io.raddr(i) === 0.U) {\n",
    "            io.rdata(i) := 0.U\n",
    "        } .otherwise {\n",
    "            io.rdata(i) := reg(io.raddr(i))\n",
    "        }\n",
    "    }\n",
    "\n",
    "</pre></article></div></section></div>"
   ]
  },
  {
   "cell_type": "markdown",
   "metadata": {},
   "source": [
    "---\n",
    "# You're done!\n",
    "\n",
    "[Return to the top.](#top)"
   ]
  },
  {
   "cell_type": "code",
   "execution_count": null,
   "metadata": {},
   "outputs": [],
   "source": []
  }
 ],
 "metadata": {
  "kernelspec": {
   "display_name": "Scala",
   "language": "scala",
   "name": "scala"
  },
  "language_info": {
   "codemirror_mode": "text/x-scala",
   "file_extension": ".scala",
   "mimetype": "text/x-scala",
   "name": "scala",
   "nbconvert_exporter": "script",
   "version": "2.12.8"
  }
 },
 "nbformat": 4,
 "nbformat_minor": 2
}
