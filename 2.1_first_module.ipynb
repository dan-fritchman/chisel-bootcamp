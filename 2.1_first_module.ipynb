{
 "cells": [
  {
   "cell_type": "markdown",
   "metadata": {},
   "source": [
    "<a name=\"top\"></a><img src=\"images/chisel_1024.png\" alt=\"Chisel logo\" style=\"width:480px;\" />"
   ]
  },
  {
   "cell_type": "markdown",
   "metadata": {
    "collapsed": true
   },
   "source": [
    "# Module 2.1: Your First Chisel Module\n",
    "**Prev: [Introduction to Scala](1_intro_to_scala.ipynb)**<br>\n",
    "**Next: [Combinational Logic](2.2_comb_logic.ipynb)**\n",
    "\n",
    "## Motivation\n",
    "Now that you are familiar with Scala, let's start carving out some hardware! Chisel stands for **C**onstructing **H**ardware **I**n a **S**cala **E**mbedded **L**anguage. That means it is a DSL in Scala, allowing you to take advantage of both Scala and Chisel programming within the same code. It is important to understand which code is \"Scala\" and which code is \"Chisel\", but we will discuss that more later. For now, think of Chisel and the code in Module 2 as a better way to write Verilog. This module throws an entire Chisel `Module` and tester at you. Just get the gist of it for now. You'll see plenty more examples later."
   ]
  },
  {
   "cell_type": "markdown",
   "metadata": {},
   "source": [
    "## Setup\n",
    "The following cell downloads the dependencies needed for Chisel. You will see it in all future notebooks. **Run this cell now**."
   ]
  },
  {
   "cell_type": "code",
   "execution_count": 1,
   "metadata": {},
   "outputs": [
    {
     "name": "stdout",
     "output_type": "stream",
     "text": [
      "Compiling /Users/dan/dev/dan-fritchman/chisel-bootcamp/Main.sc"
     ]
    },
    {
     "name": "stderr",
     "output_type": "stream",
     "text": [
      "Downloading https://repo1.maven.org/maven2/edu/berkeley/cs/chisel3_2.12/3.2-SNAPSHOT/chisel3_2.12-3.2-SNAPSHOT.pom\n",
      "Downloading https://repo1.maven.org/maven2/edu/berkeley/cs/chisel3_2.12/3.2-SNAPSHOT/chisel3_2.12-3.2-SNAPSHOT.pom.sha1\n",
      "Downloading https://repo1.maven.org/maven2/edu/berkeley/cs/chisel3_2.12/3.2-SNAPSHOT/maven-metadata.xml\n",
      "Downloading https://repo1.maven.org/maven2/edu/berkeley/cs/chisel3_2.12/3.2-SNAPSHOT/maven-metadata.xml.sha1\n",
      "Checking https://oss.sonatype.org/content/repositories/snapshots/edu/berkeley/cs/chisel3_2.12/3.2-SNAPSHOT/chisel3_2.12-3.2-SNAPSHOT.pom.sha1\n",
      "Checking https://oss.sonatype.org/content/repositories/snapshots/edu/berkeley/cs/chisel3_2.12/3.2-SNAPSHOT/chisel3_2.12-3.2-SNAPSHOT.pom\n",
      "Checked https://oss.sonatype.org/content/repositories/snapshots/edu/berkeley/cs/chisel3_2.12/3.2-SNAPSHOT/chisel3_2.12-3.2-SNAPSHOT.pom\n",
      "Checked https://oss.sonatype.org/content/repositories/snapshots/edu/berkeley/cs/chisel3_2.12/3.2-SNAPSHOT/chisel3_2.12-3.2-SNAPSHOT.pom.sha1\n",
      "Checking https://oss.sonatype.org/content/repositories/snapshots/edu/berkeley/cs/chisel3_2.12/3.2-SNAPSHOT/\n",
      "Downloading https://oss.sonatype.org/content/repositories/snapshots/edu/berkeley/cs/chisel3_2.12/3.2-SNAPSHOT/\n",
      "Downloaded https://oss.sonatype.org/content/repositories/snapshots/edu/berkeley/cs/chisel3_2.12/3.2-SNAPSHOT/\n",
      "Downloading https://repo1.maven.org/maven2/edu/berkeley/cs/firrtl_2.12/1.2-SNAPSHOT/firrtl_2.12-1.2-SNAPSHOT.pom.sha1\n",
      "Downloading https://repo1.maven.org/maven2/edu/berkeley/cs/firrtl_2.12/1.2-SNAPSHOT/firrtl_2.12-1.2-SNAPSHOT.pom\n",
      "Downloading https://repo1.maven.org/maven2/edu/berkeley/cs/firrtl_2.12/1.2-SNAPSHOT/maven-metadata.xml.sha1\n",
      "Downloading https://repo1.maven.org/maven2/edu/berkeley/cs/firrtl_2.12/1.2-SNAPSHOT/maven-metadata.xml\n",
      "Checking https://oss.sonatype.org/content/repositories/snapshots/edu/berkeley/cs/firrtl_2.12/1.2-SNAPSHOT/firrtl_2.12-1.2-SNAPSHOT.pom\n",
      "Checking https://oss.sonatype.org/content/repositories/snapshots/edu/berkeley/cs/firrtl_2.12/1.2-SNAPSHOT/firrtl_2.12-1.2-SNAPSHOT.pom.sha1\n",
      "Checked https://oss.sonatype.org/content/repositories/snapshots/edu/berkeley/cs/firrtl_2.12/1.2-SNAPSHOT/firrtl_2.12-1.2-SNAPSHOT.pom\n",
      "Checked https://oss.sonatype.org/content/repositories/snapshots/edu/berkeley/cs/firrtl_2.12/1.2-SNAPSHOT/firrtl_2.12-1.2-SNAPSHOT.pom.sha1\n",
      "Checking https://oss.sonatype.org/content/repositories/snapshots/edu/berkeley/cs/firrtl_2.12/1.2-SNAPSHOT/\n",
      "Downloading https://oss.sonatype.org/content/repositories/snapshots/edu/berkeley/cs/firrtl_2.12/1.2-SNAPSHOT/\n",
      "Downloaded https://oss.sonatype.org/content/repositories/snapshots/edu/berkeley/cs/firrtl_2.12/1.2-SNAPSHOT/\n",
      "Checking https://oss.sonatype.org/content/repositories/snapshots/edu/berkeley/cs/firrtl_2.12/1.2-SNAPSHOT/firrtl_2.12-1.2-SNAPSHOT.jar.sha1\n",
      "Checking https://oss.sonatype.org/content/repositories/snapshots/edu/berkeley/cs/chisel3_2.12/3.2-SNAPSHOT/chisel3_2.12-3.2-SNAPSHOT.jar.sha1\n",
      "Checking https://oss.sonatype.org/content/repositories/snapshots/edu/berkeley/cs/chisel3_2.12/3.2-SNAPSHOT/chisel3_2.12-3.2-SNAPSHOT.jar\n",
      "Checking https://oss.sonatype.org/content/repositories/snapshots/edu/berkeley/cs/firrtl_2.12/1.2-SNAPSHOT/firrtl_2.12-1.2-SNAPSHOT.jar\n",
      "Checked https://oss.sonatype.org/content/repositories/snapshots/edu/berkeley/cs/chisel3_2.12/3.2-SNAPSHOT/chisel3_2.12-3.2-SNAPSHOT.jar.sha1\n",
      "Checked https://oss.sonatype.org/content/repositories/snapshots/edu/berkeley/cs/firrtl_2.12/1.2-SNAPSHOT/firrtl_2.12-1.2-SNAPSHOT.jar\n",
      "Checked https://oss.sonatype.org/content/repositories/snapshots/edu/berkeley/cs/firrtl_2.12/1.2-SNAPSHOT/firrtl_2.12-1.2-SNAPSHOT.jar.sha1\n",
      "Checked https://oss.sonatype.org/content/repositories/snapshots/edu/berkeley/cs/chisel3_2.12/3.2-SNAPSHOT/chisel3_2.12-3.2-SNAPSHOT.jar\n",
      "Checking https://oss.sonatype.org/content/repositories/snapshots/edu/berkeley/cs/chisel3_2.12/3.2-SNAPSHOT/chisel3_2.12-3.2-SNAPSHOT-sources.jar\n",
      "Checking https://oss.sonatype.org/content/repositories/snapshots/edu/berkeley/cs/chisel3_2.12/3.2-SNAPSHOT/chisel3_2.12-3.2-SNAPSHOT-sources.jar.sha1\n",
      "Checking https://oss.sonatype.org/content/repositories/snapshots/edu/berkeley/cs/firrtl_2.12/1.2-SNAPSHOT/firrtl_2.12-1.2-SNAPSHOT-sources.jar\n",
      "Checking https://oss.sonatype.org/content/repositories/snapshots/edu/berkeley/cs/firrtl_2.12/1.2-SNAPSHOT/firrtl_2.12-1.2-SNAPSHOT-sources.jar.sha1\n",
      "Checked https://oss.sonatype.org/content/repositories/snapshots/edu/berkeley/cs/chisel3_2.12/3.2-SNAPSHOT/chisel3_2.12-3.2-SNAPSHOT-sources.jar\n",
      "Checked https://oss.sonatype.org/content/repositories/snapshots/edu/berkeley/cs/firrtl_2.12/1.2-SNAPSHOT/firrtl_2.12-1.2-SNAPSHOT-sources.jar.sha1\n",
      "Checked https://oss.sonatype.org/content/repositories/snapshots/edu/berkeley/cs/chisel3_2.12/3.2-SNAPSHOT/chisel3_2.12-3.2-SNAPSHOT-sources.jar.sha1\n",
      "Checked https://oss.sonatype.org/content/repositories/snapshots/edu/berkeley/cs/firrtl_2.12/1.2-SNAPSHOT/firrtl_2.12-1.2-SNAPSHOT-sources.jar\n",
      "Downloading https://repo1.maven.org/maven2/edu/berkeley/cs/chisel-iotesters_2.12/1.3-SNAPSHOT/chisel-iotesters_2.12-1.3-SNAPSHOT.pom.sha1\n",
      "Downloading https://repo1.maven.org/maven2/edu/berkeley/cs/chisel-iotesters_2.12/1.3-SNAPSHOT/chisel-iotesters_2.12-1.3-SNAPSHOT.pom\n",
      "Downloading https://repo1.maven.org/maven2/edu/berkeley/cs/chisel-iotesters_2.12/1.3-SNAPSHOT/maven-metadata.xml.sha1\n",
      "Downloading https://repo1.maven.org/maven2/edu/berkeley/cs/chisel-iotesters_2.12/1.3-SNAPSHOT/maven-metadata.xml\n",
      "Checking https://oss.sonatype.org/content/repositories/snapshots/edu/berkeley/cs/chisel-iotesters_2.12/1.3-SNAPSHOT/chisel-iotesters_2.12-1.3-SNAPSHOT.pom\n",
      "Checking https://oss.sonatype.org/content/repositories/snapshots/edu/berkeley/cs/chisel-iotesters_2.12/1.3-SNAPSHOT/chisel-iotesters_2.12-1.3-SNAPSHOT.pom.sha1\n",
      "Checked https://oss.sonatype.org/content/repositories/snapshots/edu/berkeley/cs/chisel-iotesters_2.12/1.3-SNAPSHOT/chisel-iotesters_2.12-1.3-SNAPSHOT.pom.sha1\n",
      "Checked https://oss.sonatype.org/content/repositories/snapshots/edu/berkeley/cs/chisel-iotesters_2.12/1.3-SNAPSHOT/chisel-iotesters_2.12-1.3-SNAPSHOT.pom\n",
      "Checking https://oss.sonatype.org/content/repositories/snapshots/edu/berkeley/cs/chisel-iotesters_2.12/1.3-SNAPSHOT/\n",
      "Downloading https://oss.sonatype.org/content/repositories/snapshots/edu/berkeley/cs/chisel-iotesters_2.12/1.3-SNAPSHOT/\n",
      "Downloaded https://oss.sonatype.org/content/repositories/snapshots/edu/berkeley/cs/chisel-iotesters_2.12/1.3-SNAPSHOT/\n",
      "Downloading https://repo1.maven.org/maven2/edu/berkeley/cs/firrtl-interpreter_2.12/1.2-SNAPSHOT/firrtl-interpreter_2.12-1.2-SNAPSHOT.pom\n",
      "Downloading https://repo1.maven.org/maven2/edu/berkeley/cs/firrtl_2.12/1.2-SNAPSHOT/firrtl_2.12-1.2-SNAPSHOT.pom\n",
      "Downloading https://repo1.maven.org/maven2/edu/berkeley/cs/firrtl-interpreter_2.12/1.2-SNAPSHOT/firrtl-interpreter_2.12-1.2-SNAPSHOT.pom.sha1\n",
      "Downloading https://repo1.maven.org/maven2/edu/berkeley/cs/firrtl_2.12/1.2-SNAPSHOT/firrtl_2.12-1.2-SNAPSHOT.pom.sha1\n",
      "Downloading https://repo1.maven.org/maven2/edu/berkeley/cs/chisel3_2.12/3.2-SNAPSHOT/chisel3_2.12-3.2-SNAPSHOT.pom\n",
      "Downloading https://repo1.maven.org/maven2/edu/berkeley/cs/treadle_2.12/1.1-SNAPSHOT/treadle_2.12-1.1-SNAPSHOT.pom\n",
      "Downloading https://repo1.maven.org/maven2/edu/berkeley/cs/treadle_2.12/1.1-SNAPSHOT/treadle_2.12-1.1-SNAPSHOT.pom.sha1\n",
      "Downloading https://repo1.maven.org/maven2/edu/berkeley/cs/chisel3_2.12/3.2-SNAPSHOT/chisel3_2.12-3.2-SNAPSHOT.pom.sha1\n",
      "Downloading https://repo1.maven.org/maven2/edu/berkeley/cs/firrtl_2.12/1.2-SNAPSHOT/maven-metadata.xml\n",
      "Downloading https://repo1.maven.org/maven2/edu/berkeley/cs/firrtl_2.12/1.2-SNAPSHOT/maven-metadata.xml.sha1\n",
      "Downloading https://repo1.maven.org/maven2/edu/berkeley/cs/chisel3_2.12/3.2-SNAPSHOT/maven-metadata.xml.sha1\n",
      "Downloading https://repo1.maven.org/maven2/edu/berkeley/cs/treadle_2.12/1.1-SNAPSHOT/maven-metadata.xml\n",
      "Downloading https://repo1.maven.org/maven2/edu/berkeley/cs/chisel3_2.12/3.2-SNAPSHOT/maven-metadata.xml\n",
      "Downloading https://repo1.maven.org/maven2/edu/berkeley/cs/treadle_2.12/1.1-SNAPSHOT/maven-metadata.xml.sha1\n",
      "Downloading https://repo1.maven.org/maven2/edu/berkeley/cs/firrtl-interpreter_2.12/1.2-SNAPSHOT/maven-metadata.xml\n",
      "Downloading https://repo1.maven.org/maven2/edu/berkeley/cs/firrtl-interpreter_2.12/1.2-SNAPSHOT/maven-metadata.xml.sha1\n"
     ]
    },
    {
     "name": "stderr",
     "output_type": "stream",
     "text": [
      "Checking https://oss.sonatype.org/content/repositories/snapshots/edu/berkeley/cs/treadle_2.12/1.1-SNAPSHOT/treadle_2.12-1.1-SNAPSHOT.pom\n",
      "Checking https://oss.sonatype.org/content/repositories/snapshots/edu/berkeley/cs/treadle_2.12/1.1-SNAPSHOT/treadle_2.12-1.1-SNAPSHOT.pom.sha1\n",
      "Checking https://oss.sonatype.org/content/repositories/snapshots/edu/berkeley/cs/firrtl-interpreter_2.12/1.2-SNAPSHOT/firrtl-interpreter_2.12-1.2-SNAPSHOT.pom.sha1\n",
      "Checking https://oss.sonatype.org/content/repositories/snapshots/edu/berkeley/cs/firrtl-interpreter_2.12/1.2-SNAPSHOT/firrtl-interpreter_2.12-1.2-SNAPSHOT.pom\n",
      "Checked https://oss.sonatype.org/content/repositories/snapshots/edu/berkeley/cs/treadle_2.12/1.1-SNAPSHOT/treadle_2.12-1.1-SNAPSHOT.pom\n",
      "Checked https://oss.sonatype.org/content/repositories/snapshots/edu/berkeley/cs/firrtl-interpreter_2.12/1.2-SNAPSHOT/firrtl-interpreter_2.12-1.2-SNAPSHOT.pom.sha1\n",
      "Checked https://oss.sonatype.org/content/repositories/snapshots/edu/berkeley/cs/firrtl-interpreter_2.12/1.2-SNAPSHOT/firrtl-interpreter_2.12-1.2-SNAPSHOT.pom\n",
      "Checked https://oss.sonatype.org/content/repositories/snapshots/edu/berkeley/cs/treadle_2.12/1.1-SNAPSHOT/treadle_2.12-1.1-SNAPSHOT.pom.sha1\n",
      "Checking https://oss.sonatype.org/content/repositories/snapshots/edu/berkeley/cs/firrtl-interpreter_2.12/1.2-SNAPSHOT/\n",
      "Checking https://oss.sonatype.org/content/repositories/snapshots/edu/berkeley/cs/treadle_2.12/1.1-SNAPSHOT/\n",
      "Downloading https://oss.sonatype.org/content/repositories/snapshots/edu/berkeley/cs/firrtl-interpreter_2.12/1.2-SNAPSHOT/\n",
      "Downloading https://oss.sonatype.org/content/repositories/snapshots/edu/berkeley/cs/treadle_2.12/1.1-SNAPSHOT/\n",
      "Downloaded https://oss.sonatype.org/content/repositories/snapshots/edu/berkeley/cs/firrtl-interpreter_2.12/1.2-SNAPSHOT/\n",
      "Downloaded https://oss.sonatype.org/content/repositories/snapshots/edu/berkeley/cs/treadle_2.12/1.1-SNAPSHOT/\n",
      "Checking https://oss.sonatype.org/content/repositories/snapshots/edu/berkeley/cs/firrtl-interpreter_2.12/1.2-SNAPSHOT/firrtl-interpreter_2.12-1.2-SNAPSHOT.jar.sha1\n",
      "Checking https://oss.sonatype.org/content/repositories/snapshots/edu/berkeley/cs/treadle_2.12/1.1-SNAPSHOT/treadle_2.12-1.1-SNAPSHOT.jar\n",
      "Checking https://oss.sonatype.org/content/repositories/snapshots/edu/berkeley/cs/treadle_2.12/1.1-SNAPSHOT/treadle_2.12-1.1-SNAPSHOT.jar.sha1\n",
      "Checking https://oss.sonatype.org/content/repositories/snapshots/edu/berkeley/cs/firrtl-interpreter_2.12/1.2-SNAPSHOT/firrtl-interpreter_2.12-1.2-SNAPSHOT.jar\n",
      "Checking https://oss.sonatype.org/content/repositories/snapshots/edu/berkeley/cs/chisel-iotesters_2.12/1.3-SNAPSHOT/chisel-iotesters_2.12-1.3-SNAPSHOT.jar.sha1\n",
      "Checking https://oss.sonatype.org/content/repositories/snapshots/edu/berkeley/cs/chisel-iotesters_2.12/1.3-SNAPSHOT/chisel-iotesters_2.12-1.3-SNAPSHOT.jar\n",
      "https://oss.sonatype.org/content/repositories/snapshots/edu/be… Checking for up…\n",
      "https://oss.sonatype.org/content/repositories/snapshots/edu/be… Checking for up…\n",
      "https://oss.sonatype.org/content/repositories/snapshots/edu/be… Checking for up…\n",
      "https://oss.sonatype.org/content/repositories/snapshots/edu/be… Checking for up…\n",
      "https://oss.sonatype.org/content/repositories/snapshots/edu/be… Checking for up…\n",
      "https://oss.sonatype.org/content/repositories/snapshots/edu/be… Checking for up…\n",
      "\n",
      "https://oss.sonatype.org/content/repositories/snapshots/edu/be… Checking for up…\n",
      "https://oss.sonatype.org/content/repositories/snapshots/edu/be… Checking for up…\n",
      "https://oss.sonatype.org/content/repositories/snapshots/edu/be… Checking for up…\n",
      "https://oss.sonatype.org/content/repositories/snapshots/edu/be… Checking for up…\n",
      "https://oss.sonatype.org/content/repositories/snapshots/edu/be… Checking for up…\n",
      "https://oss.sonatype.org/content/repositories/snapshots/edu/be… Checking for up…\n",
      "\n",
      "https://oss.sonatype.org/content/repositories/snapshots/edu/be… Checking for up…\n",
      "https://oss.sonatype.org/content/repositories/snapshots/edu/be… Checking for up…\n",
      "https://oss.sonatype.org/content/repositories/snapshots/edu/be… Checking for up…\n",
      "https://oss.sonatype.org/content/repositories/snapshots/edu/be… Checking for up…\n",
      "https://oss.sonatype.org/content/repositories/snapshots/edu/be… Checking for up…\n",
      "https://oss.sonatype.org/content/repositories/snapshots/edu/be… Checking for up…\n",
      "\n",
      "https://oss.sonatype.org/content/repositories/snapshots/edu/be… Checking for up…\n",
      "https://oss.sonatype.org/content/repositories/snapshots/edu/be… Checking for up…\n",
      "https://oss.sonatype.org/content/repositories/snapshots/edu/be… Checking for up…\n",
      "https://oss.sonatype.org/content/repositories/snapshots/edu/be… Checking for up…\n",
      "https://oss.sonatype.org/content/repositories/snapshots/edu/be… Checking for up…\n",
      "https://oss.sonatype.org/content/repositories/snapshots/edu/be… Checking for up…\n",
      "\n",
      "Checked https://oss.sonatype.org/content/repositories/snapshots/edu/berkeley/cs/treadle_2.12/1.1-SNAPSHOT/treadle_2.12-1.1-SNAPSHOT.jar.sha1\n",
      "Checked https://oss.sonatype.org/content/repositories/snapshots/edu/berkeley/cs/chisel-iotesters_2.12/1.3-SNAPSHOT/chisel-iotesters_2.12-1.3-SNAPSHOT.jar.sha1\n",
      "Checked https://oss.sonatype.org/content/repositories/snapshots/edu/berkeley/cs/chisel-iotesters_2.12/1.3-SNAPSHOT/chisel-iotesters_2.12-1.3-SNAPSHOT.jar\n",
      "Checked https://oss.sonatype.org/content/repositories/snapshots/edu/berkeley/cs/treadle_2.12/1.1-SNAPSHOT/treadle_2.12-1.1-SNAPSHOT.jar\n",
      "Checked https://oss.sonatype.org/content/repositories/snapshots/edu/berkeley/cs/firrtl-interpreter_2.12/1.2-SNAPSHOT/firrtl-interpreter_2.12-1.2-SNAPSHOT.jar.sha1\n",
      "Checked https://oss.sonatype.org/content/repositories/snapshots/edu/berkeley/cs/firrtl-interpreter_2.12/1.2-SNAPSHOT/firrtl-interpreter_2.12-1.2-SNAPSHOT.jar\n",
      "Checking https://oss.sonatype.org/content/repositories/snapshots/edu/berkeley/cs/firrtl-interpreter_2.12/1.2-SNAPSHOT/firrtl-interpreter_2.12-1.2-SNAPSHOT-sources.jar\n",
      "Checking https://oss.sonatype.org/content/repositories/snapshots/edu/berkeley/cs/firrtl-interpreter_2.12/1.2-SNAPSHOT/firrtl-interpreter_2.12-1.2-SNAPSHOT-sources.jar.sha1\n",
      "Checking https://oss.sonatype.org/content/repositories/snapshots/edu/berkeley/cs/chisel-iotesters_2.12/1.3-SNAPSHOT/chisel-iotesters_2.12-1.3-SNAPSHOT-sources.jar\n",
      "Checking https://oss.sonatype.org/content/repositories/snapshots/edu/berkeley/cs/treadle_2.12/1.1-SNAPSHOT/treadle_2.12-1.1-SNAPSHOT-sources.jar\n",
      "Checking https://oss.sonatype.org/content/repositories/snapshots/edu/berkeley/cs/chisel-iotesters_2.12/1.3-SNAPSHOT/chisel-iotesters_2.12-1.3-SNAPSHOT-sources.jar.sha1\n",
      "Checking https://oss.sonatype.org/content/repositories/snapshots/edu/berkeley/cs/treadle_2.12/1.1-SNAPSHOT/treadle_2.12-1.1-SNAPSHOT-sources.jar.sha1\n",
      "Checked https://oss.sonatype.org/content/repositories/snapshots/edu/berkeley/cs/chisel-iotesters_2.12/1.3-SNAPSHOT/chisel-iotesters_2.12-1.3-SNAPSHOT-sources.jar.sha1\n",
      "Checked https://oss.sonatype.org/content/repositories/snapshots/edu/berkeley/cs/firrtl-interpreter_2.12/1.2-SNAPSHOT/firrtl-interpreter_2.12-1.2-SNAPSHOT-sources.jar\n",
      "Checked https://oss.sonatype.org/content/repositories/snapshots/edu/berkeley/cs/chisel-iotesters_2.12/1.3-SNAPSHOT/chisel-iotesters_2.12-1.3-SNAPSHOT-sources.jar\n",
      "Checked https://oss.sonatype.org/content/repositories/snapshots/edu/berkeley/cs/treadle_2.12/1.1-SNAPSHOT/treadle_2.12-1.1-SNAPSHOT-sources.jar\n",
      "Checked https://oss.sonatype.org/content/repositories/snapshots/edu/berkeley/cs/firrtl-interpreter_2.12/1.2-SNAPSHOT/firrtl-interpreter_2.12-1.2-SNAPSHOT-sources.jar.sha1\n",
      "Checked https://oss.sonatype.org/content/repositories/snapshots/edu/berkeley/cs/treadle_2.12/1.1-SNAPSHOT/treadle_2.12-1.1-SNAPSHOT-sources.jar.sha1\n",
      "Downloading https://repo1.maven.org/maven2/edu/berkeley/cs/chisel-testers2_2.12/0.1-SNAPSHOT/chisel-testers2_2.12-0.1-SNAPSHOT.pom\n",
      "Downloading https://repo1.maven.org/maven2/edu/berkeley/cs/chisel-testers2_2.12/0.1-SNAPSHOT/chisel-testers2_2.12-0.1-SNAPSHOT.pom.sha1\n",
      "Downloading https://repo1.maven.org/maven2/edu/berkeley/cs/chisel-testers2_2.12/0.1-SNAPSHOT/maven-metadata.xml\n",
      "Downloading https://repo1.maven.org/maven2/edu/berkeley/cs/chisel-testers2_2.12/0.1-SNAPSHOT/maven-metadata.xml.sha1\n",
      "Checking https://oss.sonatype.org/content/repositories/snapshots/edu/berkeley/cs/chisel-testers2_2.12/0.1-SNAPSHOT/chisel-testers2_2.12-0.1-SNAPSHOT.pom\n"
     ]
    },
    {
     "name": "stderr",
     "output_type": "stream",
     "text": [
      "Checking https://oss.sonatype.org/content/repositories/snapshots/edu/berkeley/cs/chisel-testers2_2.12/0.1-SNAPSHOT/chisel-testers2_2.12-0.1-SNAPSHOT.pom.sha1\n",
      "Checked https://oss.sonatype.org/content/repositories/snapshots/edu/berkeley/cs/chisel-testers2_2.12/0.1-SNAPSHOT/chisel-testers2_2.12-0.1-SNAPSHOT.pom.sha1\n",
      "Checked https://oss.sonatype.org/content/repositories/snapshots/edu/berkeley/cs/chisel-testers2_2.12/0.1-SNAPSHOT/chisel-testers2_2.12-0.1-SNAPSHOT.pom\n",
      "Checking https://oss.sonatype.org/content/repositories/snapshots/edu/berkeley/cs/chisel-testers2_2.12/0.1-SNAPSHOT/\n",
      "Downloading https://oss.sonatype.org/content/repositories/snapshots/edu/berkeley/cs/chisel-testers2_2.12/0.1-SNAPSHOT/\n",
      "Downloaded https://oss.sonatype.org/content/repositories/snapshots/edu/berkeley/cs/chisel-testers2_2.12/0.1-SNAPSHOT/\n",
      "Downloading https://repo1.maven.org/maven2/edu/berkeley/cs/chisel3_2.12/3.2-SNAPSHOT/chisel3_2.12-3.2-SNAPSHOT.pom.sha1\n",
      "Downloading https://repo1.maven.org/maven2/edu/berkeley/cs/chisel3_2.12/3.2-SNAPSHOT/chisel3_2.12-3.2-SNAPSHOT.pom\n",
      "Downloading https://repo1.maven.org/maven2/edu/berkeley/cs/treadle_2.12/1.1-SNAPSHOT/treadle_2.12-1.1-SNAPSHOT.pom\n",
      "Downloading https://repo1.maven.org/maven2/edu/berkeley/cs/treadle_2.12/1.1-SNAPSHOT/treadle_2.12-1.1-SNAPSHOT.pom.sha1\n",
      "Downloading https://repo1.maven.org/maven2/edu/berkeley/cs/treadle_2.12/1.1-SNAPSHOT/maven-metadata.xml\n",
      "Downloading https://repo1.maven.org/maven2/edu/berkeley/cs/chisel3_2.12/3.2-SNAPSHOT/maven-metadata.xml.sha1\n",
      "Downloading https://repo1.maven.org/maven2/edu/berkeley/cs/treadle_2.12/1.1-SNAPSHOT/maven-metadata.xml.sha1\n",
      "Downloading https://repo1.maven.org/maven2/edu/berkeley/cs/chisel3_2.12/3.2-SNAPSHOT/maven-metadata.xml\n",
      "Downloading https://repo1.maven.org/maven2/edu/berkeley/cs/firrtl_2.12/1.2-SNAPSHOT/firrtl_2.12-1.2-SNAPSHOT.pom\n",
      "Downloading https://repo1.maven.org/maven2/edu/berkeley/cs/firrtl_2.12/1.2-SNAPSHOT/firrtl_2.12-1.2-SNAPSHOT.pom.sha1\n",
      "Downloading https://repo1.maven.org/maven2/edu/berkeley/cs/firrtl_2.12/1.2-SNAPSHOT/maven-metadata.xml.sha1\n",
      "Downloading https://repo1.maven.org/maven2/edu/berkeley/cs/firrtl_2.12/1.2-SNAPSHOT/maven-metadata.xml\n",
      "Checking https://oss.sonatype.org/content/repositories/snapshots/edu/berkeley/cs/chisel-testers2_2.12/0.1-SNAPSHOT/chisel-testers2_2.12-0.1-SNAPSHOT.jar.sha1\n",
      "Checking https://oss.sonatype.org/content/repositories/snapshots/edu/berkeley/cs/chisel-testers2_2.12/0.1-SNAPSHOT/chisel-testers2_2.12-0.1-SNAPSHOT.jar\n",
      "Checked https://oss.sonatype.org/content/repositories/snapshots/edu/berkeley/cs/chisel-testers2_2.12/0.1-SNAPSHOT/chisel-testers2_2.12-0.1-SNAPSHOT.jar.sha1\n",
      "Checked https://oss.sonatype.org/content/repositories/snapshots/edu/berkeley/cs/chisel-testers2_2.12/0.1-SNAPSHOT/chisel-testers2_2.12-0.1-SNAPSHOT.jar\n",
      "Checking https://oss.sonatype.org/content/repositories/snapshots/edu/berkeley/cs/chisel-testers2_2.12/0.1-SNAPSHOT/chisel-testers2_2.12-0.1-SNAPSHOT-sources.jar\n",
      "Checking https://oss.sonatype.org/content/repositories/snapshots/edu/berkeley/cs/chisel-testers2_2.12/0.1-SNAPSHOT/chisel-testers2_2.12-0.1-SNAPSHOT-sources.jar.sha1\n",
      "Checked https://oss.sonatype.org/content/repositories/snapshots/edu/berkeley/cs/chisel-testers2_2.12/0.1-SNAPSHOT/chisel-testers2_2.12-0.1-SNAPSHOT-sources.jar\n",
      "Checked https://oss.sonatype.org/content/repositories/snapshots/edu/berkeley/cs/chisel-testers2_2.12/0.1-SNAPSHOT/chisel-testers2_2.12-0.1-SNAPSHOT-sources.jar.sha1\n",
      "Downloading https://repo1.maven.org/maven2/net/sourceforge/f2j/arpack_combined_all/0.1/arpack_combined_all-0.1-sources.jar\n",
      "Downloading https://repo1.maven.org/maven2/net/sourceforge/f2j/arpack_combined_all/0.1/arpack_combined_all-0.1-sources.jar.sha1\n",
      "Downloading https://repo1.maven.org/maven2/net/sourceforge/f2j/arpack_combined_all/0.1/arpack_combined_all-0.1-sources.jar\n",
      "Downloading https://repo1.maven.org/maven2/net/sourceforge/f2j/arpack_combined_all/0.1/arpack_combined_all-0.1-sources.jar.sha1\n",
      "Downloading https://repo1.maven.org/maven2/edu/berkeley/cs/rocket-dsptools_2.12/1.2-020719-SNAPSHOT/rocket-dsptools_2.12-1.2-020719-SNAPSHOT.pom.sha1\n",
      "Downloading https://repo1.maven.org/maven2/edu/berkeley/cs/rocket-dsptools_2.12/1.2-020719-SNAPSHOT/rocket-dsptools_2.12-1.2-020719-SNAPSHOT.pom\n",
      "Downloading https://repo1.maven.org/maven2/edu/berkeley/cs/rocket-dsptools_2.12/1.2-020719-SNAPSHOT/maven-metadata.xml\n",
      "Downloading https://repo1.maven.org/maven2/edu/berkeley/cs/rocket-dsptools_2.12/1.2-020719-SNAPSHOT/maven-metadata.xml.sha1\n",
      "Checking https://oss.sonatype.org/content/repositories/snapshots/edu/berkeley/cs/rocket-dsptools_2.12/1.2-020719-SNAPSHOT/rocket-dsptools_2.12-1.2-020719-SNAPSHOT.pom.sha1\n",
      "Checking https://oss.sonatype.org/content/repositories/snapshots/edu/berkeley/cs/rocket-dsptools_2.12/1.2-020719-SNAPSHOT/rocket-dsptools_2.12-1.2-020719-SNAPSHOT.pom\n",
      "Checked https://oss.sonatype.org/content/repositories/snapshots/edu/berkeley/cs/rocket-dsptools_2.12/1.2-020719-SNAPSHOT/rocket-dsptools_2.12-1.2-020719-SNAPSHOT.pom.sha1\n",
      "Checked https://oss.sonatype.org/content/repositories/snapshots/edu/berkeley/cs/rocket-dsptools_2.12/1.2-020719-SNAPSHOT/rocket-dsptools_2.12-1.2-020719-SNAPSHOT.pom\n",
      "Checking https://oss.sonatype.org/content/repositories/snapshots/edu/berkeley/cs/rocket-dsptools_2.12/1.2-020719-SNAPSHOT/\n",
      "Downloading https://oss.sonatype.org/content/repositories/snapshots/edu/berkeley/cs/rocket-dsptools_2.12/1.2-020719-SNAPSHOT/\n",
      "Downloaded https://oss.sonatype.org/content/repositories/snapshots/edu/berkeley/cs/rocket-dsptools_2.12/1.2-020719-SNAPSHOT/\n",
      "Downloading https://repo1.maven.org/maven2/edu/berkeley/cs/chisel-iotesters_2.12/1.3-020719-SNAPSHOT/chisel-iotesters_2.12-1.3-020719-SNAPSHOT.pom.sha1\n",
      "Downloading https://repo1.maven.org/maven2/edu/berkeley/cs/rocketchip_2.12/1.2-020719-SNAPSHOT/rocketchip_2.12-1.2-020719-SNAPSHOT.pom.sha1\n",
      "Downloading https://repo1.maven.org/maven2/edu/berkeley/cs/rocketchip_2.12/1.2-020719-SNAPSHOT/rocketchip_2.12-1.2-020719-SNAPSHOT.pom\n",
      "Downloading https://repo1.maven.org/maven2/edu/berkeley/cs/dsptools_2.12/1.2-020719-SNAPSHOT/dsptools_2.12-1.2-020719-SNAPSHOT.pom\n",
      "Downloading https://repo1.maven.org/maven2/edu/berkeley/cs/chisel3_2.12/3.2-020719-SNAPSHOT/chisel3_2.12-3.2-020719-SNAPSHOT.pom\n",
      "Downloading https://repo1.maven.org/maven2/edu/berkeley/cs/rocketchip_2.12/1.2-020719-SNAPSHOT/maven-metadata.xml\n",
      "Downloading https://repo1.maven.org/maven2/edu/berkeley/cs/dsptools_2.12/1.2-020719-SNAPSHOT/dsptools_2.12-1.2-020719-SNAPSHOT.pom.sha1\n",
      "Downloading https://repo1.maven.org/maven2/edu/berkeley/cs/chisel-iotesters_2.12/1.3-020719-SNAPSHOT/chisel-iotesters_2.12-1.3-020719-SNAPSHOT.pom\n",
      "Downloading https://repo1.maven.org/maven2/edu/berkeley/cs/rocketchip_2.12/1.2-020719-SNAPSHOT/maven-metadata.xml.sha1\n",
      "Downloading https://repo1.maven.org/maven2/edu/berkeley/cs/dsptools_2.12/1.2-020719-SNAPSHOT/maven-metadata.xml.sha1\n",
      "Checking https://oss.sonatype.org/content/repositories/snapshots/edu/berkeley/cs/rocketchip_2.12/1.2-020719-SNAPSHOT/rocketchip_2.12-1.2-020719-SNAPSHOT.pom.sha1\n",
      "Downloading https://repo1.maven.org/maven2/edu/berkeley/cs/chisel-iotesters_2.12/1.3-020719-SNAPSHOT/maven-metadata.xml.sha1\n",
      "Downloading https://repo1.maven.org/maven2/edu/berkeley/cs/dsptools_2.12/1.2-020719-SNAPSHOT/maven-metadata.xml\n",
      "Downloading https://repo1.maven.org/maven2/edu/berkeley/cs/chisel-iotesters_2.12/1.3-020719-SNAPSHOT/maven-metadata.xml\n",
      "Checking https://oss.sonatype.org/content/repositories/snapshots/edu/berkeley/cs/rocketchip_2.12/1.2-020719-SNAPSHOT/rocketchip_2.12-1.2-020719-SNAPSHOT.pom\n",
      "Downloading https://repo1.maven.org/maven2/edu/berkeley/cs/chisel3_2.12/3.2-020719-SNAPSHOT/chisel3_2.12-3.2-020719-SNAPSHOT.pom.sha1\n",
      "Checking https://oss.sonatype.org/content/repositories/snapshots/edu/berkeley/cs/dsptools_2.12/1.2-020719-SNAPSHOT/dsptools_2.12-1.2-020719-SNAPSHOT.pom.sha1\n",
      "Checking https://oss.sonatype.org/content/repositories/snapshots/edu/berkeley/cs/chisel-iotesters_2.12/1.3-020719-SNAPSHOT/chisel-iotesters_2.12-1.3-020719-SNAPSHOT.pom\n",
      "Checking https://oss.sonatype.org/content/repositories/snapshots/edu/berkeley/cs/dsptools_2.12/1.2-020719-SNAPSHOT/dsptools_2.12-1.2-020719-SNAPSHOT.pom\n",
      "Checking https://oss.sonatype.org/content/repositories/snapshots/edu/berkeley/cs/chisel-iotesters_2.12/1.3-020719-SNAPSHOT/chisel-iotesters_2.12-1.3-020719-SNAPSHOT.pom.sha1\n"
     ]
    },
    {
     "name": "stderr",
     "output_type": "stream",
     "text": [
      "Checked https://oss.sonatype.org/content/repositories/snapshots/edu/berkeley/cs/dsptools_2.12/1.2-020719-SNAPSHOT/dsptools_2.12-1.2-020719-SNAPSHOT.pom\n",
      "Downloading https://repo1.maven.org/maven2/edu/berkeley/cs/chisel3_2.12/3.2-020719-SNAPSHOT/maven-metadata.xml\n",
      "Checked https://oss.sonatype.org/content/repositories/snapshots/edu/berkeley/cs/rocketchip_2.12/1.2-020719-SNAPSHOT/rocketchip_2.12-1.2-020719-SNAPSHOT.pom\n",
      "Downloading https://repo1.maven.org/maven2/edu/berkeley/cs/chisel3_2.12/3.2-020719-SNAPSHOT/maven-metadata.xml.sha1\n",
      "Checked https://oss.sonatype.org/content/repositories/snapshots/edu/berkeley/cs/dsptools_2.12/1.2-020719-SNAPSHOT/dsptools_2.12-1.2-020719-SNAPSHOT.pom.sha1\n",
      "Checked https://oss.sonatype.org/content/repositories/snapshots/edu/berkeley/cs/chisel-iotesters_2.12/1.3-020719-SNAPSHOT/chisel-iotesters_2.12-1.3-020719-SNAPSHOT.pom\n",
      "Checking https://oss.sonatype.org/content/repositories/snapshots/edu/berkeley/cs/dsptools_2.12/1.2-020719-SNAPSHOT/\n",
      "Checking https://oss.sonatype.org/content/repositories/snapshots/edu/berkeley/cs/chisel3_2.12/3.2-020719-SNAPSHOT/chisel3_2.12-3.2-020719-SNAPSHOT.pom.sha1\n",
      "Checking https://oss.sonatype.org/content/repositories/snapshots/edu/berkeley/cs/chisel3_2.12/3.2-020719-SNAPSHOT/chisel3_2.12-3.2-020719-SNAPSHOT.pom\n",
      "Downloading https://oss.sonatype.org/content/repositories/snapshots/edu/berkeley/cs/dsptools_2.12/1.2-020719-SNAPSHOT/\n",
      "Checked https://oss.sonatype.org/content/repositories/snapshots/edu/berkeley/cs/chisel-iotesters_2.12/1.3-020719-SNAPSHOT/chisel-iotesters_2.12-1.3-020719-SNAPSHOT.pom.sha1\n",
      "Checking https://oss.sonatype.org/content/repositories/snapshots/edu/berkeley/cs/chisel-iotesters_2.12/1.3-020719-SNAPSHOT/\n",
      "Checked https://oss.sonatype.org/content/repositories/snapshots/edu/berkeley/cs/rocketchip_2.12/1.2-020719-SNAPSHOT/rocketchip_2.12-1.2-020719-SNAPSHOT.pom.sha1\n",
      "Checked https://oss.sonatype.org/content/repositories/snapshots/edu/berkeley/cs/chisel3_2.12/3.2-020719-SNAPSHOT/chisel3_2.12-3.2-020719-SNAPSHOT.pom\n",
      "Checking https://oss.sonatype.org/content/repositories/snapshots/edu/berkeley/cs/rocketchip_2.12/1.2-020719-SNAPSHOT/\n",
      "Checked https://oss.sonatype.org/content/repositories/snapshots/edu/berkeley/cs/chisel3_2.12/3.2-020719-SNAPSHOT/chisel3_2.12-3.2-020719-SNAPSHOT.pom.sha1\n",
      "Checking https://oss.sonatype.org/content/repositories/snapshots/edu/berkeley/cs/chisel3_2.12/3.2-020719-SNAPSHOT/\n",
      "Downloaded https://oss.sonatype.org/content/repositories/snapshots/edu/berkeley/cs/dsptools_2.12/1.2-020719-SNAPSHOT/\n",
      "Downloading https://oss.sonatype.org/content/repositories/snapshots/edu/berkeley/cs/chisel-iotesters_2.12/1.3-020719-SNAPSHOT/\n",
      "Downloading https://oss.sonatype.org/content/repositories/snapshots/edu/berkeley/cs/rocketchip_2.12/1.2-020719-SNAPSHOT/\n",
      "Downloading https://oss.sonatype.org/content/repositories/snapshots/edu/berkeley/cs/chisel3_2.12/3.2-020719-SNAPSHOT/\n",
      "Downloaded https://oss.sonatype.org/content/repositories/snapshots/edu/berkeley/cs/rocketchip_2.12/1.2-020719-SNAPSHOT/\n",
      "Downloaded https://oss.sonatype.org/content/repositories/snapshots/edu/berkeley/cs/chisel-iotesters_2.12/1.3-020719-SNAPSHOT/\n",
      "Downloaded https://oss.sonatype.org/content/repositories/snapshots/edu/berkeley/cs/chisel3_2.12/3.2-020719-SNAPSHOT/\n",
      "Downloading https://repo1.maven.org/maven2/edu/berkeley/cs/firrtl-interpreter_2.12/1.2-020719-SNAPSHOT/firrtl-interpreter_2.12-1.2-020719-SNAPSHOT.pom\n",
      "Downloading https://repo1.maven.org/maven2/edu/berkeley/cs/firrtl-interpreter_2.12/1.2-020719-SNAPSHOT/firrtl-interpreter_2.12-1.2-020719-SNAPSHOT.pom.sha1\n",
      "Downloading https://repo1.maven.org/maven2/edu/berkeley/cs/hardfloat_2.12/1.2-020719-SNAPSHOT/hardfloat_2.12-1.2-020719-SNAPSHOT.pom.sha1\n",
      "Downloading https://repo1.maven.org/maven2/edu/berkeley/cs/firrtl_2.12/1.2-020719-SNAPSHOT/firrtl_2.12-1.2-020719-SNAPSHOT.pom\n",
      "Downloading https://repo1.maven.org/maven2/edu/berkeley/cs/treadle_2.12/1.1-020719-SNAPSHOT/treadle_2.12-1.1-020719-SNAPSHOT.pom\n",
      "Downloading https://repo1.maven.org/maven2/edu/berkeley/cs/rocket-macros_2.12/1.2-020719-SNAPSHOT/rocket-macros_2.12-1.2-020719-SNAPSHOT.pom.sha1\n",
      "Downloading https://repo1.maven.org/maven2/edu/berkeley/cs/hardfloat_2.12/1.2-020719-SNAPSHOT/hardfloat_2.12-1.2-020719-SNAPSHOT.pom\n",
      "Downloading https://repo1.maven.org/maven2/edu/berkeley/cs/firrtl_2.12/1.2-020719-SNAPSHOT/firrtl_2.12-1.2-020719-SNAPSHOT.pom.sha1\n",
      "Downloading https://repo1.maven.org/maven2/edu/berkeley/cs/treadle_2.12/1.1-020719-SNAPSHOT/treadle_2.12-1.1-020719-SNAPSHOT.pom.sha1\n",
      "Downloading https://repo1.maven.org/maven2/edu/berkeley/cs/rocket-macros_2.12/1.2-020719-SNAPSHOT/rocket-macros_2.12-1.2-020719-SNAPSHOT.pom\n",
      "Downloading https://repo1.maven.org/maven2/edu/berkeley/cs/firrtl-interpreter_2.12/1.2-020719-SNAPSHOT/maven-metadata.xml\n",
      "Downloading https://repo1.maven.org/maven2/edu/berkeley/cs/firrtl-interpreter_2.12/1.2-020719-SNAPSHOT/maven-metadata.xml.sha1\n",
      "Downloading https://repo1.maven.org/maven2/edu/berkeley/cs/firrtl_2.12/1.2-020719-SNAPSHOT/maven-metadata.xml\n",
      "Downloading https://repo1.maven.org/maven2/edu/berkeley/cs/firrtl_2.12/1.2-020719-SNAPSHOT/maven-metadata.xml.sha1\n",
      "Downloading https://repo1.maven.org/maven2/edu/berkeley/cs/hardfloat_2.12/1.2-020719-SNAPSHOT/maven-metadata.xml\n",
      "Downloading https://repo1.maven.org/maven2/edu/berkeley/cs/hardfloat_2.12/1.2-020719-SNAPSHOT/maven-metadata.xml.sha1\n",
      "Checking https://oss.sonatype.org/content/repositories/snapshots/edu/berkeley/cs/firrtl-interpreter_2.12/1.2-020719-SNAPSHOT/firrtl-interpreter_2.12-1.2-020719-SNAPSHOT.pom\n",
      "Checking https://oss.sonatype.org/content/repositories/snapshots/edu/berkeley/cs/firrtl-interpreter_2.12/1.2-020719-SNAPSHOT/firrtl-interpreter_2.12-1.2-020719-SNAPSHOT.pom.sha1\n",
      "Checking https://oss.sonatype.org/content/repositories/snapshots/edu/berkeley/cs/firrtl_2.12/1.2-020719-SNAPSHOT/firrtl_2.12-1.2-020719-SNAPSHOT.pom.sha1\n",
      "Checking https://oss.sonatype.org/content/repositories/snapshots/edu/berkeley/cs/firrtl_2.12/1.2-020719-SNAPSHOT/firrtl_2.12-1.2-020719-SNAPSHOT.pom\n",
      "Checking https://oss.sonatype.org/content/repositories/snapshots/edu/berkeley/cs/hardfloat_2.12/1.2-020719-SNAPSHOT/hardfloat_2.12-1.2-020719-SNAPSHOT.pom\n",
      "Checking https://oss.sonatype.org/content/repositories/snapshots/edu/berkeley/cs/hardfloat_2.12/1.2-020719-SNAPSHOT/hardfloat_2.12-1.2-020719-SNAPSHOT.pom.sha1\n",
      "Checked https://oss.sonatype.org/content/repositories/snapshots/edu/berkeley/cs/firrtl-interpreter_2.12/1.2-020719-SNAPSHOT/firrtl-interpreter_2.12-1.2-020719-SNAPSHOT.pom.sha1\n",
      "Downloading https://repo1.maven.org/maven2/edu/berkeley/cs/rocket-macros_2.12/1.2-020719-SNAPSHOT/maven-metadata.xml\n",
      "Downloading https://repo1.maven.org/maven2/edu/berkeley/cs/rocket-macros_2.12/1.2-020719-SNAPSHOT/maven-metadata.xml.sha1\n",
      "Checked https://oss.sonatype.org/content/repositories/snapshots/edu/berkeley/cs/firrtl-interpreter_2.12/1.2-020719-SNAPSHOT/firrtl-interpreter_2.12-1.2-020719-SNAPSHOT.pom\n",
      "Downloading https://repo1.maven.org/maven2/edu/berkeley/cs/treadle_2.12/1.1-020719-SNAPSHOT/maven-metadata.xml.sha1\n",
      "Checked https://oss.sonatype.org/content/repositories/snapshots/edu/berkeley/cs/firrtl_2.12/1.2-020719-SNAPSHOT/firrtl_2.12-1.2-020719-SNAPSHOT.pom.sha1\n",
      "Downloading https://repo1.maven.org/maven2/edu/berkeley/cs/treadle_2.12/1.1-020719-SNAPSHOT/maven-metadata.xml\n",
      "Checked https://oss.sonatype.org/content/repositories/snapshots/edu/berkeley/cs/firrtl_2.12/1.2-020719-SNAPSHOT/firrtl_2.12-1.2-020719-SNAPSHOT.pom\n",
      "Checking https://oss.sonatype.org/content/repositories/snapshots/edu/berkeley/cs/rocket-macros_2.12/1.2-020719-SNAPSHOT/rocket-macros_2.12-1.2-020719-SNAPSHOT.pom.sha1\n",
      "Checking https://oss.sonatype.org/content/repositories/snapshots/edu/berkeley/cs/firrtl-interpreter_2.12/1.2-020719-SNAPSHOT/\n",
      "Checking https://oss.sonatype.org/content/repositories/snapshots/edu/berkeley/cs/rocket-macros_2.12/1.2-020719-SNAPSHOT/rocket-macros_2.12-1.2-020719-SNAPSHOT.pom\n",
      "Checking https://oss.sonatype.org/content/repositories/snapshots/edu/berkeley/cs/treadle_2.12/1.1-020719-SNAPSHOT/treadle_2.12-1.1-020719-SNAPSHOT.pom.sha1\n",
      "Checked https://oss.sonatype.org/content/repositories/snapshots/edu/berkeley/cs/hardfloat_2.12/1.2-020719-SNAPSHOT/hardfloat_2.12-1.2-020719-SNAPSHOT.pom\n",
      "Checking https://oss.sonatype.org/content/repositories/snapshots/edu/berkeley/cs/treadle_2.12/1.1-020719-SNAPSHOT/treadle_2.12-1.1-020719-SNAPSHOT.pom\n"
     ]
    },
    {
     "name": "stderr",
     "output_type": "stream",
     "text": [
      "Downloading https://oss.sonatype.org/content/repositories/snapshots/edu/berkeley/cs/firrtl-interpreter_2.12/1.2-020719-SNAPSHOT/\n",
      "Checked https://oss.sonatype.org/content/repositories/snapshots/edu/berkeley/cs/rocket-macros_2.12/1.2-020719-SNAPSHOT/rocket-macros_2.12-1.2-020719-SNAPSHOT.pom\n",
      "Checking https://oss.sonatype.org/content/repositories/snapshots/edu/berkeley/cs/firrtl_2.12/1.2-020719-SNAPSHOT/\n",
      "Checked https://oss.sonatype.org/content/repositories/snapshots/edu/berkeley/cs/rocket-macros_2.12/1.2-020719-SNAPSHOT/rocket-macros_2.12-1.2-020719-SNAPSHOT.pom.sha1\n",
      "Checking https://oss.sonatype.org/content/repositories/snapshots/edu/berkeley/cs/rocket-macros_2.12/1.2-020719-SNAPSHOT/\n",
      "Checked https://oss.sonatype.org/content/repositories/snapshots/edu/berkeley/cs/treadle_2.12/1.1-020719-SNAPSHOT/treadle_2.12-1.1-020719-SNAPSHOT.pom.sha1\n",
      "Checked https://oss.sonatype.org/content/repositories/snapshots/edu/berkeley/cs/treadle_2.12/1.1-020719-SNAPSHOT/treadle_2.12-1.1-020719-SNAPSHOT.pom\n",
      "Checking https://oss.sonatype.org/content/repositories/snapshots/edu/berkeley/cs/treadle_2.12/1.1-020719-SNAPSHOT/\n",
      "Downloading https://oss.sonatype.org/content/repositories/snapshots/edu/berkeley/cs/firrtl_2.12/1.2-020719-SNAPSHOT/\n",
      "Downloading https://oss.sonatype.org/content/repositories/snapshots/edu/berkeley/cs/rocket-macros_2.12/1.2-020719-SNAPSHOT/\n",
      "Checked https://oss.sonatype.org/content/repositories/snapshots/edu/berkeley/cs/hardfloat_2.12/1.2-020719-SNAPSHOT/hardfloat_2.12-1.2-020719-SNAPSHOT.pom.sha1\n",
      "Checking https://oss.sonatype.org/content/repositories/snapshots/edu/berkeley/cs/hardfloat_2.12/1.2-020719-SNAPSHOT/\n",
      "Downloading https://oss.sonatype.org/content/repositories/snapshots/edu/berkeley/cs/treadle_2.12/1.1-020719-SNAPSHOT/\n",
      "Downloaded https://oss.sonatype.org/content/repositories/snapshots/edu/berkeley/cs/firrtl-interpreter_2.12/1.2-020719-SNAPSHOT/\n",
      "Downloading https://oss.sonatype.org/content/repositories/snapshots/edu/berkeley/cs/hardfloat_2.12/1.2-020719-SNAPSHOT/\n",
      "Downloaded https://oss.sonatype.org/content/repositories/snapshots/edu/berkeley/cs/firrtl_2.12/1.2-020719-SNAPSHOT/\n",
      "Downloaded https://oss.sonatype.org/content/repositories/snapshots/edu/berkeley/cs/hardfloat_2.12/1.2-020719-SNAPSHOT/\n",
      "Downloaded https://oss.sonatype.org/content/repositories/snapshots/edu/berkeley/cs/treadle_2.12/1.1-020719-SNAPSHOT/\n",
      "Downloaded https://oss.sonatype.org/content/repositories/snapshots/edu/berkeley/cs/rocket-macros_2.12/1.2-020719-SNAPSHOT/\n",
      "Checking https://oss.sonatype.org/content/repositories/snapshots/edu/berkeley/cs/hardfloat_2.12/1.2-020719-SNAPSHOT/hardfloat_2.12-1.2-020719-SNAPSHOT.jar\n",
      "Checking https://oss.sonatype.org/content/repositories/snapshots/edu/berkeley/cs/rocketchip_2.12/1.2-020719-SNAPSHOT/rocketchip_2.12-1.2-020719-SNAPSHOT.jar.sha1\n",
      "Checking https://oss.sonatype.org/content/repositories/snapshots/edu/berkeley/cs/firrtl_2.12/1.2-020719-SNAPSHOT/firrtl_2.12-1.2-020719-SNAPSHOT.jar.sha1\n",
      "Checking https://oss.sonatype.org/content/repositories/snapshots/edu/berkeley/cs/hardfloat_2.12/1.2-020719-SNAPSHOT/hardfloat_2.12-1.2-020719-SNAPSHOT.jar.sha1\n",
      "Checking https://oss.sonatype.org/content/repositories/snapshots/edu/berkeley/cs/chisel3_2.12/3.2-020719-SNAPSHOT/chisel3_2.12-3.2-020719-SNAPSHOT.jar\n",
      "Checked https://oss.sonatype.org/content/repositories/snapshots/edu/berkeley/cs/chisel3_2.12/3.2-020719-SNAPSHOT/chisel3_2.12-3.2-020719-SNAPSHOT.jar\n",
      "Checked https://oss.sonatype.org/content/repositories/snapshots/edu/berkeley/cs/hardfloat_2.12/1.2-020719-SNAPSHOT/hardfloat_2.12-1.2-020719-SNAPSHOT.jar\n",
      "Checked https://oss.sonatype.org/content/repositories/snapshots/edu/berkeley/cs/hardfloat_2.12/1.2-020719-SNAPSHOT/hardfloat_2.12-1.2-020719-SNAPSHOT.jar.sha1\n",
      "Checked https://oss.sonatype.org/content/repositories/snapshots/edu/berkeley/cs/rocketchip_2.12/1.2-020719-SNAPSHOT/rocketchip_2.12-1.2-020719-SNAPSHOT.jar.sha1\n",
      "Checked https://oss.sonatype.org/content/repositories/snapshots/edu/berkeley/cs/firrtl_2.12/1.2-020719-SNAPSHOT/firrtl_2.12-1.2-020719-SNAPSHOT.jar.sha1\n",
      "Checking https://oss.sonatype.org/content/repositories/snapshots/edu/berkeley/cs/chisel-iotesters_2.12/1.3-020719-SNAPSHOT/chisel-iotesters_2.12-1.3-020719-SNAPSHOT.jar\n",
      "Checking https://oss.sonatype.org/content/repositories/snapshots/edu/berkeley/cs/rocketchip_2.12/1.2-020719-SNAPSHOT/rocketchip_2.12-1.2-020719-SNAPSHOT.jar\n",
      "Checking https://oss.sonatype.org/content/repositories/snapshots/edu/berkeley/cs/rocket-dsptools_2.12/1.2-020719-SNAPSHOT/rocket-dsptools_2.12-1.2-020719-SNAPSHOT.jar.sha1\n",
      "Checking https://oss.sonatype.org/content/repositories/snapshots/edu/berkeley/cs/treadle_2.12/1.1-020719-SNAPSHOT/treadle_2.12-1.1-020719-SNAPSHOT.jar\n",
      "Checking https://oss.sonatype.org/content/repositories/snapshots/edu/berkeley/cs/rocket-dsptools_2.12/1.2-020719-SNAPSHOT/rocket-dsptools_2.12-1.2-020719-SNAPSHOT.jar\n",
      "Checking https://oss.sonatype.org/content/repositories/snapshots/edu/berkeley/cs/treadle_2.12/1.1-020719-SNAPSHOT/treadle_2.12-1.1-020719-SNAPSHOT.jar.sha1\n",
      "Checked https://oss.sonatype.org/content/repositories/snapshots/edu/berkeley/cs/chisel-iotesters_2.12/1.3-020719-SNAPSHOT/chisel-iotesters_2.12-1.3-020719-SNAPSHOT.jar\n",
      "Checking https://oss.sonatype.org/content/repositories/snapshots/edu/berkeley/cs/dsptools_2.12/1.2-020719-SNAPSHOT/dsptools_2.12-1.2-020719-SNAPSHOT.jar.sha1\n",
      "Checked https://oss.sonatype.org/content/repositories/snapshots/edu/berkeley/cs/rocketchip_2.12/1.2-020719-SNAPSHOT/rocketchip_2.12-1.2-020719-SNAPSHOT.jar\n",
      "Checking https://oss.sonatype.org/content/repositories/snapshots/edu/berkeley/cs/chisel3_2.12/3.2-020719-SNAPSHOT/chisel3_2.12-3.2-020719-SNAPSHOT.jar.sha1\n",
      "Checked https://oss.sonatype.org/content/repositories/snapshots/edu/berkeley/cs/rocket-dsptools_2.12/1.2-020719-SNAPSHOT/rocket-dsptools_2.12-1.2-020719-SNAPSHOT.jar.sha1\n",
      "Checking https://oss.sonatype.org/content/repositories/snapshots/edu/berkeley/cs/firrtl-interpreter_2.12/1.2-020719-SNAPSHOT/firrtl-interpreter_2.12-1.2-020719-SNAPSHOT.jar\n",
      "Checked https://oss.sonatype.org/content/repositories/snapshots/edu/berkeley/cs/treadle_2.12/1.1-020719-SNAPSHOT/treadle_2.12-1.1-020719-SNAPSHOT.jar\n",
      "Checking https://oss.sonatype.org/content/repositories/snapshots/edu/berkeley/cs/chisel-iotesters_2.12/1.3-020719-SNAPSHOT/chisel-iotesters_2.12-1.3-020719-SNAPSHOT.jar.sha1\n",
      "Checked https://oss.sonatype.org/content/repositories/snapshots/edu/berkeley/cs/rocket-dsptools_2.12/1.2-020719-SNAPSHOT/rocket-dsptools_2.12-1.2-020719-SNAPSHOT.jar\n",
      "Checking https://oss.sonatype.org/content/repositories/snapshots/edu/berkeley/cs/firrtl_2.12/1.2-020719-SNAPSHOT/firrtl_2.12-1.2-020719-SNAPSHOT.jar\n",
      "Checked https://oss.sonatype.org/content/repositories/snapshots/edu/berkeley/cs/chisel3_2.12/3.2-020719-SNAPSHOT/chisel3_2.12-3.2-020719-SNAPSHOT.jar.sha1\n",
      "Checking https://oss.sonatype.org/content/repositories/snapshots/edu/berkeley/cs/rocket-macros_2.12/1.2-020719-SNAPSHOT/rocket-macros_2.12-1.2-020719-SNAPSHOT.jar.sha1\n",
      "Checked https://oss.sonatype.org/content/repositories/snapshots/edu/berkeley/cs/dsptools_2.12/1.2-020719-SNAPSHOT/dsptools_2.12-1.2-020719-SNAPSHOT.jar.sha1\n",
      "Checking https://oss.sonatype.org/content/repositories/snapshots/edu/berkeley/cs/rocket-macros_2.12/1.2-020719-SNAPSHOT/rocket-macros_2.12-1.2-020719-SNAPSHOT.jar\n",
      "Checked https://oss.sonatype.org/content/repositories/snapshots/edu/berkeley/cs/firrtl-interpreter_2.12/1.2-020719-SNAPSHOT/firrtl-interpreter_2.12-1.2-020719-SNAPSHOT.jar\n",
      "Checking https://oss.sonatype.org/content/repositories/snapshots/edu/berkeley/cs/firrtl-interpreter_2.12/1.2-020719-SNAPSHOT/firrtl-interpreter_2.12-1.2-020719-SNAPSHOT.jar.sha1\n",
      "Checked https://oss.sonatype.org/content/repositories/snapshots/edu/berkeley/cs/firrtl_2.12/1.2-020719-SNAPSHOT/firrtl_2.12-1.2-020719-SNAPSHOT.jar\n",
      "Checked https://oss.sonatype.org/content/repositories/snapshots/edu/berkeley/cs/chisel-iotesters_2.12/1.3-020719-SNAPSHOT/chisel-iotesters_2.12-1.3-020719-SNAPSHOT.jar.sha1\n",
      "Checking https://oss.sonatype.org/content/repositories/snapshots/edu/berkeley/cs/dsptools_2.12/1.2-020719-SNAPSHOT/dsptools_2.12-1.2-020719-SNAPSHOT.jar\n",
      "Checked https://oss.sonatype.org/content/repositories/snapshots/edu/berkeley/cs/rocket-macros_2.12/1.2-020719-SNAPSHOT/rocket-macros_2.12-1.2-020719-SNAPSHOT.jar.sha1\n"
     ]
    },
    {
     "name": "stderr",
     "output_type": "stream",
     "text": [
      "Checked https://oss.sonatype.org/content/repositories/snapshots/edu/berkeley/cs/rocket-macros_2.12/1.2-020719-SNAPSHOT/rocket-macros_2.12-1.2-020719-SNAPSHOT.jar\n",
      "Checked https://oss.sonatype.org/content/repositories/snapshots/edu/berkeley/cs/firrtl-interpreter_2.12/1.2-020719-SNAPSHOT/firrtl-interpreter_2.12-1.2-020719-SNAPSHOT.jar.sha1\n",
      "Checked https://oss.sonatype.org/content/repositories/snapshots/edu/berkeley/cs/treadle_2.12/1.1-020719-SNAPSHOT/treadle_2.12-1.1-020719-SNAPSHOT.jar.sha1\n",
      "Checked https://oss.sonatype.org/content/repositories/snapshots/edu/berkeley/cs/dsptools_2.12/1.2-020719-SNAPSHOT/dsptools_2.12-1.2-020719-SNAPSHOT.jar\n",
      "Downloading https://repo1.maven.org/maven2/net/sourceforge/f2j/arpack_combined_all/0.1/arpack_combined_all-0.1-sources.jar.sha1\n",
      "Downloading https://repo1.maven.org/maven2/net/sourceforge/f2j/arpack_combined_all/0.1/arpack_combined_all-0.1-sources.jar\n",
      "Checking https://oss.sonatype.org/content/repositories/snapshots/edu/berkeley/cs/hardfloat_2.12/1.2-020719-SNAPSHOT/hardfloat_2.12-1.2-020719-SNAPSHOT-sources.jar.sha1\n",
      "Checking https://oss.sonatype.org/content/repositories/snapshots/edu/berkeley/cs/hardfloat_2.12/1.2-020719-SNAPSHOT/hardfloat_2.12-1.2-020719-SNAPSHOT-sources.jar\n",
      "Checking https://oss.sonatype.org/content/repositories/snapshots/edu/berkeley/cs/chisel3_2.12/3.2-020719-SNAPSHOT/chisel3_2.12-3.2-020719-SNAPSHOT-sources.jar\n",
      "Checking https://oss.sonatype.org/content/repositories/snapshots/edu/berkeley/cs/chisel3_2.12/3.2-020719-SNAPSHOT/chisel3_2.12-3.2-020719-SNAPSHOT-sources.jar.sha1\n",
      "Checking https://oss.sonatype.org/content/repositories/snapshots/edu/berkeley/cs/rocketchip_2.12/1.2-020719-SNAPSHOT/rocketchip_2.12-1.2-020719-SNAPSHOT-sources.jar.sha1\n",
      "Checking https://oss.sonatype.org/content/repositories/snapshots/edu/berkeley/cs/rocketchip_2.12/1.2-020719-SNAPSHOT/rocketchip_2.12-1.2-020719-SNAPSHOT-sources.jar\n",
      "Checked https://oss.sonatype.org/content/repositories/snapshots/edu/berkeley/cs/hardfloat_2.12/1.2-020719-SNAPSHOT/hardfloat_2.12-1.2-020719-SNAPSHOT-sources.jar\n",
      "Checking https://oss.sonatype.org/content/repositories/snapshots/edu/berkeley/cs/treadle_2.12/1.1-020719-SNAPSHOT/treadle_2.12-1.1-020719-SNAPSHOT-sources.jar\n",
      "Checked https://oss.sonatype.org/content/repositories/snapshots/edu/berkeley/cs/chisel3_2.12/3.2-020719-SNAPSHOT/chisel3_2.12-3.2-020719-SNAPSHOT-sources.jar\n",
      "Checking https://oss.sonatype.org/content/repositories/snapshots/edu/berkeley/cs/treadle_2.12/1.1-020719-SNAPSHOT/treadle_2.12-1.1-020719-SNAPSHOT-sources.jar.sha1\n",
      "Checked https://oss.sonatype.org/content/repositories/snapshots/edu/berkeley/cs/rocketchip_2.12/1.2-020719-SNAPSHOT/rocketchip_2.12-1.2-020719-SNAPSHOT-sources.jar.sha1\n",
      "Checking https://oss.sonatype.org/content/repositories/snapshots/edu/berkeley/cs/rocket-dsptools_2.12/1.2-020719-SNAPSHOT/rocket-dsptools_2.12-1.2-020719-SNAPSHOT-sources.jar.sha1\n",
      "Checked https://oss.sonatype.org/content/repositories/snapshots/edu/berkeley/cs/hardfloat_2.12/1.2-020719-SNAPSHOT/hardfloat_2.12-1.2-020719-SNAPSHOT-sources.jar.sha1\n",
      "Checking https://oss.sonatype.org/content/repositories/snapshots/edu/berkeley/cs/rocket-dsptools_2.12/1.2-020719-SNAPSHOT/rocket-dsptools_2.12-1.2-020719-SNAPSHOT-sources.jar\n",
      "Checked https://oss.sonatype.org/content/repositories/snapshots/edu/berkeley/cs/chisel3_2.12/3.2-020719-SNAPSHOT/chisel3_2.12-3.2-020719-SNAPSHOT-sources.jar.sha1\n",
      "Checking https://oss.sonatype.org/content/repositories/snapshots/edu/berkeley/cs/chisel-iotesters_2.12/1.3-020719-SNAPSHOT/chisel-iotesters_2.12-1.3-020719-SNAPSHOT-sources.jar\n",
      "Checked https://oss.sonatype.org/content/repositories/snapshots/edu/berkeley/cs/treadle_2.12/1.1-020719-SNAPSHOT/treadle_2.12-1.1-020719-SNAPSHOT-sources.jar\n",
      "Checking https://oss.sonatype.org/content/repositories/snapshots/edu/berkeley/cs/firrtl_2.12/1.2-020719-SNAPSHOT/firrtl_2.12-1.2-020719-SNAPSHOT-sources.jar\n",
      "Checked https://oss.sonatype.org/content/repositories/snapshots/edu/berkeley/cs/rocket-dsptools_2.12/1.2-020719-SNAPSHOT/rocket-dsptools_2.12-1.2-020719-SNAPSHOT-sources.jar.sha1\n",
      "Checking https://oss.sonatype.org/content/repositories/snapshots/edu/berkeley/cs/chisel-iotesters_2.12/1.3-020719-SNAPSHOT/chisel-iotesters_2.12-1.3-020719-SNAPSHOT-sources.jar.sha1\n",
      "Checked https://oss.sonatype.org/content/repositories/snapshots/edu/berkeley/cs/chisel-iotesters_2.12/1.3-020719-SNAPSHOT/chisel-iotesters_2.12-1.3-020719-SNAPSHOT-sources.jar\n",
      "Checked https://oss.sonatype.org/content/repositories/snapshots/edu/berkeley/cs/rocket-dsptools_2.12/1.2-020719-SNAPSHOT/rocket-dsptools_2.12-1.2-020719-SNAPSHOT-sources.jar\n",
      "Checked https://oss.sonatype.org/content/repositories/snapshots/edu/berkeley/cs/treadle_2.12/1.1-020719-SNAPSHOT/treadle_2.12-1.1-020719-SNAPSHOT-sources.jar.sha1\n",
      "Checking https://oss.sonatype.org/content/repositories/snapshots/edu/berkeley/cs/firrtl_2.12/1.2-020719-SNAPSHOT/firrtl_2.12-1.2-020719-SNAPSHOT-sources.jar.sha1\n",
      "Checking https://oss.sonatype.org/content/repositories/snapshots/edu/berkeley/cs/rocket-macros_2.12/1.2-020719-SNAPSHOT/rocket-macros_2.12-1.2-020719-SNAPSHOT-sources.jar\n",
      "Checking https://oss.sonatype.org/content/repositories/snapshots/edu/berkeley/cs/rocket-macros_2.12/1.2-020719-SNAPSHOT/rocket-macros_2.12-1.2-020719-SNAPSHOT-sources.jar.sha1\n",
      "Checked https://oss.sonatype.org/content/repositories/snapshots/edu/berkeley/cs/firrtl_2.12/1.2-020719-SNAPSHOT/firrtl_2.12-1.2-020719-SNAPSHOT-sources.jar\n",
      "Checking https://oss.sonatype.org/content/repositories/snapshots/edu/berkeley/cs/firrtl-interpreter_2.12/1.2-020719-SNAPSHOT/firrtl-interpreter_2.12-1.2-020719-SNAPSHOT-sources.jar\n",
      "Checked https://oss.sonatype.org/content/repositories/snapshots/edu/berkeley/cs/chisel-iotesters_2.12/1.3-020719-SNAPSHOT/chisel-iotesters_2.12-1.3-020719-SNAPSHOT-sources.jar.sha1\n",
      "Checking https://oss.sonatype.org/content/repositories/snapshots/edu/berkeley/cs/firrtl-interpreter_2.12/1.2-020719-SNAPSHOT/firrtl-interpreter_2.12-1.2-020719-SNAPSHOT-sources.jar.sha1\n",
      "Checked https://oss.sonatype.org/content/repositories/snapshots/edu/berkeley/cs/rocketchip_2.12/1.2-020719-SNAPSHOT/rocketchip_2.12-1.2-020719-SNAPSHOT-sources.jar\n",
      "Checking https://oss.sonatype.org/content/repositories/snapshots/edu/berkeley/cs/dsptools_2.12/1.2-020719-SNAPSHOT/dsptools_2.12-1.2-020719-SNAPSHOT-sources.jar\n",
      "Checked https://oss.sonatype.org/content/repositories/snapshots/edu/berkeley/cs/rocket-macros_2.12/1.2-020719-SNAPSHOT/rocket-macros_2.12-1.2-020719-SNAPSHOT-sources.jar.sha1\n",
      "Checking https://oss.sonatype.org/content/repositories/snapshots/edu/berkeley/cs/dsptools_2.12/1.2-020719-SNAPSHOT/dsptools_2.12-1.2-020719-SNAPSHOT-sources.jar.sha1\n",
      "Checked https://oss.sonatype.org/content/repositories/snapshots/edu/berkeley/cs/rocket-macros_2.12/1.2-020719-SNAPSHOT/rocket-macros_2.12-1.2-020719-SNAPSHOT-sources.jar\n",
      "Checked https://oss.sonatype.org/content/repositories/snapshots/edu/berkeley/cs/firrtl_2.12/1.2-020719-SNAPSHOT/firrtl_2.12-1.2-020719-SNAPSHOT-sources.jar.sha1\n",
      "Checked https://oss.sonatype.org/content/repositories/snapshots/edu/berkeley/cs/firrtl-interpreter_2.12/1.2-020719-SNAPSHOT/firrtl-interpreter_2.12-1.2-020719-SNAPSHOT-sources.jar\n",
      "Checked https://oss.sonatype.org/content/repositories/snapshots/edu/berkeley/cs/dsptools_2.12/1.2-020719-SNAPSHOT/dsptools_2.12-1.2-020719-SNAPSHOT-sources.jar\n",
      "Checked https://oss.sonatype.org/content/repositories/snapshots/edu/berkeley/cs/dsptools_2.12/1.2-020719-SNAPSHOT/dsptools_2.12-1.2-020719-SNAPSHOT-sources.jar.sha1\n",
      "Checked https://oss.sonatype.org/content/repositories/snapshots/edu/berkeley/cs/firrtl-interpreter_2.12/1.2-020719-SNAPSHOT/firrtl-interpreter_2.12-1.2-020719-SNAPSHOT-sources.jar.sha1\n"
     ]
    },
    {
     "name": "stdout",
     "output_type": "stream",
     "text": [
      "Compiling /Users/dan/dev/dan-fritchman/chisel-bootcamp/Main.sc #2"
     ]
    },
    {
     "data": {
      "text/plain": [
       "\u001b[36mpath\u001b[39m: \u001b[32mString\u001b[39m = \u001b[32m\"/Users/dan/dev/dan-fritchman/chisel-bootcamp/source/load-ivy.sc\"\u001b[39m"
      ]
     },
     "execution_count": 1,
     "metadata": {},
     "output_type": "execute_result"
    }
   ],
   "source": [
    "val path = System.getProperty(\"user.dir\") + \"/source/load-ivy.sc\"\n",
    "interp.load.module(ammonite.ops.Path(java.nio.file.FileSystems.getDefault().getPath(path)))"
   ]
  },
  {
   "cell_type": "markdown",
   "metadata": {},
   "source": [
    "As mentioned in the last module, these statements are needed to import Chisel. **Run this cell now** before running any future code blocks."
   ]
  },
  {
   "cell_type": "code",
   "execution_count": 2,
   "metadata": {},
   "outputs": [
    {
     "data": {
      "text/plain": [
       "\u001b[32mimport \u001b[39m\u001b[36mchisel3._\n",
       "\u001b[39m\n",
       "\u001b[32mimport \u001b[39m\u001b[36mchisel3.util._\n",
       "\u001b[39m\n",
       "\u001b[32mimport \u001b[39m\u001b[36mchisel3.iotesters.{ChiselFlatSpec, Driver, PeekPokeTester}\u001b[39m"
      ]
     },
     "execution_count": 2,
     "metadata": {},
     "output_type": "execute_result"
    }
   ],
   "source": [
    "import chisel3._\n",
    "import chisel3.util._\n",
    "import chisel3.iotesters.{ChiselFlatSpec, Driver, PeekPokeTester}"
   ]
  },
  {
   "cell_type": "markdown",
   "metadata": {},
   "source": [
    "---\n",
    "# Your First Module\n",
    "This section will present your first hardware module, a test case, and how to run it. It will contain many things that you will not understand, and that is OK. We want you to take away the broad strokes, so you can continually return to this complete and working example to reinforce what you've learned.\n",
    "\n",
    "<span style=\"color:blue\">**Example: A Module**</span><br>\n",
    "Like Verilog, we can declare module definitions in Chisel. The following example is a Chisel `Module`, `Passthrough`, that has one 4-bit input, `in`, and one 4-bit output, `out`. The module combinationally connects `in` and `out`, so `in` drives `out`."
   ]
  },
  {
   "cell_type": "code",
   "execution_count": 3,
   "metadata": {},
   "outputs": [
    {
     "data": {
      "text/plain": [
       "defined \u001b[32mclass\u001b[39m \u001b[36mPassthrough\u001b[39m"
      ]
     },
     "execution_count": 3,
     "metadata": {},
     "output_type": "execute_result"
    }
   ],
   "source": [
    "// Chisel Code: Declare a new module definition\n",
    "class Passthrough extends Module {\n",
    "  val io = IO(new Bundle {\n",
    "    val in = Input(UInt(4.W))\n",
    "    val out = Output(UInt(4.W))\n",
    "  })\n",
    "  io.out := io.in\n",
    "}"
   ]
  },
  {
   "cell_type": "markdown",
   "metadata": {},
   "source": [
    "There's a lot here! The following explains how to think of each line in terms of the hardware we are describing.\n",
    "\n",
    "```scala\n",
    "class Passthrough extends Module {\n",
    "```\n",
    "We declare a new module called `Passthrough`. `Module` is a built-in Chisel class that all hardware modules must extend.\n",
    "\n",
    "```scala \n",
    "val io = IO(...)\n",
    "```\n",
    "We declare all our input and output ports in a special `io` `val`. It must be called `io` and be an `IO` object or instance, which requires something of the form `IO(_instantiated_bundle_)`.\n",
    "\n",
    "```scala\n",
    "new Bundle {\n",
    "    val in = Input(...)\n",
    "    val out = Output(...)\n",
    "}\n",
    "```\n",
    "We declare a new hardware struct type (Bundle) that contains some named signals `in` and `out` with directions Input and Output, respectively.\n",
    "\n",
    "```scala\n",
    "UInt(4.W)\n",
    "```\n",
    "We declare a signal's hardware type. In this case, it is an unsigned integer of width 4.\n",
    "\n",
    "```scala\n",
    "io.out := io.in\n",
    "```\n",
    "We connect our input port to our output port, such that `io.in` *drives* `io.out`. Note that the `:=` operator is a ***Chisel*** operator that indicates that the right-hand signal drives the left-hand signal. It is a directioned operator.\n",
    "\n",
    "The neat thing about hardware construction languages (HCLs) is that we can use the underlying programming language as a scripting language. For example, after declaring our Chisel module, we then use Scala to call the Chisel compiler to translate Chisel `Passthrough` into Verilog `Passthrough`. This process is called ***elaboration***."
   ]
  },
  {
   "cell_type": "code",
   "execution_count": 4,
   "metadata": {},
   "outputs": [
    {
     "name": "stdout",
     "output_type": "stream",
     "text": [
      "[\u001b[35minfo\u001b[0m] [0.002] Elaborating design...\n",
      "[\u001b[35minfo\u001b[0m] [0.864] Done elaborating.\n",
      "Total FIRRTL Compile Time: 634.7 ms\n",
      "module Passthrough(\n",
      "  input        clock,\n",
      "  input        reset,\n",
      "  input  [3:0] io_in,\n",
      "  output [3:0] io_out\n",
      ");\n",
      "  assign io_out = io_in; // @[cmd2.sc 6:10]\n",
      "endmodule\n",
      "\n"
     ]
    }
   ],
   "source": [
    "// Scala Code: Elaborate our Chisel design by translating it to Verilog\n",
    "// Don't worry about understanding this code; it is very complicated Scala\n",
    "println(getVerilog(new Passthrough))"
   ]
  },
  {
   "cell_type": "markdown",
   "metadata": {},
   "source": [
    "Note that the Name of our module is `cmd<#>WrapperHelperPassthrough`, which is an artifact of running this tutorial in Jupyter. In your normal code, its name should just be `Passthrough`. This is an important lesson though - although Chisel does its best to preserve the names of your modules and other hardware components, sometimes it fails to do so.\n",
    "\n",
    "<span style=\"color:blue\">**Example: A Module Generator**</span><br>\n",
    "If we apply what we learned about Scala to this example, we can see that a Chisel module is implemented as a Scala class. Just like any other Scala class, we could make a Chisel module take some construction parameters. In this case, we make a new class `PassthroughGenerator` which will accept an integer `width` that dictates the widths of its input and output ports:"
   ]
  },
  {
   "cell_type": "code",
   "execution_count": 5,
   "metadata": {},
   "outputs": [
    {
     "name": "stdout",
     "output_type": "stream",
     "text": [
      "[\u001b[35minfo\u001b[0m] [0.000] Elaborating design...\n",
      "[\u001b[35minfo\u001b[0m] [0.030] Done elaborating.\n",
      "Total FIRRTL Compile Time: 60.1 ms\n",
      "module PassthroughGenerator(\n",
      "  input        clock,\n",
      "  input        reset,\n",
      "  input  [9:0] io_in,\n",
      "  output [9:0] io_out\n",
      ");\n",
      "  assign io_out = io_in; // @[cmd4.sc 6:10]\n",
      "endmodule\n",
      "\n",
      "[\u001b[35minfo\u001b[0m] [0.000] Elaborating design...\n",
      "[\u001b[35minfo\u001b[0m] [0.027] Done elaborating.\n",
      "Total FIRRTL Compile Time: 69.6 ms\n",
      "module PassthroughGenerator(\n",
      "  input         clock,\n",
      "  input         reset,\n",
      "  input  [19:0] io_in,\n",
      "  output [19:0] io_out\n",
      ");\n",
      "  assign io_out = io_in; // @[cmd4.sc 6:10]\n",
      "endmodule\n",
      "\n"
     ]
    },
    {
     "data": {
      "text/plain": [
       "defined \u001b[32mclass\u001b[39m \u001b[36mPassthroughGenerator\u001b[39m"
      ]
     },
     "execution_count": 5,
     "metadata": {},
     "output_type": "execute_result"
    }
   ],
   "source": [
    "// Chisel Code, but pass in a parameter to set widths of ports\n",
    "class PassthroughGenerator(width: Int) extends Module { \n",
    "  val io = IO(new Bundle {\n",
    "    val in = Input(UInt(width.W))\n",
    "    val out = Output(UInt(width.W))\n",
    "  })\n",
    "  io.out := io.in\n",
    "}\n",
    "\n",
    "// Let's now generate modules with different widths\n",
    "println(getVerilog(new PassthroughGenerator(10)))\n",
    "println(getVerilog(new PassthroughGenerator(20)))"
   ]
  },
  {
   "cell_type": "markdown",
   "metadata": {},
   "source": [
    "Notice that the generated Verilog uses different bitwidths for the input/output depending on the value assigned to the `width` parameter. Let's dig into how this works. Because Chisel Modules are normal Scala classes, we can use the power of Scala's class constructors to parameterize the elaboration of our design.\n",
    "\n",
    "You may notice that this parameterization is enabled by *Scala*, not *Chisel*; Chisel has no extra APIs for parameterization, but a designer can simply leverage Scala features to parameterize his/her designs.\n",
    "\n",
    "Because `PassthroughGenerator` no longer describes a single Module, but instead describes a family of modules parameterized by `width`, we refer to this `Passthrough` as a ***generator***."
   ]
  },
  {
   "cell_type": "markdown",
   "metadata": {},
   "source": [
    "---\n",
    "# Testing Your Hardware\n",
    "\n",
    "No hardware module or generator should be complete without a tester. Chisel has built-in test features that you will explore throughout this bootcamp. The following example is a Chisel test harness that passes values to an instance of `Passthrough`'s input port `in`, and checks that the same value is seen on the output port `out`.\n",
    "\n",
    "<span style=\"color:blue\">**Example: A Tester**</span><br>\n",
    "There is some advanced Scala going on here. However, there is no need for you to understand anything except the `poke` and `expect` commands. You can think of the rest of the code as simply boilerplate to write these simple tests."
   ]
  },
  {
   "cell_type": "code",
   "execution_count": 6,
   "metadata": {},
   "outputs": [
    {
     "name": "stdout",
     "output_type": "stream",
     "text": [
      "[\u001b[35minfo\u001b[0m] [0.000] Elaborating design...\n",
      "[\u001b[35minfo\u001b[0m] [0.071] Done elaborating.\n",
      "Total FIRRTL Compile Time: 37.7 ms\n",
      "Total FIRRTL Compile Time: 32.7 ms\n",
      "End of dependency graph\n",
      "Circuit state created\n",
      "[\u001b[35minfo\u001b[0m] [0.002] SEED 1574694294648\n",
      "test Passthrough Success: 3 tests passed in 5 cycles taking 0.019021 seconds\n",
      "[\u001b[35minfo\u001b[0m] [0.007] RAN 0 CYCLES PASSED\n",
      "SUCCESS!!\n"
     ]
    },
    {
     "data": {
      "text/plain": [
       "\u001b[36mtestResult\u001b[39m: \u001b[32mBoolean\u001b[39m = true"
      ]
     },
     "execution_count": 6,
     "metadata": {},
     "output_type": "execute_result"
    }
   ],
   "source": [
    "// Scala Code: Calling Driver to instantiate Passthrough + PeekPokeTester and execute the test.\n",
    "// Don't worry about understanding this code; it is very complicated Scala.\n",
    "// Think of it more as boilerplate to run a Chisel test.\n",
    "val testResult = Driver(() => new Passthrough()) {\n",
    "  c => new PeekPokeTester(c) {\n",
    "    poke(c.io.in, 0)     // Set our input to value 0\n",
    "    expect(c.io.out, 0)  // Assert that the output correctly has 0\n",
    "    poke(c.io.in, 1)     // Set our input to value 1\n",
    "    expect(c.io.out, 1)  // Assert that the output correctly has 1\n",
    "    poke(c.io.in, 2)     // Set our input to value 2\n",
    "    expect(c.io.out, 2)  // Assert that the output correctly has 2\n",
    "  }\n",
    "}\n",
    "assert(testResult)   // Scala Code: if testResult == false, will throw an error\n",
    "println(\"SUCCESS!!\") // Scala Code: if we get here, our tests passed!"
   ]
  },
  {
   "cell_type": "markdown",
   "metadata": {},
   "source": [
    "What's going on? The test accepts a `Passthrough` module, assigns values to the module's inputs, and checks its outputs. To set an input, we call `poke`. To check an output, we call `expect`. If we don't want to compare the output to an expected value (no assertion), we can `peek` the output instead.\n",
    "\n",
    "If all `expect` statements are true, then our boilerplate code will return true (see `testResult`)."
   ]
  },
  {
   "cell_type": "markdown",
   "metadata": {},
   "source": [
    "<span style=\"color:red\">**Exercise: Writing Your Own Testers**</span><br>\n",
    "Write and execute two tests, one that tests `PassthroughGenerator` for a width of 10 and a second that tests `PassthroughGenerator` for a width of 20. Check at least two values for each: zero and the maximum value supported by the specified width. Note that the triple question mark has a special meaning in Scala. You may see it frequently in these bootcamp exercises. Running code with the `???` will produce the `NotImplementedError`. Replace `???` with your testers."
   ]
  },
  {
   "cell_type": "code",
   "execution_count": 8,
   "metadata": {},
   "outputs": [
    {
     "name": "stdout",
     "output_type": "stream",
     "text": [
      "[\u001b[35minfo\u001b[0m] [0.000] Elaborating design...\n",
      "[\u001b[35minfo\u001b[0m] [0.092] Done elaborating.\n",
      "Total FIRRTL Compile Time: 33.9 ms\n",
      "Total FIRRTL Compile Time: 35.9 ms\n",
      "End of dependency graph\n",
      "Circuit state created\n",
      "[\u001b[35minfo\u001b[0m] [0.000] SEED 1574694499795\n",
      "test PassthroughGenerator Success: 3 tests passed in 5 cycles taking 0.015261 seconds\n",
      "[\u001b[35minfo\u001b[0m] [0.011] RAN 0 CYCLES PASSED\n",
      "[\u001b[35minfo\u001b[0m] [0.000] Elaborating design...\n",
      "[\u001b[35minfo\u001b[0m] [0.006] Done elaborating.\n",
      "Total FIRRTL Compile Time: 53.0 ms\n",
      "Total FIRRTL Compile Time: 46.1 ms\n",
      "End of dependency graph\n",
      "Circuit state created\n",
      "[\u001b[35minfo\u001b[0m] [0.000] SEED 1574694500063\n",
      "test PassthroughGenerator Success: 3 tests passed in 5 cycles taking 0.008535 seconds\n",
      "[\u001b[35minfo\u001b[0m] [0.001] RAN 0 CYCLES PASSED\n",
      "SUCCESS!!\n"
     ]
    },
    {
     "data": {
      "text/plain": [
       "\u001b[36mtestResult\u001b[39m: \u001b[32mInt\u001b[39m => \u001b[32mBoolean\u001b[39m = ammonite.$sess.cmd7$Helper$$Lambda$5111/0x0000000802640840@43a4b186\n",
       "\u001b[36mtest10result\u001b[39m: \u001b[32mBoolean\u001b[39m = true\n",
       "\u001b[36mtest20result\u001b[39m: \u001b[32mBoolean\u001b[39m = true"
      ]
     },
     "execution_count": 8,
     "metadata": {},
     "output_type": "execute_result"
    }
   ],
   "source": [
    "// Scala Code: Calling Driver to instantiate Passthrough + PeekPokeTester and execute the test.\n",
    "// Don't worry about understanding this code; it is very complicated Scala.\n",
    "// Think of it more as boilerplate to run a Chisel test.\n",
    "val testResult = (width:Int) => Driver(() => new PassthroughGenerator(width)) {\n",
    "  c => new PeekPokeTester(c) {\n",
    "    poke(c.io.in, 0)     // Set our input to value 0\n",
    "    expect(c.io.out, 0)  // Assert that the output correctly has 0\n",
    "    poke(c.io.in, 1)     // Set our input to value 1\n",
    "    expect(c.io.out, 1)  // Assert that the output correctly has 1\n",
    "    poke(c.io.in, 2)     // Set our input to value 2\n",
    "    expect(c.io.out, 2)  // Assert that the output correctly has 2\n",
    "  }\n",
    "}\n",
    "\n",
    "val test10result = testResult(10)\n",
    "\n",
    "val test20result = testResult(20)\n",
    "\n",
    "assert((test10result == true) && (test20result == true))\n",
    "println(\"SUCCESS!!\") // Scala Code: if we get here, our tests passed!"
   ]
  },
  {
   "cell_type": "markdown",
   "metadata": {},
   "source": [
    "<div id=\"container\"><section id=\"accordion\"><div>\n",
    "<input type=\"checkbox\" id=\"check-1\" />\n",
    "<label for=\"check-1\"><strong>Solution</strong> (click to toggle displaying it)</label>\n",
    "<article>\n",
    "<pre style=\"background-color:#f7f7f7\">\n",
    "val test10result = Driver(() => new PassthroughGenerator(10)) {\n",
    "  c => new PeekPokeTester(c) {\n",
    "    poke(c.io.in, 0)\n",
    "    expect(c.io.out, 0)\n",
    "    poke(c.io.in, 1023)\n",
    "    expect(c.io.out, 1023)\n",
    "  }\n",
    "}\n",
    "\n",
    "val test20result = Driver(() => new PassthroughGenerator(20)) {\n",
    "  c => new PeekPokeTester(c) {\n",
    "    poke(c.io.in, 0)\n",
    "    expect(c.io.out, 0)\n",
    "    poke(c.io.in, 1048575)\n",
    "    expect(c.io.out, 1048575)\n",
    "  }\n",
    "}\n",
    "\n",
    "</pre></article></div></section></div>"
   ]
  },
  {
   "cell_type": "markdown",
   "metadata": {},
   "source": [
    "---\n",
    "# Looking at Generated Verilog/FIRRTL\n",
    "\n",
    "If you are having trouble understanding the generated hardware and are comfortable with reading structural Verilog and/or FIRRTL (Chisel's IR which is comparable to a synthesis-only subset of Verilog), then you can try looking at the generated Verilog to see the result of Chisel execution.\n",
    "\n",
    "Here is an example of generating the Verilog (which you've seen already) and the FIRRTL."
   ]
  },
  {
   "cell_type": "code",
   "execution_count": 9,
   "metadata": {},
   "outputs": [
    {
     "name": "stdout",
     "output_type": "stream",
     "text": [
      "[\u001b[35minfo\u001b[0m] [0.000] Elaborating design...\n",
      "[\u001b[35minfo\u001b[0m] [0.076] Done elaborating.\n",
      "Total FIRRTL Compile Time: 42.6 ms\n",
      "module Passthrough(\n",
      "  input        clock,\n",
      "  input        reset,\n",
      "  input  [3:0] io_in,\n",
      "  output [3:0] io_out\n",
      ");\n",
      "  assign io_out = io_in; // @[cmd2.sc 6:10]\n",
      "endmodule\n",
      "\n"
     ]
    }
   ],
   "source": [
    "// Viewing the Verilog for debugging\n",
    "println(getVerilog(new Passthrough))"
   ]
  },
  {
   "cell_type": "code",
   "execution_count": 10,
   "metadata": {},
   "outputs": [
    {
     "name": "stdout",
     "output_type": "stream",
     "text": [
      "[\u001b[35minfo\u001b[0m] [0.000] Elaborating design...\n",
      "[\u001b[35minfo\u001b[0m] [0.062] Done elaborating.\n",
      ";buildInfoPackage: chisel3, version: 3.2-SNAPSHOT, scalaVersion: 2.12.10, sbtVersion: 1.3.2\n",
      "circuit Passthrough : \n",
      "  module Passthrough : \n",
      "    input clock : Clock\n",
      "    input reset : UInt<1>\n",
      "    output io : {flip in : UInt<4>, out : UInt<4>}\n",
      "    \n",
      "    io.out <= io.in @[cmd2.sc 6:10]\n",
      "    \n",
      "\n"
     ]
    }
   ],
   "source": [
    "// Viewing the firrtl for debugging\n",
    "println(getFirrtl(new Passthrough))"
   ]
  },
  {
   "cell_type": "markdown",
   "metadata": {},
   "source": [
    "---\n",
    "# You're done!\n",
    "\n",
    "[Return to the top.](#top)"
   ]
  },
  {
   "cell_type": "markdown",
   "metadata": {},
   "source": [
    "## <span style=\"color:red\"> Appendix: A Note on \"printf\" Debugging</span>\n",
    "[Debugging with print statements](https://stackoverflow.com/a/189570) is not always the best way to debug, but is often an easy first step to see what's going on when something doesn't work the way you expect.\n",
    "Because Chisel generators are programs generating hardware, there are some extra subtleties about printing generator and circuit state.\n",
    "It is important to remember when your print statement executes and what is being printed.\n",
    "The three common scenarios where you might want to print have some important differences:\n",
    "* Chisel generator prints during circuit generation\n",
    "* Circuit prints during circuit simulation\n",
    "* Tester prints during testing\n",
    "\n",
    "`println` is a built-in Scala function that prints to the console. It **cannot** be used to print during circuit simulation because the generated circuit is FIRRTL or Verilog- not Scala.\n",
    "\n",
    "The following code block shows different styles of printing."
   ]
  },
  {
   "cell_type": "code",
   "execution_count": 11,
   "metadata": {},
   "outputs": [
    {
     "name": "stdout",
     "output_type": "stream",
     "text": [
      "[\u001b[35minfo\u001b[0m] [0.000] Elaborating design...\n",
      "Print during generation: Input is UInt<4>(IO in unelaborated PrintingModule)\n",
      "[\u001b[35minfo\u001b[0m] [0.041] Done elaborating.\n",
      "Total FIRRTL Compile Time: 75.7 ms\n",
      "Total FIRRTL Compile Time: 49.6 ms\n",
      "End of dependency graph\n",
      "Circuit state created\n",
      "[\u001b[35minfo\u001b[0m] [0.000] SEED 1574694595836\n",
      "Print during simulation: Input is 3\n",
      "Print during simulation: IO is AnonymousBundle(in -> 3, out -> 3)\n",
      "Print during simulation: Input is 3\n",
      "Print during simulation: IO is AnonymousBundle(in -> 3, out -> 3)\n",
      "Print during simulation: Input is 3\n",
      "Print during simulation: IO is AnonymousBundle(in -> 3, out -> 3)\n",
      "Print during simulation: Input is 3\n",
      "Print during simulation: IO is AnonymousBundle(in -> 3, out -> 3)\n",
      "Print during simulation: Input is 3\n",
      "Print during simulation: IO is AnonymousBundle(in -> 3, out -> 3)\n",
      "[\u001b[35minfo\u001b[0m] [0.057] Print during testing: Input is 3\n",
      "test PrintingModule Success: 0 tests passed in 10 cycles taking 0.089145 seconds\n",
      "[\u001b[35minfo\u001b[0m] [0.058] RAN 5 CYCLES PASSED\n"
     ]
    },
    {
     "data": {
      "text/plain": [
       "defined \u001b[32mclass\u001b[39m \u001b[36mPrintingModule\u001b[39m\n",
       "defined \u001b[32mclass\u001b[39m \u001b[36mPrintingModuleTester\u001b[39m\n",
       "\u001b[36mres10_2\u001b[39m: \u001b[32mBoolean\u001b[39m = true"
      ]
     },
     "execution_count": 11,
     "metadata": {},
     "output_type": "execute_result"
    }
   ],
   "source": [
    "class PrintingModule extends Module {\n",
    "    val io = IO(new Bundle {\n",
    "        val in = Input(UInt(4.W))\n",
    "        val out = Output(UInt(4.W))\n",
    "    })\n",
    "    io.out := io.in\n",
    "\n",
    "    printf(\"Print during simulation: Input is %d\\n\", io.in)\n",
    "    // chisel printf has its own string interpolator too\n",
    "    printf(p\"Print during simulation: IO is $io\\n\")\n",
    "\n",
    "    println(s\"Print during generation: Input is ${io.in}\")\n",
    "}\n",
    "\n",
    "class PrintingModuleTester(c: PrintingModule) extends PeekPokeTester(c) {\n",
    "    poke(c.io.in, 3)\n",
    "    step(5) // circuit will print\n",
    "    \n",
    "    println(s\"Print during testing: Input is ${peek(c.io.in)}\")\n",
    "}\n",
    "chisel3.iotesters.Driver( () => new PrintingModule ) { c => new PrintingModuleTester(c) }"
   ]
  },
  {
   "cell_type": "code",
   "execution_count": null,
   "metadata": {},
   "outputs": [],
   "source": []
  }
 ],
 "metadata": {
  "anaconda-cloud": {},
  "kernelspec": {
   "display_name": "Scala",
   "language": "scala",
   "name": "scala"
  },
  "language_info": {
   "codemirror_mode": "text/x-scala",
   "file_extension": ".scala",
   "mimetype": "text/x-scala",
   "name": "scala",
   "nbconvert_exporter": "script",
   "version": "2.12.8"
  }
 },
 "nbformat": 4,
 "nbformat_minor": 2
}
