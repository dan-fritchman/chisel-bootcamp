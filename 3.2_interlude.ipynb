{
 "cells": [
  {
   "cell_type": "markdown",
   "metadata": {},
   "source": [
    "<a name=\"top\"></a><img src=\"images/chisel_1024.png\" alt=\"Chisel logo\" style=\"width:480px;\" />"
   ]
  },
  {
   "cell_type": "markdown",
   "metadata": {},
   "source": [
    "# Module 3 Interlude: Chisel Standard Library\n",
    "**Prev: [Generators: Collections](3.2_collections.ipynb)**<br>\n",
    "**Next: [Higher-Order Functions](3.3_higher-order_functions.ipynb)**\n",
    "\n",
    "## Motivation\n",
    "Chisel is all about re-use, so it only makes sense to provide a standard library of interfaces (encouraging interoperability of RTL) and generators for commonly-used hardware blocks.\n",
    "\n",
    "## Setup"
   ]
  },
  {
   "cell_type": "code",
   "execution_count": 1,
   "metadata": {},
   "outputs": [
    {
     "name": "stdout",
     "output_type": "stream",
     "text": [
      "Compiling /Users/dan/dev/dan-fritchman/chisel-bootcamp/Main.sc"
     ]
    },
    {
     "name": "stderr",
     "output_type": "stream",
     "text": [
      "Downloading https://repo1.maven.org/maven2/edu/berkeley/cs/chisel3_2.12/3.2-SNAPSHOT/chisel3_2.12-3.2-SNAPSHOT.pom.sha1\n",
      "Downloading https://repo1.maven.org/maven2/edu/berkeley/cs/chisel3_2.12/3.2-SNAPSHOT/chisel3_2.12-3.2-SNAPSHOT.pom\n",
      "Downloading https://repo1.maven.org/maven2/edu/berkeley/cs/chisel3_2.12/3.2-SNAPSHOT/maven-metadata.xml\n",
      "Downloading https://repo1.maven.org/maven2/edu/berkeley/cs/chisel3_2.12/3.2-SNAPSHOT/maven-metadata.xml.sha1\n",
      "Downloading https://repo1.maven.org/maven2/edu/berkeley/cs/firrtl_2.12/1.2-SNAPSHOT/firrtl_2.12-1.2-SNAPSHOT.pom.sha1\n",
      "Downloading https://repo1.maven.org/maven2/edu/berkeley/cs/firrtl_2.12/1.2-SNAPSHOT/firrtl_2.12-1.2-SNAPSHOT.pom\n",
      "Downloading https://repo1.maven.org/maven2/edu/berkeley/cs/firrtl_2.12/1.2-SNAPSHOT/maven-metadata.xml.sha1\n",
      "Downloading https://repo1.maven.org/maven2/edu/berkeley/cs/firrtl_2.12/1.2-SNAPSHOT/maven-metadata.xml\n",
      "Downloading https://repo1.maven.org/maven2/edu/berkeley/cs/chisel-iotesters_2.12/1.3-SNAPSHOT/chisel-iotesters_2.12-1.3-SNAPSHOT.pom\n",
      "Downloading https://repo1.maven.org/maven2/edu/berkeley/cs/chisel-iotesters_2.12/1.3-SNAPSHOT/chisel-iotesters_2.12-1.3-SNAPSHOT.pom.sha1\n",
      "Downloading https://repo1.maven.org/maven2/edu/berkeley/cs/chisel-iotesters_2.12/1.3-SNAPSHOT/maven-metadata.xml\n",
      "Downloading https://repo1.maven.org/maven2/edu/berkeley/cs/chisel-iotesters_2.12/1.3-SNAPSHOT/maven-metadata.xml.sha1\n",
      "Downloading https://repo1.maven.org/maven2/edu/berkeley/cs/firrtl-interpreter_2.12/1.2-SNAPSHOT/firrtl-interpreter_2.12-1.2-SNAPSHOT.pom.sha1\n",
      "Downloading https://repo1.maven.org/maven2/edu/berkeley/cs/chisel3_2.12/3.2-SNAPSHOT/chisel3_2.12-3.2-SNAPSHOT.pom.sha1\n",
      "Downloading https://repo1.maven.org/maven2/edu/berkeley/cs/firrtl-interpreter_2.12/1.2-SNAPSHOT/firrtl-interpreter_2.12-1.2-SNAPSHOT.pom\n",
      "Downloading https://repo1.maven.org/maven2/edu/berkeley/cs/treadle_2.12/1.1-SNAPSHOT/treadle_2.12-1.1-SNAPSHOT.pom\n",
      "Downloading https://repo1.maven.org/maven2/edu/berkeley/cs/treadle_2.12/1.1-SNAPSHOT/treadle_2.12-1.1-SNAPSHOT.pom.sha1\n",
      "Downloading https://repo1.maven.org/maven2/edu/berkeley/cs/chisel3_2.12/3.2-SNAPSHOT/chisel3_2.12-3.2-SNAPSHOT.pom\n",
      "Downloading https://repo1.maven.org/maven2/edu/berkeley/cs/firrtl_2.12/1.2-SNAPSHOT/firrtl_2.12-1.2-SNAPSHOT.pom\n",
      "Downloading https://repo1.maven.org/maven2/edu/berkeley/cs/firrtl_2.12/1.2-SNAPSHOT/firrtl_2.12-1.2-SNAPSHOT.pom.sha1\n",
      "Downloading https://repo1.maven.org/maven2/edu/berkeley/cs/chisel3_2.12/3.2-SNAPSHOT/maven-metadata.xml\n",
      "Downloading https://repo1.maven.org/maven2/edu/berkeley/cs/firrtl-interpreter_2.12/1.2-SNAPSHOT/maven-metadata.xml\n",
      "Downloading https://repo1.maven.org/maven2/edu/berkeley/cs/chisel3_2.12/3.2-SNAPSHOT/maven-metadata.xml.sha1\n",
      "Downloading https://repo1.maven.org/maven2/edu/berkeley/cs/firrtl-interpreter_2.12/1.2-SNAPSHOT/maven-metadata.xml.sha1\n",
      "Downloading https://repo1.maven.org/maven2/edu/berkeley/cs/firrtl_2.12/1.2-SNAPSHOT/maven-metadata.xml\n",
      "Downloading https://repo1.maven.org/maven2/edu/berkeley/cs/firrtl_2.12/1.2-SNAPSHOT/maven-metadata.xml.sha1\n",
      "Downloading https://repo1.maven.org/maven2/edu/berkeley/cs/treadle_2.12/1.1-SNAPSHOT/maven-metadata.xml\n",
      "Downloading https://repo1.maven.org/maven2/edu/berkeley/cs/treadle_2.12/1.1-SNAPSHOT/maven-metadata.xml.sha1\n",
      "Downloading https://repo1.maven.org/maven2/edu/berkeley/cs/chisel-testers2_2.12/0.1-SNAPSHOT/chisel-testers2_2.12-0.1-SNAPSHOT.pom\n",
      "Downloading https://repo1.maven.org/maven2/edu/berkeley/cs/chisel-testers2_2.12/0.1-SNAPSHOT/chisel-testers2_2.12-0.1-SNAPSHOT.pom.sha1\n",
      "Downloading https://repo1.maven.org/maven2/edu/berkeley/cs/chisel-testers2_2.12/0.1-SNAPSHOT/maven-metadata.xml\n",
      "Downloading https://repo1.maven.org/maven2/edu/berkeley/cs/chisel-testers2_2.12/0.1-SNAPSHOT/maven-metadata.xml.sha1\n",
      "Downloading https://repo1.maven.org/maven2/edu/berkeley/cs/chisel3_2.12/3.2-SNAPSHOT/chisel3_2.12-3.2-SNAPSHOT.pom\n",
      "Downloading https://repo1.maven.org/maven2/edu/berkeley/cs/treadle_2.12/1.1-SNAPSHOT/treadle_2.12-1.1-SNAPSHOT.pom\n",
      "Downloading https://repo1.maven.org/maven2/edu/berkeley/cs/treadle_2.12/1.1-SNAPSHOT/treadle_2.12-1.1-SNAPSHOT.pom.sha1\n",
      "Downloading https://repo1.maven.org/maven2/edu/berkeley/cs/chisel3_2.12/3.2-SNAPSHOT/chisel3_2.12-3.2-SNAPSHOT.pom.sha1\n",
      "Downloading https://repo1.maven.org/maven2/edu/berkeley/cs/treadle_2.12/1.1-SNAPSHOT/maven-metadata.xml\n",
      "Downloading https://repo1.maven.org/maven2/edu/berkeley/cs/treadle_2.12/1.1-SNAPSHOT/maven-metadata.xml.sha1\n",
      "Downloading https://repo1.maven.org/maven2/edu/berkeley/cs/chisel3_2.12/3.2-SNAPSHOT/maven-metadata.xml\n",
      "Downloading https://repo1.maven.org/maven2/edu/berkeley/cs/chisel3_2.12/3.2-SNAPSHOT/maven-metadata.xml.sha1\n",
      "Downloading https://repo1.maven.org/maven2/edu/berkeley/cs/firrtl_2.12/1.2-SNAPSHOT/firrtl_2.12-1.2-SNAPSHOT.pom.sha1\n",
      "Downloading https://repo1.maven.org/maven2/edu/berkeley/cs/firrtl_2.12/1.2-SNAPSHOT/firrtl_2.12-1.2-SNAPSHOT.pom\n",
      "Downloading https://repo1.maven.org/maven2/edu/berkeley/cs/firrtl_2.12/1.2-SNAPSHOT/maven-metadata.xml\n",
      "Downloading https://repo1.maven.org/maven2/edu/berkeley/cs/firrtl_2.12/1.2-SNAPSHOT/maven-metadata.xml.sha1\n",
      "Downloading https://repo1.maven.org/maven2/net/sourceforge/f2j/arpack_combined_all/0.1/arpack_combined_all-0.1-sources.jar.sha1\n",
      "Downloading https://repo1.maven.org/maven2/net/sourceforge/f2j/arpack_combined_all/0.1/arpack_combined_all-0.1-sources.jar\n",
      "Downloading https://repo1.maven.org/maven2/net/sourceforge/f2j/arpack_combined_all/0.1/arpack_combined_all-0.1-sources.jar\n",
      "Downloading https://repo1.maven.org/maven2/net/sourceforge/f2j/arpack_combined_all/0.1/arpack_combined_all-0.1-sources.jar.sha1\n",
      "Downloading https://repo1.maven.org/maven2/edu/berkeley/cs/rocket-dsptools_2.12/1.2-020719-SNAPSHOT/rocket-dsptools_2.12-1.2-020719-SNAPSHOT.pom\n",
      "Downloading https://repo1.maven.org/maven2/edu/berkeley/cs/rocket-dsptools_2.12/1.2-020719-SNAPSHOT/rocket-dsptools_2.12-1.2-020719-SNAPSHOT.pom.sha1\n",
      "Downloading https://repo1.maven.org/maven2/edu/berkeley/cs/rocket-dsptools_2.12/1.2-020719-SNAPSHOT/maven-metadata.xml\n",
      "Downloading https://repo1.maven.org/maven2/edu/berkeley/cs/rocket-dsptools_2.12/1.2-020719-SNAPSHOT/maven-metadata.xml.sha1\n",
      "Downloading https://repo1.maven.org/maven2/edu/berkeley/cs/rocketchip_2.12/1.2-020719-SNAPSHOT/rocketchip_2.12-1.2-020719-SNAPSHOT.pom.sha1\n",
      "Downloading https://repo1.maven.org/maven2/edu/berkeley/cs/rocketchip_2.12/1.2-020719-SNAPSHOT/rocketchip_2.12-1.2-020719-SNAPSHOT.pom\n",
      "Downloading https://repo1.maven.org/maven2/edu/berkeley/cs/chisel-iotesters_2.12/1.3-020719-SNAPSHOT/chisel-iotesters_2.12-1.3-020719-SNAPSHOT.pom\n",
      "Downloading https://repo1.maven.org/maven2/edu/berkeley/cs/dsptools_2.12/1.2-020719-SNAPSHOT/dsptools_2.12-1.2-020719-SNAPSHOT.pom.sha1\n",
      "Downloading https://repo1.maven.org/maven2/edu/berkeley/cs/dsptools_2.12/1.2-020719-SNAPSHOT/dsptools_2.12-1.2-020719-SNAPSHOT.pom\n",
      "Downloading https://repo1.maven.org/maven2/edu/berkeley/cs/chisel3_2.12/3.2-020719-SNAPSHOT/chisel3_2.12-3.2-020719-SNAPSHOT.pom\n",
      "Downloading https://repo1.maven.org/maven2/edu/berkeley/cs/rocketchip_2.12/1.2-020719-SNAPSHOT/maven-metadata.xml\n",
      "Downloading https://repo1.maven.org/maven2/edu/berkeley/cs/rocketchip_2.12/1.2-020719-SNAPSHOT/maven-metadata.xml.sha1\n",
      "Downloading https://repo1.maven.org/maven2/edu/berkeley/cs/chisel3_2.12/3.2-020719-SNAPSHOT/chisel3_2.12-3.2-020719-SNAPSHOT.pom.sha1\n",
      "Downloading https://repo1.maven.org/maven2/edu/berkeley/cs/chisel-iotesters_2.12/1.3-020719-SNAPSHOT/chisel-iotesters_2.12-1.3-020719-SNAPSHOT.pom.sha1\n",
      "Downloading https://repo1.maven.org/maven2/edu/berkeley/cs/dsptools_2.12/1.2-020719-SNAPSHOT/maven-metadata.xml\n",
      "Downloading https://repo1.maven.org/maven2/edu/berkeley/cs/dsptools_2.12/1.2-020719-SNAPSHOT/maven-metadata.xml.sha1\n",
      "Downloading https://repo1.maven.org/maven2/edu/berkeley/cs/chisel3_2.12/3.2-020719-SNAPSHOT/maven-metadata.xml.sha1\n",
      "Downloading https://repo1.maven.org/maven2/edu/berkeley/cs/chisel3_2.12/3.2-020719-SNAPSHOT/maven-metadata.xml\n",
      "Downloading https://repo1.maven.org/maven2/edu/berkeley/cs/chisel-iotesters_2.12/1.3-020719-SNAPSHOT/maven-metadata.xml.sha1\n",
      "Downloading https://repo1.maven.org/maven2/edu/berkeley/cs/chisel-iotesters_2.12/1.3-020719-SNAPSHOT/maven-metadata.xml\n",
      "Downloading https://repo1.maven.org/maven2/edu/berkeley/cs/hardfloat_2.12/1.2-020719-SNAPSHOT/hardfloat_2.12-1.2-020719-SNAPSHOT.pom.sha1\n",
      "Downloading https://repo1.maven.org/maven2/edu/berkeley/cs/hardfloat_2.12/1.2-020719-SNAPSHOT/hardfloat_2.12-1.2-020719-SNAPSHOT.pom\n"
     ]
    },
    {
     "name": "stderr",
     "output_type": "stream",
     "text": [
      "Downloading https://repo1.maven.org/maven2/edu/berkeley/cs/rocket-macros_2.12/1.2-020719-SNAPSHOT/rocket-macros_2.12-1.2-020719-SNAPSHOT.pom\n",
      "Downloading https://repo1.maven.org/maven2/edu/berkeley/cs/treadle_2.12/1.1-020719-SNAPSHOT/treadle_2.12-1.1-020719-SNAPSHOT.pom\n",
      "Downloading https://repo1.maven.org/maven2/edu/berkeley/cs/rocket-macros_2.12/1.2-020719-SNAPSHOT/rocket-macros_2.12-1.2-020719-SNAPSHOT.pom.sha1\n",
      "Downloading https://repo1.maven.org/maven2/edu/berkeley/cs/treadle_2.12/1.1-020719-SNAPSHOT/treadle_2.12-1.1-020719-SNAPSHOT.pom.sha1\n",
      "Downloading https://repo1.maven.org/maven2/edu/berkeley/cs/firrtl_2.12/1.2-020719-SNAPSHOT/firrtl_2.12-1.2-020719-SNAPSHOT.pom\n",
      "Downloading https://repo1.maven.org/maven2/edu/berkeley/cs/firrtl_2.12/1.2-020719-SNAPSHOT/firrtl_2.12-1.2-020719-SNAPSHOT.pom.sha1\n",
      "Downloading https://repo1.maven.org/maven2/edu/berkeley/cs/firrtl-interpreter_2.12/1.2-020719-SNAPSHOT/firrtl-interpreter_2.12-1.2-020719-SNAPSHOT.pom\n",
      "Downloading https://repo1.maven.org/maven2/edu/berkeley/cs/firrtl-interpreter_2.12/1.2-020719-SNAPSHOT/firrtl-interpreter_2.12-1.2-020719-SNAPSHOT.pom.sha1\n",
      "Downloading https://repo1.maven.org/maven2/edu/berkeley/cs/hardfloat_2.12/1.2-020719-SNAPSHOT/maven-metadata.xml\n",
      "Downloading https://repo1.maven.org/maven2/edu/berkeley/cs/hardfloat_2.12/1.2-020719-SNAPSHOT/maven-metadata.xml.sha1\n",
      "Downloading https://repo1.maven.org/maven2/edu/berkeley/cs/rocket-macros_2.12/1.2-020719-SNAPSHOT/maven-metadata.xml\n",
      "Downloading https://repo1.maven.org/maven2/edu/berkeley/cs/rocket-macros_2.12/1.2-020719-SNAPSHOT/maven-metadata.xml.sha1\n",
      "Downloading https://repo1.maven.org/maven2/edu/berkeley/cs/firrtl-interpreter_2.12/1.2-020719-SNAPSHOT/maven-metadata.xml\n",
      "Downloading https://repo1.maven.org/maven2/edu/berkeley/cs/firrtl-interpreter_2.12/1.2-020719-SNAPSHOT/maven-metadata.xml.sha1\n",
      "Downloading https://repo1.maven.org/maven2/edu/berkeley/cs/firrtl_2.12/1.2-020719-SNAPSHOT/maven-metadata.xml\n",
      "Downloading https://repo1.maven.org/maven2/edu/berkeley/cs/firrtl_2.12/1.2-020719-SNAPSHOT/maven-metadata.xml.sha1\n",
      "Downloading https://repo1.maven.org/maven2/edu/berkeley/cs/treadle_2.12/1.1-020719-SNAPSHOT/maven-metadata.xml\n",
      "Downloading https://repo1.maven.org/maven2/edu/berkeley/cs/treadle_2.12/1.1-020719-SNAPSHOT/maven-metadata.xml.sha1\n",
      "Downloading https://repo1.maven.org/maven2/net/sourceforge/f2j/arpack_combined_all/0.1/arpack_combined_all-0.1-sources.jar.sha1\n",
      "Downloading https://repo1.maven.org/maven2/net/sourceforge/f2j/arpack_combined_all/0.1/arpack_combined_all-0.1-sources.jar\n"
     ]
    },
    {
     "name": "stdout",
     "output_type": "stream",
     "text": [
      "Compiling /Users/dan/dev/dan-fritchman/chisel-bootcamp/Main.sc #2"
     ]
    },
    {
     "data": {
      "text/plain": [
       "\u001b[36mpath\u001b[39m: \u001b[32mString\u001b[39m = \u001b[32m\"/Users/dan/dev/dan-fritchman/chisel-bootcamp/source/load-ivy.sc\"\u001b[39m"
      ]
     },
     "execution_count": 1,
     "metadata": {},
     "output_type": "execute_result"
    }
   ],
   "source": [
    "val path = System.getProperty(\"user.dir\") + \"/source/load-ivy.sc\"\n",
    "interp.load.module(ammonite.ops.Path(java.nio.file.FileSystems.getDefault().getPath(path)))"
   ]
  },
  {
   "cell_type": "code",
   "execution_count": 2,
   "metadata": {},
   "outputs": [
    {
     "data": {
      "text/plain": [
       "\u001b[32mimport \u001b[39m\u001b[36mchisel3._\n",
       "\u001b[39m\n",
       "\u001b[32mimport \u001b[39m\u001b[36mchisel3.util._\n",
       "\u001b[39m\n",
       "\u001b[32mimport \u001b[39m\u001b[36mchisel3.iotesters.{ChiselFlatSpec, Driver, PeekPokeTester}\u001b[39m"
      ]
     },
     "execution_count": 2,
     "metadata": {},
     "output_type": "execute_result"
    }
   ],
   "source": [
    "import chisel3._\n",
    "import chisel3.util._\n",
    "import chisel3.iotesters.{ChiselFlatSpec, Driver, PeekPokeTester}"
   ]
  },
  {
   "cell_type": "markdown",
   "metadata": {},
   "source": [
    "---\n",
    "# The Cheatsheet\n",
    "The [Chisel3 cheatsheet](https://chisel.eecs.berkeley.edu/doc/chisel-cheatsheet3.pdf) contains a summary of all the major hardware construction APIs, including some of the standard library utilities that we'll introduce below.\n",
    "\n",
    "# Decoupled: A Standard Ready-Valid Interface\n",
    "One of the commonly used interfaces provided by Chisel is `DecoupledIO`, providing a ready-valid interface for transferring data. The idea is that the source drives the `bits` signal with the data to be transferred and the `valid` signal when there is data to be transferred. The sink drives the `ready` signal when it is ready to accept data, and data is considered transferred when both `ready` and `valid` are asserted on a cycle.\n",
    "\n",
    "This provides a flow control mechanism in both directions for data transfer, including a backpressure mechanism.\n",
    "\n",
    "Note: `ready` and `valid` should not be combinationally coupled, otherwise this may result in unsynthesizable combinational loops. `ready` should only be dependent on whether the sink is able to receive data, and `valid` should only be dependent on whether the source has data. Only after the transaction (on the next clock cycle) should the values update.\n",
    "\n",
    "Any Chisel data can be wrapped in a `DecoupledIO` (used as the `bits` field) as follows:\n",
    "\n",
    "```scala\n",
    "val myChiselData = UInt(8.W)\n",
    "// or any Chisel data type, such as Bool(), SInt(...), or even custom Bundles\n",
    "val myDecoupled = Decoupled(myChiselData)\n",
    "```\n",
    "\n",
    "The above creates a new `DecoupledIO` Bundle with fields\n",
    "- `valid`: Output(Bool)\n",
    "- `ready`: Input(Bool)\n",
    "- `bits`: Output(UInt(8.W))\n",
    "___\n",
    "\n",
    "The rest of the section will be structured somewhat differently from the ones before: instead of giving you coding exercises, we're going to give some code examples and testcases that print the circuit state. Try to predict what will be printed before just running the tests.\n",
    "\n",
    "## Queues\n",
    "\n",
    "`Queue` creates a FIFO (first-in, first-out) queue with Decoupled interfaces on both sides, allowing backpressure. Both the data type and number of elements are configurable."
   ]
  },
  {
   "cell_type": "code",
   "execution_count": 3,
   "metadata": {},
   "outputs": [
    {
     "name": "stdout",
     "output_type": "stream",
     "text": [
      "[\u001b[35minfo\u001b[0m] [0.002] Elaborating design...\n",
      "[\u001b[35minfo\u001b[0m] [0.996] Done elaborating.\n",
      "Total FIRRTL Compile Time: 639.1 ms\n",
      "Total FIRRTL Compile Time: 130.6 ms\n",
      "End of dependency graph\n",
      "Circuit state created\n",
      "[\u001b[35minfo\u001b[0m] [0.004] SEED 1575033418901\n",
      "[\u001b[35minfo\u001b[0m] [0.021] Starting:\n",
      "[\u001b[35minfo\u001b[0m] [0.037] \tio.in: ready=1\n",
      "[\u001b[35minfo\u001b[0m] [0.039] \tio.out: valid=0, bits=173\n",
      "[\u001b[35minfo\u001b[0m] [0.064] After first enqueue:\n",
      "[\u001b[35minfo\u001b[0m] [0.065] \tio.in: ready=1\n",
      "[\u001b[35minfo\u001b[0m] [0.074] \tio.out: valid=1, bits=42\n",
      "[\u001b[35minfo\u001b[0m] [0.084] On first read:\n",
      "[\u001b[35minfo\u001b[0m] [0.090] \tio.in: ready=0\n",
      "[\u001b[35minfo\u001b[0m] [0.096] \tio.out: valid=1, bits=42\n",
      "[\u001b[35minfo\u001b[0m] [0.115] On second read:\n",
      "[\u001b[35minfo\u001b[0m] [0.118] \tio.in: ready=1\n",
      "[\u001b[35minfo\u001b[0m] [0.126] \tio.out: valid=1, bits=43\n",
      "[\u001b[35minfo\u001b[0m] [0.128] On third read:\n",
      "[\u001b[35minfo\u001b[0m] [0.132] \tio.in: ready=1\n",
      "[\u001b[35minfo\u001b[0m] [0.134] \tio.out: valid=0, bits=42\n",
      "test _1 Success: 0 tests passed in 10 cycles taking 0.175850 seconds\n",
      "[\u001b[35minfo\u001b[0m] [0.157] RAN 5 CYCLES PASSED\n"
     ]
    },
    {
     "data": {
      "text/plain": [
       "\u001b[36mres2\u001b[39m: \u001b[32mBoolean\u001b[39m = true"
      ]
     },
     "execution_count": 3,
     "metadata": {},
     "output_type": "execute_result"
    }
   ],
   "source": [
    "Driver(() => new Module {\n",
    "    // Example circuit using a Queue\n",
    "    val io = IO(new Bundle {\n",
    "      val in = Flipped(Decoupled(UInt(8.W)))\n",
    "      val out = Decoupled(UInt(8.W))\n",
    "    })\n",
    "    val queue = Queue(io.in, 2)  // 2-element queue\n",
    "    io.out <> queue\n",
    "  }) { c => new PeekPokeTester(c) {\n",
    "    // Example testsequence showing the use and behavior of Queue\n",
    "    poke(c.io.out.ready, 0)\n",
    "    poke(c.io.in.valid, 1)  // Enqueue an element\n",
    "    poke(c.io.in.bits, 42)\n",
    "    println(s\"Starting:\")\n",
    "    println(s\"\\tio.in: ready=${peek(c.io.in.ready)}\")\n",
    "    println(s\"\\tio.out: valid=${peek(c.io.out.valid)}, bits=${peek(c.io.out.bits)}\")\n",
    "    step(1)\n",
    "  \n",
    "    poke(c.io.in.valid, 1)  // Enqueue another element\n",
    "    poke(c.io.in.bits, 43)\n",
    "    // What do you think io.out.valid and io.out.bits will be?\n",
    "    println(s\"After first enqueue:\")\n",
    "    println(s\"\\tio.in: ready=${peek(c.io.in.ready)}\")\n",
    "    println(s\"\\tio.out: valid=${peek(c.io.out.valid)}, bits=${peek(c.io.out.bits)}\")\n",
    "    step(1)\n",
    "  \n",
    "    poke(c.io.in.valid, 1)  // Read a element, attempt to enqueue\n",
    "    poke(c.io.in.bits, 44)\n",
    "    poke(c.io.out.ready, 1)\n",
    "    // What do you think io.in.ready will be, and will this enqueue succeed, and what will be read?\n",
    "    println(s\"On first read:\")\n",
    "    println(s\"\\tio.in: ready=${peek(c.io.in.ready)}\")\n",
    "    println(s\"\\tio.out: valid=${peek(c.io.out.valid)}, bits=${peek(c.io.out.bits)}\")\n",
    "    step(1)\n",
    "  \n",
    "    poke(c.io.in.valid, 0)  // Read elements out\n",
    "    poke(c.io.out.ready, 1)\n",
    "    // What do you think will be read here?\n",
    "    println(s\"On second read:\")\n",
    "    println(s\"\\tio.in: ready=${peek(c.io.in.ready)}\")\n",
    "    println(s\"\\tio.out: valid=${peek(c.io.out.valid)}, bits=${peek(c.io.out.bits)}\")\n",
    "    step(1)\n",
    "  \n",
    "    // Will a third read produce anything?\n",
    "    println(s\"On third read:\")\n",
    "    println(s\"\\tio.in: ready=${peek(c.io.in.ready)}\")\n",
    "    println(s\"\\tio.out: valid=${peek(c.io.out.valid)}, bits=${peek(c.io.out.bits)}\")\n",
    "    step(1)\n",
    "} }"
   ]
  },
  {
   "cell_type": "markdown",
   "metadata": {},
   "source": [
    "## Arbiters\n",
    "Arbiters routes data from _n_ `DecoupledIO` sources to one `DecoupledIO` sink, given a prioritization.\n",
    "There are two types included in Chisel:\n",
    "- `Arbiter`: prioritizes lower-index producers\n",
    "- `RRArbiter`: runs in round-robin order\n",
    "\n",
    "Note that Arbiter routing is implemented in combinational logic.\n",
    "\n",
    "The below example will demonstrate the use of the priority arbiter (which you will also implement in the next section):"
   ]
  },
  {
   "cell_type": "code",
   "execution_count": 4,
   "metadata": {},
   "outputs": [
    {
     "name": "stdout",
     "output_type": "stream",
     "text": [
      "[\u001b[35minfo\u001b[0m] [0.000] Elaborating design...\n",
      "[\u001b[35minfo\u001b[0m] [0.162] Done elaborating.\n",
      "Total FIRRTL Compile Time: 109.5 ms\n",
      "Total FIRRTL Compile Time: 106.4 ms\n",
      "End of dependency graph\n",
      "Circuit state created\n",
      "[\u001b[35minfo\u001b[0m] [0.000] SEED 1575033549856\n",
      "[\u001b[35minfo\u001b[0m] [0.001] Start:\n",
      "[\u001b[35minfo\u001b[0m] [0.007] \tin(0).ready=1, in(1).ready=1\n",
      "[\u001b[35minfo\u001b[0m] [0.015] \tout.valid=0, out.bits=49\n",
      "[\u001b[35minfo\u001b[0m] [0.016] valid input 1:\n",
      "[\u001b[35minfo\u001b[0m] [0.034] \tin(0).ready=1, in(1).ready=1\n",
      "[\u001b[35minfo\u001b[0m] [0.040] \tout.valid=1, out.bits=42\n",
      "[\u001b[35minfo\u001b[0m] [0.041] valid inputs 0 and 1:\n",
      "[\u001b[35minfo\u001b[0m] [0.051] \tin(0).ready=1, in(1).ready=0\n",
      "[\u001b[35minfo\u001b[0m] [0.053] \tout.valid=1, out.bits=43\n",
      "[\u001b[35minfo\u001b[0m] [0.062] valid input 0:\n",
      "[\u001b[35minfo\u001b[0m] [0.064] \tin(0).ready=1, in(1).ready=0\n",
      "[\u001b[35minfo\u001b[0m] [0.066] \tout.valid=1, out.bits=43\n",
      "test _1 Success: 0 tests passed in 5 cycles taking 0.076981 seconds\n",
      "[\u001b[35minfo\u001b[0m] [0.068] RAN 0 CYCLES PASSED\n"
     ]
    },
    {
     "data": {
      "text/plain": [
       "\u001b[36mres3\u001b[39m: \u001b[32mBoolean\u001b[39m = true"
      ]
     },
     "execution_count": 4,
     "metadata": {},
     "output_type": "execute_result"
    }
   ],
   "source": [
    "Driver(() => new Module {\n",
    "    // Example circuit using a priority arbiter\n",
    "    val io = IO(new Bundle {\n",
    "      val in = Flipped(Vec(2, Decoupled(UInt(8.W))))\n",
    "      val out = Decoupled(UInt(8.W))\n",
    "    })\n",
    "    // Arbiter doesn't have a convenience constructor, so it's built like any Module\n",
    "    val arbiter = Module(new Arbiter(UInt(8.W), 2))  // 2 to 1 Priority Arbiter\n",
    "    arbiter.io.in <> io.in\n",
    "    io.out <> arbiter.io.out\n",
    "  }) { c => new PeekPokeTester(c) {\n",
    "    poke(c.io.in(0).valid, 0)\n",
    "    poke(c.io.in(1).valid, 0)\n",
    "    println(s\"Start:\")\n",
    "    println(s\"\\tin(0).ready=${peek(c.io.in(0).ready)}, in(1).ready=${peek(c.io.in(1).ready)}\")\n",
    "    println(s\"\\tout.valid=${peek(c.io.out.valid)}, out.bits=${peek(c.io.out.bits)}\")\n",
    "    poke(c.io.in(1).valid, 1)  // Valid input 1\n",
    "    poke(c.io.in(1).bits, 42)\n",
    "    // What do you think the output will be?\n",
    "    println(s\"valid input 1:\")\n",
    "    println(s\"\\tin(0).ready=${peek(c.io.in(0).ready)}, in(1).ready=${peek(c.io.in(1).ready)}\")\n",
    "    println(s\"\\tout.valid=${peek(c.io.out.valid)}, out.bits=${peek(c.io.out.bits)}\")\n",
    "    poke(c.io.in(0).valid, 1)  // Valid inputs 0 and 1\n",
    "    poke(c.io.in(0).bits, 43)\n",
    "    // What do you think the output will be? Which inputs will be ready?\n",
    "    println(s\"valid inputs 0 and 1:\")\n",
    "    println(s\"\\tin(0).ready=${peek(c.io.in(0).ready)}, in(1).ready=${peek(c.io.in(1).ready)}\")\n",
    "    println(s\"\\tout.valid=${peek(c.io.out.valid)}, out.bits=${peek(c.io.out.bits)}\")\n",
    "    poke(c.io.in(1).valid, 0)  // Valid input 0\n",
    "    // What do you think the output will be?\n",
    "    println(s\"valid input 0:\")\n",
    "    println(s\"\\tin(0).ready=${peek(c.io.in(0).ready)}, in(1).ready=${peek(c.io.in(1).ready)}\")\n",
    "    println(s\"\\tout.valid=${peek(c.io.out.valid)}, out.bits=${peek(c.io.out.bits)}\")\n",
    "} }"
   ]
  },
  {
   "cell_type": "markdown",
   "metadata": {},
   "source": [
    "# Misc Function Blocks\n",
    "Chisel Utils has some helpers that perform stateless functions.\n",
    "\n",
    "## Bitwise Utilities\n",
    "### PopCount\n",
    "PopCount returns the number of high (1) bits in the input as a `UInt`.\n",
    "\n",
    "### Reverse\n",
    "Reverse returns the bit-reversed input."
   ]
  },
  {
   "cell_type": "code",
   "execution_count": 5,
   "metadata": {},
   "outputs": [
    {
     "name": "stdout",
     "output_type": "stream",
     "text": [
      "[\u001b[35minfo\u001b[0m] [0.000] Elaborating design...\n",
      "[\u001b[35minfo\u001b[0m] [0.080] Done elaborating.\n",
      "Total FIRRTL Compile Time: 55.2 ms\n",
      "Total FIRRTL Compile Time: 52.1 ms\n",
      "End of dependency graph\n",
      "Circuit state created\n",
      "[\u001b[35minfo\u001b[0m] [0.001] SEED 1575033591311\n",
      "[\u001b[35minfo\u001b[0m] [0.017] in=0b0, out=0\n",
      "[\u001b[35minfo\u001b[0m] [0.031] in=0b1111, out=4\n",
      "[\u001b[35minfo\u001b[0m] [0.037] in=0b11001010, out=4\n",
      "[\u001b[35minfo\u001b[0m] [0.052] in=0b11111111, out=8\n",
      "test _1 Success: 0 tests passed in 5 cycles taking 0.068548 seconds\n",
      "[\u001b[35minfo\u001b[0m] [0.073] RAN 0 CYCLES PASSED\n"
     ]
    },
    {
     "data": {
      "text/plain": [
       "\u001b[36mres4\u001b[39m: \u001b[32mBoolean\u001b[39m = true"
      ]
     },
     "execution_count": 5,
     "metadata": {},
     "output_type": "execute_result"
    }
   ],
   "source": [
    "Driver(() => new Module {\n",
    "    // Example circuit using Reverse\n",
    "    val io = IO(new Bundle {\n",
    "      val in = Input(UInt(8.W))\n",
    "      val out = Output(UInt(8.W))\n",
    "    })\n",
    "    io.out := PopCount(io.in)\n",
    "  }) { c => new PeekPokeTester(c) {\n",
    "    // Integer.parseInt is used create an Integer from a binary specification\n",
    "    poke(c.io.in, Integer.parseInt(\"00000000\", 2))\n",
    "    println(s\"in=0b${peek(c.io.in).toInt.toBinaryString}, out=${peek(c.io.out)}\")\n",
    "  \n",
    "    poke(c.io.in, Integer.parseInt(\"00001111\", 2))\n",
    "    println(s\"in=0b${peek(c.io.in).toInt.toBinaryString}, out=${peek(c.io.out)}\")\n",
    "  \n",
    "    poke(c.io.in, Integer.parseInt(\"11001010\", 2))\n",
    "    println(s\"in=0b${peek(c.io.in).toInt.toBinaryString}, out=${peek(c.io.out)}\")\n",
    "  \n",
    "    poke(c.io.in, Integer.parseInt(\"11111111\", 2))\n",
    "    println(s\"in=0b${peek(c.io.in).toInt.toBinaryString}, out=${peek(c.io.out)}\")\n",
    "} }"
   ]
  },
  {
   "cell_type": "code",
   "execution_count": 6,
   "metadata": {},
   "outputs": [
    {
     "name": "stdout",
     "output_type": "stream",
     "text": [
      "[\u001b[35minfo\u001b[0m] [0.000] Elaborating design...\n",
      "[\u001b[35minfo\u001b[0m] [0.012] Done elaborating.\n",
      "Total FIRRTL Compile Time: 81.0 ms\n",
      "Total FIRRTL Compile Time: 61.8 ms\n",
      "End of dependency graph\n",
      "Circuit state created\n",
      "[\u001b[35minfo\u001b[0m] [0.000] SEED 1575033611856\n",
      "[\u001b[35minfo\u001b[0m] [0.014] in=0b1010101, out=0b10101010\n",
      "[\u001b[35minfo\u001b[0m] [0.030] in=0b1111, out=0b11110000\n",
      "[\u001b[35minfo\u001b[0m] [0.037] in=0b11110000, out=0b1111\n",
      "[\u001b[35minfo\u001b[0m] [0.039] in=0b11001010, out=0b1010011\n",
      "test _1 Success: 0 tests passed in 5 cycles taking 0.048383 seconds\n",
      "[\u001b[35minfo\u001b[0m] [0.041] RAN 0 CYCLES PASSED\n"
     ]
    },
    {
     "data": {
      "text/plain": [
       "\u001b[36mres5\u001b[39m: \u001b[32mBoolean\u001b[39m = true"
      ]
     },
     "execution_count": 6,
     "metadata": {},
     "output_type": "execute_result"
    }
   ],
   "source": [
    "Driver(() => new Module {\n",
    "    // Example circuit using Reverse\n",
    "    val io = IO(new Bundle {\n",
    "      val in = Input(UInt(8.W))\n",
    "      val out = Output(UInt(8.W))\n",
    "    })\n",
    "    io.out := Reverse(io.in)\n",
    "  }) { c => new PeekPokeTester(c) {\n",
    "    // Integer.parseInt is used create an Integer from a binary specification\n",
    "    poke(c.io.in, Integer.parseInt(\"01010101\", 2))\n",
    "    println(s\"in=0b${peek(c.io.in).toInt.toBinaryString}, out=0b${peek(c.io.out).toInt.toBinaryString}\")\n",
    "  \n",
    "    poke(c.io.in, Integer.parseInt(\"00001111\", 2))\n",
    "    println(s\"in=0b${peek(c.io.in).toInt.toBinaryString}, out=0b${peek(c.io.out).toInt.toBinaryString}\")\n",
    "  \n",
    "    poke(c.io.in, Integer.parseInt(\"11110000\", 2))\n",
    "    println(s\"in=0b${peek(c.io.in).toInt.toBinaryString}, out=0b${peek(c.io.out).toInt.toBinaryString}\")\n",
    "  \n",
    "    poke(c.io.in, Integer.parseInt(\"11001010\", 2))\n",
    "    println(s\"in=0b${peek(c.io.in).toInt.toBinaryString}, out=0b${peek(c.io.out).toInt.toBinaryString}\")\n",
    "} }"
   ]
  },
  {
   "cell_type": "markdown",
   "metadata": {},
   "source": [
    "## OneHot encoding utilities\n",
    "OneHot is an encoding of integers where there is one wire for each value, and exactly one wire is high. This allows the efficient creation of some functions, for example muxes. However, behavior may be undefined if the one-wire-high condition is not held.\n",
    "\n",
    "The below two functions provide conversion between binary (`UInt`) and OneHot encodings, and are inverses of each other:\n",
    "- UInt to OneHot: `UIntToOH`\n",
    "- OneHot to UInt: `OHToUInt`"
   ]
  },
  {
   "cell_type": "code",
   "execution_count": 7,
   "metadata": {},
   "outputs": [
    {
     "name": "stdout",
     "output_type": "stream",
     "text": [
      "[\u001b[35minfo\u001b[0m] [0.001] Elaborating design...\n",
      "[\u001b[35minfo\u001b[0m] [0.010] Done elaborating.\n",
      "Total FIRRTL Compile Time: 38.5 ms\n",
      "Total FIRRTL Compile Time: 43.6 ms\n",
      "End of dependency graph\n",
      "Circuit state created\n",
      "[\u001b[35minfo\u001b[0m] [0.000] SEED 1575033650768\n",
      "[\u001b[35minfo\u001b[0m] [0.001] in=0, out=0b1\n",
      "[\u001b[35minfo\u001b[0m] [0.005] in=1, out=0b10\n",
      "[\u001b[35minfo\u001b[0m] [0.023] in=8, out=0b100000000\n",
      "[\u001b[35minfo\u001b[0m] [0.024] in=15, out=0b1000000000000000\n",
      "test _1 Success: 0 tests passed in 5 cycles taking 0.030829 seconds\n",
      "[\u001b[35minfo\u001b[0m] [0.025] RAN 0 CYCLES PASSED\n"
     ]
    },
    {
     "data": {
      "text/plain": [
       "\u001b[36mres6\u001b[39m: \u001b[32mBoolean\u001b[39m = true"
      ]
     },
     "execution_count": 7,
     "metadata": {},
     "output_type": "execute_result"
    }
   ],
   "source": [
    "Driver(() => new Module {\n",
    "    // Example circuit using UIntToOH\n",
    "    val io = IO(new Bundle {\n",
    "      val in = Input(UInt(4.W))\n",
    "      val out = Output(UInt(16.W))\n",
    "    })\n",
    "    io.out := UIntToOH(io.in)\n",
    "  }) { c => new PeekPokeTester(c) {\n",
    "    poke(c.io.in, 0)\n",
    "    println(s\"in=${peek(c.io.in)}, out=0b${peek(c.io.out).toInt.toBinaryString}\")\n",
    "\n",
    "    poke(c.io.in, 1)\n",
    "    println(s\"in=${peek(c.io.in)}, out=0b${peek(c.io.out).toInt.toBinaryString}\")\n",
    "  \n",
    "    poke(c.io.in, 8)\n",
    "    println(s\"in=${peek(c.io.in)}, out=0b${peek(c.io.out).toInt.toBinaryString}\")\n",
    "  \n",
    "    poke(c.io.in, 15)\n",
    "    println(s\"in=${peek(c.io.in)}, out=0b${peek(c.io.out).toInt.toBinaryString}\")\n",
    "} }"
   ]
  },
  {
   "cell_type": "code",
   "execution_count": 8,
   "metadata": {},
   "outputs": [
    {
     "name": "stdout",
     "output_type": "stream",
     "text": [
      "[\u001b[35minfo\u001b[0m] [0.000] Elaborating design...\n",
      "[\u001b[35minfo\u001b[0m] [0.013] Done elaborating.\n",
      "Total FIRRTL Compile Time: 43.5 ms\n",
      "Total FIRRTL Compile Time: 46.3 ms\n",
      "End of dependency graph\n",
      "Circuit state created\n",
      "[\u001b[35minfo\u001b[0m] [0.000] SEED 1575033653625\n",
      "[\u001b[35minfo\u001b[0m] [0.006] in=0b1, out=0\n",
      "[\u001b[35minfo\u001b[0m] [0.017] in=0b10000000, out=7\n",
      "[\u001b[35minfo\u001b[0m] [0.018] in=0b1000000000000001, out=15\n",
      "[\u001b[35minfo\u001b[0m] [0.033] in=0b0, out=0\n",
      "[\u001b[35minfo\u001b[0m] [0.038] in=0b1010000100000, out=15\n",
      "test _1 Success: 0 tests passed in 5 cycles taking 0.045846 seconds\n",
      "[\u001b[35minfo\u001b[0m] [0.040] RAN 0 CYCLES PASSED\n"
     ]
    },
    {
     "data": {
      "text/plain": [
       "\u001b[36mres7\u001b[39m: \u001b[32mBoolean\u001b[39m = true"
      ]
     },
     "execution_count": 8,
     "metadata": {},
     "output_type": "execute_result"
    }
   ],
   "source": [
    "Driver(() => new Module {\n",
    "    // Example circuit using OHToUInt\n",
    "    val io = IO(new Bundle {\n",
    "      val in = Input(UInt(16.W))\n",
    "      val out = Output(UInt(4.W))\n",
    "    })\n",
    "    io.out := OHToUInt(io.in)\n",
    "  }) { c => new PeekPokeTester(c) {\n",
    "    poke(c.io.in, Integer.parseInt(\"0000 0000 0000 0001\".replace(\" \", \"\"), 2))\n",
    "    println(s\"in=0b${peek(c.io.in).toInt.toBinaryString}, out=${peek(c.io.out)}\")\n",
    "\n",
    "    poke(c.io.in, Integer.parseInt(\"0000 0000 1000 0000\".replace(\" \", \"\"), 2))\n",
    "    println(s\"in=0b${peek(c.io.in).toInt.toBinaryString}, out=${peek(c.io.out)}\")\n",
    "  \n",
    "    poke(c.io.in, Integer.parseInt(\"1000 0000 0000 0001\".replace(\" \", \"\"), 2))\n",
    "    println(s\"in=0b${peek(c.io.in).toInt.toBinaryString}, out=${peek(c.io.out)}\")\n",
    "  \n",
    "    // Some invalid inputs:\n",
    "    // None high\n",
    "    poke(c.io.in, Integer.parseInt(\"0000 0000 0000 0000\".replace(\" \", \"\"), 2))\n",
    "    println(s\"in=0b${peek(c.io.in).toInt.toBinaryString}, out=${peek(c.io.out)}\")\n",
    "  \n",
    "    // Multiple high\n",
    "    poke(c.io.in, Integer.parseInt(\"0001 0100 0010 0000\".replace(\" \", \"\"), 2))\n",
    "    println(s\"in=0b${peek(c.io.in).toInt.toBinaryString}, out=${peek(c.io.out)}\")\n",
    "} }"
   ]
  },
  {
   "cell_type": "markdown",
   "metadata": {},
   "source": [
    "## Muxes\n",
    "These muxes take in a list of values with select signals, and output the value associated with the lowest-index select signal.\n",
    "\n",
    "These can either take a list of (select: Bool, value: Data) tuples, or corresponding lists of selects and values as arguments. For simplicity, the examples below only demonstrate the second form.\n",
    "\n",
    "### Priority Mux\n",
    "A `PriorityMux` outputs the value associated with the lowest-index asserted select signal.\n",
    "\n",
    "### OneHot Mux\n",
    "An `Mux1H` provides an efficient implementation when it is guaranteed that exactly one of the select signals will be high. Behavior is undefined if the assumption is not true."
   ]
  },
  {
   "cell_type": "code",
   "execution_count": 9,
   "metadata": {},
   "outputs": [
    {
     "name": "stdout",
     "output_type": "stream",
     "text": [
      "[\u001b[35minfo\u001b[0m] [0.000] Elaborating design...\n",
      "[\u001b[35minfo\u001b[0m] [0.010] Done elaborating.\n",
      "Total FIRRTL Compile Time: 28.1 ms\n",
      "Total FIRRTL Compile Time: 53.6 ms\n",
      "End of dependency graph\n",
      "Circuit state created\n",
      "[\u001b[35minfo\u001b[0m] [0.000] SEED 1575033698499\n",
      "[\u001b[35minfo\u001b[0m] [0.003] in_sels=Vector(0, 1), out=20\n",
      "[\u001b[35minfo\u001b[0m] [0.004] in_sels=Vector(1, 1), out=10\n",
      "[\u001b[35minfo\u001b[0m] [0.005] in_sels=Vector(1, 0), out=10\n",
      "test _1 Success: 0 tests passed in 5 cycles taking 0.011827 seconds\n",
      "[\u001b[35minfo\u001b[0m] [0.011] RAN 0 CYCLES PASSED\n"
     ]
    },
    {
     "data": {
      "text/plain": [
       "\u001b[36mres8\u001b[39m: \u001b[32mBoolean\u001b[39m = true"
      ]
     },
     "execution_count": 9,
     "metadata": {},
     "output_type": "execute_result"
    }
   ],
   "source": [
    "Driver(() => new Module {\n",
    "    // Example circuit using PriorityMux\n",
    "    val io = IO(new Bundle {\n",
    "      val in_sels = Input(Vec(2, Bool()))\n",
    "      val in_bits = Input(Vec(2, UInt(8.W)))\n",
    "      val out = Output(UInt(8.W))\n",
    "    })\n",
    "    io.out := PriorityMux(io.in_sels, io.in_bits)\n",
    "  }) { c => new PeekPokeTester(c) {\n",
    "    poke(c.io.in_bits(0), 10)\n",
    "    poke(c.io.in_bits(1), 20)\n",
    "  \n",
    "    // Select higher index only\n",
    "    poke(c.io.in_sels(0), 0)\n",
    "    poke(c.io.in_sels(1), 1)\n",
    "    println(s\"in_sels=${peek(c.io.in_sels)}, out=${peek(c.io.out)}\")\n",
    "  \n",
    "    // Select both - arbitration needed\n",
    "    poke(c.io.in_sels(0), 1)\n",
    "    poke(c.io.in_sels(1), 1)\n",
    "    println(s\"in_sels=${peek(c.io.in_sels)}, out=${peek(c.io.out)}\")\n",
    "  \n",
    "    // Select lower index only\n",
    "    poke(c.io.in_sels(0), 1)\n",
    "    poke(c.io.in_sels(1), 0)\n",
    "    println(s\"in_sels=${peek(c.io.in_sels)}, out=${peek(c.io.out)}\")\n",
    "} }"
   ]
  },
  {
   "cell_type": "code",
   "execution_count": 10,
   "metadata": {},
   "outputs": [
    {
     "name": "stdout",
     "output_type": "stream",
     "text": [
      "[\u001b[35minfo\u001b[0m] [0.000] Elaborating design...\n",
      "[\u001b[35minfo\u001b[0m] [0.080] Done elaborating.\n",
      "Total FIRRTL Compile Time: 31.3 ms\n",
      "Total FIRRTL Compile Time: 40.1 ms\n",
      "End of dependency graph\n",
      "Circuit state created\n",
      "[\u001b[35minfo\u001b[0m] [0.000] SEED 1575033715131\n",
      "[\u001b[35minfo\u001b[0m] [0.002] in_sels=Vector(0, 1), out=20\n",
      "[\u001b[35minfo\u001b[0m] [0.008] in_sels=Vector(1, 0), out=10\n",
      "[\u001b[35minfo\u001b[0m] [0.011] in_sels=Vector(0, 0), out=0\n",
      "[\u001b[35minfo\u001b[0m] [0.019] in_sels=Vector(1, 1), out=30\n",
      "test _1 Success: 0 tests passed in 5 cycles taking 0.027039 seconds\n",
      "[\u001b[35minfo\u001b[0m] [0.035] RAN 0 CYCLES PASSED\n"
     ]
    },
    {
     "data": {
      "text/plain": [
       "\u001b[36mres9\u001b[39m: \u001b[32mBoolean\u001b[39m = true"
      ]
     },
     "execution_count": 10,
     "metadata": {},
     "output_type": "execute_result"
    }
   ],
   "source": [
    "Driver(() => new Module {\n",
    "    // Example circuit using Mux1H\n",
    "    val io = IO(new Bundle {\n",
    "      val in_sels = Input(Vec(2, Bool()))\n",
    "      val in_bits = Input(Vec(2, UInt(8.W)))\n",
    "      val out = Output(UInt(8.W))\n",
    "    })\n",
    "    io.out := Mux1H(io.in_sels, io.in_bits)\n",
    "  }) { c => new PeekPokeTester(c) {\n",
    "    poke(c.io.in_bits(0), 10)\n",
    "    poke(c.io.in_bits(1), 20)\n",
    "  \n",
    "    // Select index 1\n",
    "    poke(c.io.in_sels(0), 0)\n",
    "    poke(c.io.in_sels(1), 1)\n",
    "    println(s\"in_sels=${peek(c.io.in_sels)}, out=${peek(c.io.out)}\")\n",
    "  \n",
    "    // Select index 0\n",
    "    poke(c.io.in_sels(0), 1)\n",
    "    poke(c.io.in_sels(1), 0)\n",
    "    println(s\"in_sels=${peek(c.io.in_sels)}, out=${peek(c.io.out)}\")\n",
    "  \n",
    "    // Select none (invalid)\n",
    "    poke(c.io.in_sels(0), 0)\n",
    "    poke(c.io.in_sels(1), 0)\n",
    "    println(s\"in_sels=${peek(c.io.in_sels)}, out=${peek(c.io.out)}\")\n",
    "  \n",
    "    // Select both (invalid)\n",
    "    poke(c.io.in_sels(0), 1)\n",
    "    poke(c.io.in_sels(1), 1)\n",
    "    println(s\"in_sels=${peek(c.io.in_sels)}, out=${peek(c.io.out)}\")\n",
    "} }"
   ]
  },
  {
   "cell_type": "markdown",
   "metadata": {
    "collapsed": true
   },
   "source": [
    "## Counter\n",
    "`Counter` is a counter that can be incremented once every cycle, up to some specified limit, at which point it overflows. Note that it is **not** a Module, and its value is accessible."
   ]
  },
  {
   "cell_type": "code",
   "execution_count": 11,
   "metadata": {},
   "outputs": [
    {
     "name": "stdout",
     "output_type": "stream",
     "text": [
      "[\u001b[35minfo\u001b[0m] [0.000] Elaborating design...\n",
      "[\u001b[35minfo\u001b[0m] [0.088] Done elaborating.\n",
      "Total FIRRTL Compile Time: 31.0 ms\n",
      "Total FIRRTL Compile Time: 31.1 ms\n",
      "End of dependency graph\n",
      "Circuit state created\n",
      "[\u001b[35minfo\u001b[0m] [0.000] SEED 1575033741648\n",
      "[\u001b[35minfo\u001b[0m] [0.004] start: counter value=0\n",
      "[\u001b[35minfo\u001b[0m] [0.007] step 1: counter value=1\n",
      "[\u001b[35minfo\u001b[0m] [0.008] step 2: counter value=2\n",
      "[\u001b[35minfo\u001b[0m] [0.020] step without increment: counter value=2\n",
      "[\u001b[35minfo\u001b[0m] [0.022] step again: counter value=0\n",
      "test _1 Success: 0 tests passed in 9 cycles taking 0.024461 seconds\n",
      "[\u001b[35minfo\u001b[0m] [0.024] RAN 4 CYCLES PASSED\n"
     ]
    },
    {
     "data": {
      "text/plain": [
       "\u001b[36mres10\u001b[39m: \u001b[32mBoolean\u001b[39m = true"
      ]
     },
     "execution_count": 11,
     "metadata": {},
     "output_type": "execute_result"
    }
   ],
   "source": [
    "Driver(() => new Module {\n",
    "    // Example circuit using Mux1H\n",
    "    val io = IO(new Bundle {\n",
    "      val count = Input(Bool())\n",
    "      val out = Output(UInt(2.W))\n",
    "    })\n",
    "    val counter = Counter(3)  // 3-count Counter (outputs range [0...2])\n",
    "    when(io.count) {\n",
    "      counter.inc()\n",
    "    }\n",
    "    io.out := counter.value\n",
    "  }) { c => new PeekPokeTester(c) {\n",
    "    poke(c.io.count, 1)\n",
    "    println(s\"start: counter value=${peek(c.io.out)}\")\n",
    "  \n",
    "    step(1)\n",
    "    println(s\"step 1: counter value=${peek(c.io.out)}\")\n",
    "  \n",
    "    step(1)\n",
    "    println(s\"step 2: counter value=${peek(c.io.out)}\")\n",
    "  \n",
    "    poke(c.io.count, 0)\n",
    "    step(1)\n",
    "    println(s\"step without increment: counter value=${peek(c.io.out)}\")\n",
    "  \n",
    "    poke(c.io.count, 1)\n",
    "    step(1)\n",
    "    println(s\"step again: counter value=${peek(c.io.out)}\")\n",
    "} }"
   ]
  },
  {
   "cell_type": "markdown",
   "metadata": {},
   "source": [
    "---\n",
    "# You're done!\n",
    "\n",
    "[Return to the top.](#top)"
   ]
  },
  {
   "cell_type": "code",
   "execution_count": null,
   "metadata": {},
   "outputs": [],
   "source": []
  }
 ],
 "metadata": {
  "anaconda-cloud": {},
  "kernelspec": {
   "display_name": "Scala",
   "language": "scala",
   "name": "scala"
  },
  "language_info": {
   "codemirror_mode": "text/x-scala",
   "file_extension": ".scala",
   "mimetype": "text/x-scala",
   "name": "scala",
   "nbconvert_exporter": "script",
   "version": "2.12.8"
  }
 },
 "nbformat": 4,
 "nbformat_minor": 1
}
