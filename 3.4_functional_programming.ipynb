{
 "cells": [
  {
   "cell_type": "markdown",
   "metadata": {},
   "source": [
    "<a name=\"top\"></a><img src=\"images/chisel_1024.png\" alt=\"Chisel logo\" style=\"width:480px;\" />"
   ]
  },
  {
   "cell_type": "markdown",
   "metadata": {},
   "source": [
    "# Module 3.4: Functional Programming\n",
    "**Prev: [Higher-Order Functions](3.3_higher-order_functions.ipynb)**<br>\n",
    "**Next: [Object Oriented Programming](3.5_object_oriented_programming.ipynb)**\n",
    "\n",
    "## Motivation\n",
    "You saw functions in many previous modules, but now it's time to make our own and use them effectively.\n",
    "\n",
    "## Setup"
   ]
  },
  {
   "cell_type": "code",
   "execution_count": 1,
   "metadata": {},
   "outputs": [
    {
     "name": "stdout",
     "output_type": "stream",
     "text": [
      "Compiling /Users/dan/dev/dan-fritchman/chisel-bootcamp/Main.sc"
     ]
    },
    {
     "name": "stderr",
     "output_type": "stream",
     "text": [
      "Downloading https://repo1.maven.org/maven2/edu/berkeley/cs/chisel3_2.12/3.2-SNAPSHOT/chisel3_2.12-3.2-SNAPSHOT.pom.sha1\n",
      "Downloading https://repo1.maven.org/maven2/edu/berkeley/cs/chisel3_2.12/3.2-SNAPSHOT/chisel3_2.12-3.2-SNAPSHOT.pom\n",
      "Downloading https://repo1.maven.org/maven2/edu/berkeley/cs/chisel3_2.12/3.2-SNAPSHOT/maven-metadata.xml.sha1\n",
      "Downloading https://repo1.maven.org/maven2/edu/berkeley/cs/chisel3_2.12/3.2-SNAPSHOT/maven-metadata.xml\n",
      "Downloading https://repo1.maven.org/maven2/edu/berkeley/cs/firrtl_2.12/1.2-SNAPSHOT/firrtl_2.12-1.2-SNAPSHOT.pom\n",
      "Downloading https://repo1.maven.org/maven2/edu/berkeley/cs/firrtl_2.12/1.2-SNAPSHOT/firrtl_2.12-1.2-SNAPSHOT.pom.sha1\n",
      "Downloading https://repo1.maven.org/maven2/edu/berkeley/cs/firrtl_2.12/1.2-SNAPSHOT/maven-metadata.xml.sha1\n",
      "Downloading https://repo1.maven.org/maven2/edu/berkeley/cs/firrtl_2.12/1.2-SNAPSHOT/maven-metadata.xml\n",
      "Downloading https://repo1.maven.org/maven2/edu/berkeley/cs/chisel-iotesters_2.12/1.3-SNAPSHOT/chisel-iotesters_2.12-1.3-SNAPSHOT.pom.sha1\n",
      "Downloading https://repo1.maven.org/maven2/edu/berkeley/cs/chisel-iotesters_2.12/1.3-SNAPSHOT/chisel-iotesters_2.12-1.3-SNAPSHOT.pom\n",
      "Downloading https://repo1.maven.org/maven2/edu/berkeley/cs/chisel-iotesters_2.12/1.3-SNAPSHOT/maven-metadata.xml\n",
      "Downloading https://repo1.maven.org/maven2/edu/berkeley/cs/chisel-iotesters_2.12/1.3-SNAPSHOT/maven-metadata.xml.sha1\n",
      "Downloading https://repo1.maven.org/maven2/edu/berkeley/cs/firrtl-interpreter_2.12/1.2-SNAPSHOT/firrtl-interpreter_2.12-1.2-SNAPSHOT.pom.sha1\n",
      "Downloading https://repo1.maven.org/maven2/edu/berkeley/cs/firrtl-interpreter_2.12/1.2-SNAPSHOT/firrtl-interpreter_2.12-1.2-SNAPSHOT.pom\n",
      "Downloading https://repo1.maven.org/maven2/edu/berkeley/cs/chisel3_2.12/3.2-SNAPSHOT/chisel3_2.12-3.2-SNAPSHOT.pom.sha1\n",
      "Downloading https://repo1.maven.org/maven2/edu/berkeley/cs/firrtl_2.12/1.2-SNAPSHOT/firrtl_2.12-1.2-SNAPSHOT.pom.sha1\n",
      "Downloading https://repo1.maven.org/maven2/edu/berkeley/cs/firrtl_2.12/1.2-SNAPSHOT/firrtl_2.12-1.2-SNAPSHOT.pom\n",
      "Downloading https://repo1.maven.org/maven2/edu/berkeley/cs/chisel3_2.12/3.2-SNAPSHOT/chisel3_2.12-3.2-SNAPSHOT.pom\n",
      "Downloading https://repo1.maven.org/maven2/edu/berkeley/cs/treadle_2.12/1.1-SNAPSHOT/treadle_2.12-1.1-SNAPSHOT.pom\n",
      "Downloading https://repo1.maven.org/maven2/edu/berkeley/cs/treadle_2.12/1.1-SNAPSHOT/treadle_2.12-1.1-SNAPSHOT.pom.sha1\n",
      "Downloading https://repo1.maven.org/maven2/edu/berkeley/cs/firrtl-interpreter_2.12/1.2-SNAPSHOT/maven-metadata.xml\n",
      "Downloading https://repo1.maven.org/maven2/edu/berkeley/cs/firrtl_2.12/1.2-SNAPSHOT/maven-metadata.xml\n",
      "Downloading https://repo1.maven.org/maven2/edu/berkeley/cs/firrtl-interpreter_2.12/1.2-SNAPSHOT/maven-metadata.xml.sha1\n",
      "Downloading https://repo1.maven.org/maven2/edu/berkeley/cs/firrtl_2.12/1.2-SNAPSHOT/maven-metadata.xml.sha1\n",
      "Downloading https://repo1.maven.org/maven2/edu/berkeley/cs/treadle_2.12/1.1-SNAPSHOT/maven-metadata.xml.sha1\n",
      "Downloading https://repo1.maven.org/maven2/edu/berkeley/cs/treadle_2.12/1.1-SNAPSHOT/maven-metadata.xml\n",
      "Downloading https://repo1.maven.org/maven2/edu/berkeley/cs/chisel3_2.12/3.2-SNAPSHOT/maven-metadata.xml\n",
      "Downloading https://repo1.maven.org/maven2/edu/berkeley/cs/chisel3_2.12/3.2-SNAPSHOT/maven-metadata.xml.sha1\n",
      "Downloading https://repo1.maven.org/maven2/edu/berkeley/cs/chisel-testers2_2.12/0.1-SNAPSHOT/chisel-testers2_2.12-0.1-SNAPSHOT.pom.sha1\n",
      "Downloading https://repo1.maven.org/maven2/edu/berkeley/cs/chisel-testers2_2.12/0.1-SNAPSHOT/chisel-testers2_2.12-0.1-SNAPSHOT.pom\n",
      "Downloading https://repo1.maven.org/maven2/edu/berkeley/cs/chisel-testers2_2.12/0.1-SNAPSHOT/maven-metadata.xml\n",
      "Downloading https://repo1.maven.org/maven2/edu/berkeley/cs/chisel-testers2_2.12/0.1-SNAPSHOT/maven-metadata.xml.sha1\n",
      "Downloading https://repo1.maven.org/maven2/edu/berkeley/cs/chisel3_2.12/3.2-SNAPSHOT/chisel3_2.12-3.2-SNAPSHOT.pom.sha1\n",
      "Downloading https://repo1.maven.org/maven2/edu/berkeley/cs/treadle_2.12/1.1-SNAPSHOT/treadle_2.12-1.1-SNAPSHOT.pom\n",
      "Downloading https://repo1.maven.org/maven2/edu/berkeley/cs/treadle_2.12/1.1-SNAPSHOT/treadle_2.12-1.1-SNAPSHOT.pom.sha1\n",
      "Downloading https://repo1.maven.org/maven2/edu/berkeley/cs/chisel3_2.12/3.2-SNAPSHOT/chisel3_2.12-3.2-SNAPSHOT.pom\n",
      "Downloading https://repo1.maven.org/maven2/edu/berkeley/cs/treadle_2.12/1.1-SNAPSHOT/maven-metadata.xml\n",
      "Downloading https://repo1.maven.org/maven2/edu/berkeley/cs/treadle_2.12/1.1-SNAPSHOT/maven-metadata.xml.sha1\n",
      "Downloading https://repo1.maven.org/maven2/edu/berkeley/cs/chisel3_2.12/3.2-SNAPSHOT/maven-metadata.xml\n",
      "Downloading https://repo1.maven.org/maven2/edu/berkeley/cs/chisel3_2.12/3.2-SNAPSHOT/maven-metadata.xml.sha1\n",
      "Downloading https://repo1.maven.org/maven2/edu/berkeley/cs/firrtl_2.12/1.2-SNAPSHOT/firrtl_2.12-1.2-SNAPSHOT.pom\n",
      "Downloading https://repo1.maven.org/maven2/edu/berkeley/cs/firrtl_2.12/1.2-SNAPSHOT/firrtl_2.12-1.2-SNAPSHOT.pom.sha1\n",
      "Downloading https://repo1.maven.org/maven2/edu/berkeley/cs/firrtl_2.12/1.2-SNAPSHOT/maven-metadata.xml\n",
      "Downloading https://repo1.maven.org/maven2/edu/berkeley/cs/firrtl_2.12/1.2-SNAPSHOT/maven-metadata.xml.sha1\n",
      "Downloading https://repo1.maven.org/maven2/net/sourceforge/f2j/arpack_combined_all/0.1/arpack_combined_all-0.1-sources.jar\n",
      "Downloading https://repo1.maven.org/maven2/net/sourceforge/f2j/arpack_combined_all/0.1/arpack_combined_all-0.1-sources.jar.sha1\n",
      "Downloading https://repo1.maven.org/maven2/net/sourceforge/f2j/arpack_combined_all/0.1/arpack_combined_all-0.1-sources.jar.sha1\n",
      "Downloading https://repo1.maven.org/maven2/net/sourceforge/f2j/arpack_combined_all/0.1/arpack_combined_all-0.1-sources.jar\n",
      "Downloading https://repo1.maven.org/maven2/edu/berkeley/cs/rocket-dsptools_2.12/1.2-020719-SNAPSHOT/rocket-dsptools_2.12-1.2-020719-SNAPSHOT.pom.sha1\n",
      "Downloading https://repo1.maven.org/maven2/edu/berkeley/cs/rocket-dsptools_2.12/1.2-020719-SNAPSHOT/rocket-dsptools_2.12-1.2-020719-SNAPSHOT.pom\n",
      "Downloading https://repo1.maven.org/maven2/edu/berkeley/cs/rocket-dsptools_2.12/1.2-020719-SNAPSHOT/maven-metadata.xml.sha1\n",
      "Downloading https://repo1.maven.org/maven2/edu/berkeley/cs/rocket-dsptools_2.12/1.2-020719-SNAPSHOT/maven-metadata.xml\n",
      "Downloading https://repo1.maven.org/maven2/edu/berkeley/cs/chisel-iotesters_2.12/1.3-020719-SNAPSHOT/chisel-iotesters_2.12-1.3-020719-SNAPSHOT.pom\n",
      "Downloading https://repo1.maven.org/maven2/edu/berkeley/cs/dsptools_2.12/1.2-020719-SNAPSHOT/dsptools_2.12-1.2-020719-SNAPSHOT.pom.sha1\n",
      "Downloading https://repo1.maven.org/maven2/edu/berkeley/cs/chisel3_2.12/3.2-020719-SNAPSHOT/chisel3_2.12-3.2-020719-SNAPSHOT.pom.sha1\n",
      "Downloading https://repo1.maven.org/maven2/edu/berkeley/cs/rocketchip_2.12/1.2-020719-SNAPSHOT/rocketchip_2.12-1.2-020719-SNAPSHOT.pom\n",
      "Downloading https://repo1.maven.org/maven2/edu/berkeley/cs/rocketchip_2.12/1.2-020719-SNAPSHOT/rocketchip_2.12-1.2-020719-SNAPSHOT.pom.sha1\n",
      "Downloading https://repo1.maven.org/maven2/edu/berkeley/cs/chisel-iotesters_2.12/1.3-020719-SNAPSHOT/chisel-iotesters_2.12-1.3-020719-SNAPSHOT.pom.sha1\n",
      "Downloading https://repo1.maven.org/maven2/edu/berkeley/cs/dsptools_2.12/1.2-020719-SNAPSHOT/dsptools_2.12-1.2-020719-SNAPSHOT.pom\n",
      "Downloading https://repo1.maven.org/maven2/edu/berkeley/cs/chisel3_2.12/3.2-020719-SNAPSHOT/chisel3_2.12-3.2-020719-SNAPSHOT.pom\n",
      "Downloading https://repo1.maven.org/maven2/edu/berkeley/cs/rocketchip_2.12/1.2-020719-SNAPSHOT/maven-metadata.xml.sha1\n",
      "Downloading https://repo1.maven.org/maven2/edu/berkeley/cs/rocketchip_2.12/1.2-020719-SNAPSHOT/maven-metadata.xml\n",
      "Downloading https://repo1.maven.org/maven2/edu/berkeley/cs/dsptools_2.12/1.2-020719-SNAPSHOT/maven-metadata.xml\n",
      "Downloading https://repo1.maven.org/maven2/edu/berkeley/cs/dsptools_2.12/1.2-020719-SNAPSHOT/maven-metadata.xml.sha1\n",
      "Downloading https://repo1.maven.org/maven2/edu/berkeley/cs/chisel3_2.12/3.2-020719-SNAPSHOT/maven-metadata.xml\n",
      "Downloading https://repo1.maven.org/maven2/edu/berkeley/cs/chisel3_2.12/3.2-020719-SNAPSHOT/maven-metadata.xml.sha1\n",
      "Downloading https://repo1.maven.org/maven2/edu/berkeley/cs/chisel-iotesters_2.12/1.3-020719-SNAPSHOT/maven-metadata.xml\n",
      "Downloading https://repo1.maven.org/maven2/edu/berkeley/cs/chisel-iotesters_2.12/1.3-020719-SNAPSHOT/maven-metadata.xml.sha1\n",
      "Downloading https://repo1.maven.org/maven2/edu/berkeley/cs/firrtl-interpreter_2.12/1.2-020719-SNAPSHOT/firrtl-interpreter_2.12-1.2-020719-SNAPSHOT.pom.sha1\n"
     ]
    },
    {
     "name": "stderr",
     "output_type": "stream",
     "text": [
      "Downloading https://repo1.maven.org/maven2/edu/berkeley/cs/firrtl-interpreter_2.12/1.2-020719-SNAPSHOT/firrtl-interpreter_2.12-1.2-020719-SNAPSHOT.pom\n",
      "Downloading https://repo1.maven.org/maven2/edu/berkeley/cs/hardfloat_2.12/1.2-020719-SNAPSHOT/hardfloat_2.12-1.2-020719-SNAPSHOT.pom\n",
      "Downloading https://repo1.maven.org/maven2/edu/berkeley/cs/rocket-macros_2.12/1.2-020719-SNAPSHOT/rocket-macros_2.12-1.2-020719-SNAPSHOT.pom.sha1\n",
      "Downloading https://repo1.maven.org/maven2/edu/berkeley/cs/rocket-macros_2.12/1.2-020719-SNAPSHOT/rocket-macros_2.12-1.2-020719-SNAPSHOT.pom\n",
      "Downloading https://repo1.maven.org/maven2/edu/berkeley/cs/hardfloat_2.12/1.2-020719-SNAPSHOT/hardfloat_2.12-1.2-020719-SNAPSHOT.pom.sha1\n",
      "Downloading https://repo1.maven.org/maven2/edu/berkeley/cs/firrtl_2.12/1.2-020719-SNAPSHOT/firrtl_2.12-1.2-020719-SNAPSHOT.pom.sha1\n",
      "Downloading https://repo1.maven.org/maven2/edu/berkeley/cs/treadle_2.12/1.1-020719-SNAPSHOT/treadle_2.12-1.1-020719-SNAPSHOT.pom\n",
      "Downloading https://repo1.maven.org/maven2/edu/berkeley/cs/treadle_2.12/1.1-020719-SNAPSHOT/treadle_2.12-1.1-020719-SNAPSHOT.pom.sha1\n",
      "Downloading https://repo1.maven.org/maven2/edu/berkeley/cs/firrtl_2.12/1.2-020719-SNAPSHOT/firrtl_2.12-1.2-020719-SNAPSHOT.pom\n",
      "Downloading https://repo1.maven.org/maven2/edu/berkeley/cs/firrtl-interpreter_2.12/1.2-020719-SNAPSHOT/maven-metadata.xml\n",
      "Downloading https://repo1.maven.org/maven2/edu/berkeley/cs/rocket-macros_2.12/1.2-020719-SNAPSHOT/maven-metadata.xml.sha1\n",
      "Downloading https://repo1.maven.org/maven2/edu/berkeley/cs/rocket-macros_2.12/1.2-020719-SNAPSHOT/maven-metadata.xml\n",
      "Downloading https://repo1.maven.org/maven2/edu/berkeley/cs/firrtl-interpreter_2.12/1.2-020719-SNAPSHOT/maven-metadata.xml.sha1\n",
      "Downloading https://repo1.maven.org/maven2/edu/berkeley/cs/treadle_2.12/1.1-020719-SNAPSHOT/maven-metadata.xml.sha1\n",
      "Downloading https://repo1.maven.org/maven2/edu/berkeley/cs/treadle_2.12/1.1-020719-SNAPSHOT/maven-metadata.xml\n",
      "Downloading https://repo1.maven.org/maven2/edu/berkeley/cs/firrtl_2.12/1.2-020719-SNAPSHOT/maven-metadata.xml\n",
      "Downloading https://repo1.maven.org/maven2/edu/berkeley/cs/firrtl_2.12/1.2-020719-SNAPSHOT/maven-metadata.xml.sha1\n",
      "Downloading https://repo1.maven.org/maven2/edu/berkeley/cs/hardfloat_2.12/1.2-020719-SNAPSHOT/maven-metadata.xml.sha1\n",
      "Downloading https://repo1.maven.org/maven2/edu/berkeley/cs/hardfloat_2.12/1.2-020719-SNAPSHOT/maven-metadata.xml\n",
      "Downloading https://repo1.maven.org/maven2/net/sourceforge/f2j/arpack_combined_all/0.1/arpack_combined_all-0.1-sources.jar\n",
      "Downloading https://repo1.maven.org/maven2/net/sourceforge/f2j/arpack_combined_all/0.1/arpack_combined_all-0.1-sources.jar.sha1\n"
     ]
    },
    {
     "name": "stdout",
     "output_type": "stream",
     "text": [
      "Compiling /Users/dan/dev/dan-fritchman/chisel-bootcamp/Main.sc #2"
     ]
    },
    {
     "data": {
      "text/plain": [
       "\u001b[36mpath\u001b[39m: \u001b[32mString\u001b[39m = \u001b[32m\"/Users/dan/dev/dan-fritchman/chisel-bootcamp/source/load-ivy.sc\"\u001b[39m"
      ]
     },
     "execution_count": 1,
     "metadata": {},
     "output_type": "execute_result"
    }
   ],
   "source": [
    "val path = System.getProperty(\"user.dir\") + \"/source/load-ivy.sc\"\n",
    "interp.load.module(ammonite.ops.Path(java.nio.file.FileSystems.getDefault().getPath(path)))"
   ]
  },
  {
   "cell_type": "markdown",
   "metadata": {},
   "source": [
    "This module uses the Chisel `FixedPoint` type, which currently resides in the experimental package."
   ]
  },
  {
   "cell_type": "code",
   "execution_count": 2,
   "metadata": {},
   "outputs": [
    {
     "data": {
      "text/plain": [
       "\u001b[32mimport \u001b[39m\u001b[36mchisel3._\n",
       "\u001b[39m\n",
       "\u001b[32mimport \u001b[39m\u001b[36mchisel3.util._\n",
       "\u001b[39m\n",
       "\u001b[32mimport \u001b[39m\u001b[36mchisel3.iotesters.{ChiselFlatSpec, Driver, PeekPokeTester}\n",
       "\u001b[39m\n",
       "\u001b[32mimport \u001b[39m\u001b[36mchisel3.experimental._\n",
       "\u001b[39m\n",
       "\u001b[32mimport \u001b[39m\u001b[36mchisel3.internal.firrtl.KnownBinaryPoint\u001b[39m"
      ]
     },
     "execution_count": 2,
     "metadata": {},
     "output_type": "execute_result"
    }
   ],
   "source": [
    "import chisel3._\n",
    "import chisel3.util._\n",
    "import chisel3.iotesters.{ChiselFlatSpec, Driver, PeekPokeTester}\n",
    "import chisel3.experimental._\n",
    "import chisel3.internal.firrtl.KnownBinaryPoint"
   ]
  },
  {
   "cell_type": "markdown",
   "metadata": {},
   "source": [
    "---\n",
    "# Functional Programming in Scala\n",
    "Scala functions were introduced in Module 1, and you saw then used a lot in the previous module. Here's a refresher on functions. Functions take any number of inputs and produce one output. Inputs are often called arguments to a function. To produce no output, return the `Unit` type. \n",
    "\n",
    "<span style=\"color:blue\">**Example: Custom Functions**</span><br>\n",
    "Below are some examples of functions in Scala."
   ]
  },
  {
   "cell_type": "code",
   "execution_count": 3,
   "metadata": {},
   "outputs": [
    {
     "name": "stdout",
     "output_type": "stream",
     "text": [
      "Hello!Hello again!"
     ]
    },
    {
     "data": {
      "text/plain": [
       "defined \u001b[32mfunction\u001b[39m \u001b[36mhello1\u001b[39m\n",
       "defined \u001b[32mfunction\u001b[39m \u001b[36mhello2\u001b[39m\n",
       "defined \u001b[32mfunction\u001b[39m \u001b[36mtimes2\u001b[39m\n",
       "defined \u001b[32mfunction\u001b[39m \u001b[36mtimesN\u001b[39m\n",
       "\u001b[36mres2_6\u001b[39m: \u001b[32mInt\u001b[39m = \u001b[32m8\u001b[39m\n",
       "\u001b[36mres2_7\u001b[39m: \u001b[32mInt\u001b[39m = \u001b[32m8\u001b[39m\n",
       "\u001b[36mres2_8\u001b[39m: \u001b[32mInt\u001b[39m = \u001b[32m12\u001b[39m\n",
       "\u001b[36mres2_9\u001b[39m: \u001b[32mInt\u001b[39m = \u001b[32m14\u001b[39m"
      ]
     },
     "execution_count": 3,
     "metadata": {},
     "output_type": "execute_result"
    }
   ],
   "source": [
    "// No inputs or outputs (two versions).\n",
    "def hello1(): Unit = print(\"Hello!\")\n",
    "def hello2 = print(\"Hello again!\")\n",
    "\n",
    "// Math operation: one input and one output.\n",
    "def times2(x: Int): Int = 2 * x\n",
    "\n",
    "// Inputs can have default values, and explicitly specifying the return type is optional.\n",
    "// Note that we recommend specifying the return types to avoid surprises/bugs.\n",
    "def timesN(x: Int, n: Int = 2) = n * x\n",
    "\n",
    "// Call the functions listed above.\n",
    "hello1()\n",
    "hello2\n",
    "times2(4)\n",
    "timesN(4)         // no need to specify n to use the default value\n",
    "timesN(4, 3)      // argument order is the same as the order where the function was defined\n",
    "timesN(n=7, x=2)  // arguments may be reordered and assigned to explicitly"
   ]
  },
  {
   "cell_type": "markdown",
   "metadata": {},
   "source": [
    "## Functions as Objects\n",
    "Functions in Scala are first-class objects. That means we can assign a function to a `val` and pass it to classes, objects, or other functions as an argument.\n",
    "\n",
    "<span style=\"color:blue\">**Example: Function Objects**</span><br>\n",
    "Below are the same functions implemented as functions and as objects."
   ]
  },
  {
   "cell_type": "code",
   "execution_count": 4,
   "metadata": {},
   "outputs": [
    {
     "data": {
      "text/plain": [
       "defined \u001b[32mfunction\u001b[39m \u001b[36mplus1funct\u001b[39m\n",
       "defined \u001b[32mfunction\u001b[39m \u001b[36mtimes2funct\u001b[39m\n",
       "\u001b[36mplus1val\u001b[39m: \u001b[32mInt\u001b[39m => \u001b[32mInt\u001b[39m = ammonite.$sess.cmd3$Helper$$Lambda$3503/0x0000000802070840@e09f12e\n",
       "\u001b[36mtimes2val\u001b[39m: \u001b[32mInt\u001b[39m => \u001b[32mInt\u001b[39m = ammonite.$sess.cmd3$Helper$$Lambda$3504/0x0000000802071040@50820e5e\n",
       "\u001b[36mres3_4\u001b[39m: \u001b[32mInt\u001b[39m = \u001b[32m5\u001b[39m\n",
       "\u001b[36mres3_5\u001b[39m: \u001b[32mInt\u001b[39m = \u001b[32m5\u001b[39m\n",
       "\u001b[36mres3_6\u001b[39m: \u001b[32mInt\u001b[39m = \u001b[32m5\u001b[39m"
      ]
     },
     "execution_count": 4,
     "metadata": {},
     "output_type": "execute_result"
    }
   ],
   "source": [
    "// These are normal functions.\n",
    "def plus1funct(x: Int): Int = x + 1\n",
    "def times2funct(x: Int): Int = x * 2\n",
    "\n",
    "// These are functions as vals.\n",
    "// The first one explicitly specifies the return type.\n",
    "val plus1val: Int => Int = x => x + 1\n",
    "val times2val = (x: Int) => x * 2\n",
    "\n",
    "// Calling both looks the same.\n",
    "plus1funct(4)\n",
    "plus1val(4)\n",
    "plus1funct(x=4)\n",
    "//plus1val(x=4) // this doesn't work"
   ]
  },
  {
   "cell_type": "markdown",
   "metadata": {},
   "source": [
    "Why would you want to create a `val` instead of a `def`? With a `val`, you can now pass the function around to other functions, as shown below. You can even create your own functions that accept other functions as arguments. Formally, functions that take or produce functions are called *higher-order functions*. You saw them used in the last module, but now you'll make your own!\n",
    "\n",
    "<span style=\"color:blue\">**Example: Higher-Order Functions**</span><br>\n",
    "Here we show `map` again, and we also create a new function, `opN`, that accepts a function, `op`, as an argument."
   ]
  },
  {
   "cell_type": "code",
   "execution_count": 5,
   "metadata": {},
   "outputs": [
    {
     "data": {
      "text/plain": [
       "\u001b[36mplus1\u001b[39m: \u001b[32mInt\u001b[39m => \u001b[32mInt\u001b[39m = ammonite.$sess.cmd4$Helper$$Lambda$3529/0x0000000802087840@70bfbd15\n",
       "\u001b[36mtimes2\u001b[39m: \u001b[32mInt\u001b[39m => \u001b[32mInt\u001b[39m = ammonite.$sess.cmd4$Helper$$Lambda$3530/0x0000000802088840@1f369155\n",
       "\u001b[36mmyList\u001b[39m: \u001b[32mList\u001b[39m[\u001b[32mInt\u001b[39m] = \u001b[33mList\u001b[39m(\u001b[32m1\u001b[39m, \u001b[32m2\u001b[39m, \u001b[32m5\u001b[39m, \u001b[32m9\u001b[39m)\n",
       "\u001b[36mmyListPlus\u001b[39m: \u001b[32mList\u001b[39m[\u001b[32mInt\u001b[39m] = \u001b[33mList\u001b[39m(\u001b[32m2\u001b[39m, \u001b[32m3\u001b[39m, \u001b[32m6\u001b[39m, \u001b[32m10\u001b[39m)\n",
       "\u001b[36mmyListTimes\u001b[39m: \u001b[32mList\u001b[39m[\u001b[32mInt\u001b[39m] = \u001b[33mList\u001b[39m(\u001b[32m2\u001b[39m, \u001b[32m4\u001b[39m, \u001b[32m10\u001b[39m, \u001b[32m18\u001b[39m)\n",
       "defined \u001b[32mfunction\u001b[39m \u001b[36mopN\u001b[39m\n",
       "\u001b[36mres4_6\u001b[39m: \u001b[32mInt\u001b[39m = \u001b[32m10\u001b[39m\n",
       "\u001b[36mres4_7\u001b[39m: \u001b[32mInt\u001b[39m = \u001b[32m56\u001b[39m"
      ]
     },
     "execution_count": 5,
     "metadata": {},
     "output_type": "execute_result"
    }
   ],
   "source": [
    "// create our function\n",
    "val plus1 = (x: Int) => x + 1\n",
    "val times2 = (x: Int) => x * 2\n",
    "\n",
    "// pass it to map, a list function\n",
    "val myList = List(1, 2, 5, 9)\n",
    "val myListPlus = myList.map(plus1)\n",
    "val myListTimes = myList.map(times2)\n",
    "\n",
    "// create a custom function, which performs an operation on X N times using recursion\n",
    "def opN(x: Int, n: Int, op: Int => Int): Int = {\n",
    "  if (n <= 0) { x }\n",
    "  else { opN(op(x), n-1, op) }\n",
    "}\n",
    "\n",
    "opN(7, 3, plus1)\n",
    "opN(7, 3, times2)"
   ]
  },
  {
   "cell_type": "markdown",
   "metadata": {},
   "source": [
    "<span style=\"color:blue\">**Example: Functions vs. Objects**</span><br>\n",
    "A possibly confusing situation arises when using functions without arguments. Functions are evaluated every time they are called, while `val`s are evaluated at instantiation. "
   ]
  },
  {
   "cell_type": "code",
   "execution_count": 6,
   "metadata": {},
   "outputs": [
    {
     "name": "stdout",
     "output_type": "stream",
     "text": [
      "x = -542328862\n",
      "x = -542328862\n",
      "y = -1644996740\n",
      "y = -1236732432\n"
     ]
    },
    {
     "data": {
      "text/plain": [
       "\u001b[32mimport \u001b[39m\u001b[36mscala.util.Random\n",
       "\n",
       "// both x and y call the nextInt function, but x is evaluated immediately and y is a function\n",
       "\u001b[39m\n",
       "\u001b[36mx\u001b[39m: \u001b[32mInt\u001b[39m = \u001b[32m-542328862\u001b[39m\n",
       "defined \u001b[32mfunction\u001b[39m \u001b[36my\u001b[39m"
      ]
     },
     "execution_count": 6,
     "metadata": {},
     "output_type": "execute_result"
    }
   ],
   "source": [
    "import scala.util.Random\n",
    "\n",
    "// both x and y call the nextInt function, but x is evaluated immediately and y is a function\n",
    "val x = Random.nextInt\n",
    "def y = Random.nextInt\n",
    "\n",
    "// x was previously evaluated, so it is a constant\n",
    "println(s\"x = $x\")\n",
    "println(s\"x = $x\")\n",
    "\n",
    "// y is a function and gets reevaluated at each call, thus these produce different results\n",
    "println(s\"y = $y\")\n",
    "println(s\"y = $y\")"
   ]
  },
  {
   "cell_type": "markdown",
   "metadata": {},
   "source": [
    "## Anonymous Functions\n",
    "As the name implies, anonymous functions are nameless. There's no need to create a `val` for a function if we'll only use it once. \n",
    "\n",
    "<span style=\"color:blue\">**Example: Anonymous Functions**</span><br>\n",
    "The following example demonstrates this. They are often scoped (put in curly braces instead of parentheses). "
   ]
  },
  {
   "cell_type": "code",
   "execution_count": 7,
   "metadata": {},
   "outputs": [
    {
     "data": {
      "text/plain": [
       "\u001b[36mmyList\u001b[39m: \u001b[32mList\u001b[39m[\u001b[32mInt\u001b[39m] = \u001b[33mList\u001b[39m(\u001b[32m5\u001b[39m, \u001b[32m6\u001b[39m, \u001b[32m7\u001b[39m, \u001b[32m8\u001b[39m)\n",
       "\u001b[36mres6_1\u001b[39m: \u001b[32mList\u001b[39m[\u001b[32mInt\u001b[39m] = \u001b[33mList\u001b[39m(\u001b[32m6\u001b[39m, \u001b[32m7\u001b[39m, \u001b[32m8\u001b[39m, \u001b[32m9\u001b[39m)\n",
       "\u001b[36mres6_2\u001b[39m: \u001b[32mList\u001b[39m[\u001b[32mInt\u001b[39m] = \u001b[33mList\u001b[39m(\u001b[32m6\u001b[39m, \u001b[32m7\u001b[39m, \u001b[32m8\u001b[39m, \u001b[32m9\u001b[39m)\n",
       "\u001b[36mmyAnyList\u001b[39m: \u001b[32mList\u001b[39m[\u001b[32mAny\u001b[39m] = \u001b[33mList\u001b[39m(\u001b[32m1\u001b[39m, \u001b[32m2\u001b[39m, \u001b[32m\"3\"\u001b[39m, \u001b[32m4L\u001b[39m, \u001b[33mList\u001b[39m(\u001b[32m5\u001b[39m, \u001b[32m6\u001b[39m, \u001b[32m7\u001b[39m, \u001b[32m8\u001b[39m))\n",
       "\u001b[36mres6_4\u001b[39m: \u001b[32mList\u001b[39m[\u001b[32mString\u001b[39m] = \u001b[33mList\u001b[39m(\u001b[32m\"Number\"\u001b[39m, \u001b[32m\"Number\"\u001b[39m, \u001b[32m\"String\"\u001b[39m, \u001b[32m\"Number\"\u001b[39m, \u001b[32m\"error\"\u001b[39m)"
      ]
     },
     "execution_count": 7,
     "metadata": {},
     "output_type": "execute_result"
    }
   ],
   "source": [
    "val myList = List(5, 6, 7, 8)\n",
    "\n",
    "// add one to every item in the list using an anonymous function\n",
    "// arguments get passed to the underscore variable\n",
    "// these all do the same thing\n",
    "myList.map( (x:Int) => x + 1 )\n",
    "myList.map(_ + 1)\n",
    "\n",
    "// a common situation is to use case statements within an anonymous function\n",
    "val myAnyList = List(1, 2, \"3\", 4L, myList)\n",
    "myAnyList.map {\n",
    "  case (_:Int|_:Long) => \"Number\"\n",
    "  case _:String => \"String\"\n",
    "  case _ => \"error\"\n",
    "}"
   ]
  },
  {
   "cell_type": "markdown",
   "metadata": {},
   "source": [
    "<span style=\"color:red\">**Exercise: Sequence Manipulation**</span><br>\n",
    "A common set of higher-order functions you'll use are `scanLeft`/`scanRight`, `reduceLeft`/`reduceRight`, and `foldLeft`/`foldRight`. It's important to understand how each one works and when to use them. The default directions for `scan`, `reduce`, and `fold` are left, though this is not guaranteed for all cases. "
   ]
  },
  {
   "cell_type": "code",
   "execution_count": 16,
   "metadata": {},
   "outputs": [
    {
     "data": {
      "text/plain": [
       "\u001b[36mexList\u001b[39m: \u001b[32mList\u001b[39m[\u001b[32mInt\u001b[39m] = \u001b[33mList\u001b[39m(\u001b[32m1\u001b[39m, \u001b[32m5\u001b[39m, \u001b[32m7\u001b[39m, \u001b[32m100\u001b[39m)\n",
       "defined \u001b[32mfunction\u001b[39m \u001b[36madd\u001b[39m\n",
       "\u001b[36msum\u001b[39m: \u001b[32mInt\u001b[39m = \u001b[32m113\u001b[39m\n",
       "\u001b[36manon_sum\u001b[39m: \u001b[32mInt\u001b[39m = \u001b[32m113\u001b[39m\n",
       "defined \u001b[32mfunction\u001b[39m \u001b[36mavg\u001b[39m\n",
       "\u001b[36mma2\u001b[39m: \u001b[32mList\u001b[39m[\u001b[32mDouble\u001b[39m] = \u001b[33mList\u001b[39m(\u001b[32m8.875\u001b[39m, \u001b[32m16.75\u001b[39m, \u001b[32m28.5\u001b[39m, \u001b[32m50.0\u001b[39m, \u001b[32m0.0\u001b[39m)"
      ]
     },
     "execution_count": 16,
     "metadata": {},
     "output_type": "execute_result"
    }
   ],
   "source": [
    "val exList = List(1, 5, 7, 100)\n",
    "\n",
    "// write a custom function to add two numbers, then use reduce to find the sum of all values in exList\n",
    "def add(a: Int, b: Int): Int = a+b\n",
    "val sum = exList.reduce(add)\n",
    "\n",
    "// find the sum of exList using an anonymous function (hint: you've seen this before!)\n",
    "val anon_sum = exList.reduce(_+_)\n",
    "\n",
    "// find the moving average of exList from right to left using scan; make the result (ma2) a list of doubles\n",
    "def avg(a: Int, b: Double): Double = (a+b)/2.0\n",
    "val ma2 = exList.scanRight(0.0)(avg)"
   ]
  },
  {
   "cell_type": "code",
   "execution_count": 17,
   "metadata": {},
   "outputs": [],
   "source": [
    "assert(add(88, 88) == 176)\n",
    "assert(sum == 113)\n",
    "\n",
    "assert(anon_sum == 113)\n",
    "\n",
    "assert(avg(100, 100.0) == 100.0)\n",
    "assert(ma2 == List(8.875, 16.75, 28.5, 50.0, 0.0))"
   ]
  },
  {
   "cell_type": "markdown",
   "metadata": {},
   "source": [
    "<div id=\"container\"><section id=\"accordion\"><div>\n",
    "<input type=\"checkbox\" id=\"check-1\" />\n",
    "<label for=\"check-1\"><strong>Solution</strong></label>\n",
    "<article>\n",
    "<pre style=\"background-color:#f7f7f7\">\n",
    "def add(a: Int, b: Int): Int = a + b\n",
    "val sum = exList.reduce(add)\n",
    "\n",
    "val anon\\_sum = exList.reduce(\\_ + \\_)\n",
    "\n",
    "def avg(a: Int, b: Double): Double = (a + b)/2.0\n",
    "val ma2 = exList.scanRight(0.0)(avg)\n",
    "</pre></article></div></section></div>"
   ]
  },
  {
   "cell_type": "markdown",
   "metadata": {},
   "source": [
    "---\n",
    "# Functional Programming in Chisel\n",
    "Let's look at some examples of how to use functional programming when creating hardware generators in Chisel."
   ]
  },
  {
   "cell_type": "markdown",
   "metadata": {},
   "source": [
    "<span style=\"color:blue\">**Example: FIR Filter**</span><br>\n",
    "First, we'll revisit the FIR filter from previous examples. Instead of passing in the coefficients as parameters to the class or making them programmable, we'll pass a function to the FIR that defines how the window coefficients are calculated. This function will take the window length and bitwidth to produce a scaled list of coefficients. Here are two example windows. To avoid fractions, we'll scale the coefficients to be between the max and min integer values. For more on these windows, check out the [this Wikipedia page](https://en.wikipedia.org/wiki/Window_function)."
   ]
  },
  {
   "cell_type": "code",
   "execution_count": 19,
   "metadata": {},
   "outputs": [
    {
     "data": {
      "text/plain": [
       "\u001b[32mimport \u001b[39m\u001b[36mscala.math.{abs, round, cos, Pi, pow}\n",
       "\n",
       "// simple triangular window\n",
       "\u001b[39m\n",
       "\u001b[36mTriangularWindow\u001b[39m: (\u001b[32mInt\u001b[39m, \u001b[32mInt\u001b[39m) => \u001b[32mSeq\u001b[39m[\u001b[32mInt\u001b[39m] = ammonite.$sess.cmd18$Helper$$Lambda$4216/0x0000000801ebe840@501cae04\n",
       "\u001b[36mHammingWindow\u001b[39m: (\u001b[32mInt\u001b[39m, \u001b[32mInt\u001b[39m) => \u001b[32mSeq\u001b[39m[\u001b[32mInt\u001b[39m] = ammonite.$sess.cmd18$Helper$$Lambda$4217/0x0000000801ebd040@70646551\n",
       "\u001b[36mres18_3\u001b[39m: \u001b[32mSeq\u001b[39m[\u001b[32mInt\u001b[39m] = \u001b[33mVector\u001b[39m(\n",
       "  \u001b[32m0\u001b[39m,\n",
       "  \u001b[32m14564\u001b[39m,\n",
       "  \u001b[32m29127\u001b[39m,\n",
       "  \u001b[32m43691\u001b[39m,\n",
       "  \u001b[32m58254\u001b[39m,\n",
       "  \u001b[32m58254\u001b[39m,\n",
       "  \u001b[32m43691\u001b[39m,\n",
       "  \u001b[32m29127\u001b[39m,\n",
       "  \u001b[32m14564\u001b[39m,\n",
       "  \u001b[32m0\u001b[39m\n",
       ")\n",
       "\u001b[36mres18_4\u001b[39m: \u001b[32mSeq\u001b[39m[\u001b[32mInt\u001b[39m] = \u001b[33mVector\u001b[39m(\n",
       "  \u001b[32m5243\u001b[39m,\n",
       "  \u001b[32m12296\u001b[39m,\n",
       "  \u001b[32m30155\u001b[39m,\n",
       "  \u001b[32m50463\u001b[39m,\n",
       "  \u001b[32m63718\u001b[39m,\n",
       "  \u001b[32m63718\u001b[39m,\n",
       "  \u001b[32m50463\u001b[39m,\n",
       "  \u001b[32m30155\u001b[39m,\n",
       "  \u001b[32m12296\u001b[39m,\n",
       "  \u001b[32m5243\u001b[39m\n",
       ")"
      ]
     },
     "execution_count": 19,
     "metadata": {},
     "output_type": "execute_result"
    }
   ],
   "source": [
    "// get some math functions\n",
    "import scala.math.{abs, round, cos, Pi, pow}\n",
    "\n",
    "// simple triangular window\n",
    "val TriangularWindow: (Int, Int) => Seq[Int] = (length, bitwidth) => {\n",
    "  val raw_coeffs = (0 until length).map( (x:Int) => 1-abs((x.toDouble-(length-1)/2.0)/((length-1)/2.0)) )\n",
    "  val scaled_coeffs = raw_coeffs.map( (x: Double) => round(x * pow(2, bitwidth)).toInt)\n",
    "  scaled_coeffs\n",
    "}\n",
    "\n",
    "// Hamming window\n",
    "val HammingWindow: (Int, Int) => Seq[Int] = (length, bitwidth) => {\n",
    "  val raw_coeffs = (0 until length).map( (x: Int) => 0.54 - 0.46*cos(2*Pi*x/(length-1)))\n",
    "  val scaled_coeffs = raw_coeffs.map( (x: Double) => round(x * pow(2, bitwidth)).toInt)\n",
    "  scaled_coeffs\n",
    "}\n",
    "\n",
    "// check it out! first argument is the window length, and second argument is the bitwidth\n",
    "TriangularWindow(10, 16)\n",
    "HammingWindow(10, 16)"
   ]
  },
  {
   "cell_type": "markdown",
   "metadata": {},
   "source": [
    "Now we'll create a FIR filter that accepts a window function as the argument. This allows us to define new windows later on and retain the same FIR generator. It also allows us to independently size the FIR, knowing the window will be recalculated for different lengths or bitwidths. Since we are choosing the window at compile time, these coefficients are fixed."
   ]
  },
  {
   "cell_type": "code",
   "execution_count": 20,
   "metadata": {},
   "outputs": [
    {
     "data": {
      "text/plain": [
       "defined \u001b[32mclass\u001b[39m \u001b[36mMyFir\u001b[39m"
      ]
     },
     "execution_count": 20,
     "metadata": {},
     "output_type": "execute_result"
    }
   ],
   "source": [
    "// our FIR has parameterized window length, IO bitwidth, and windowing function\n",
    "class MyFir(length: Int, bitwidth: Int, window: (Int, Int) => Seq[Int]) extends Module {\n",
    "  val io = IO(new Bundle {\n",
    "    val in = Input(UInt(bitwidth.W))\n",
    "    val out = Output(UInt((bitwidth*2+length-1).W)) // expect bit growth, conservative but lazy\n",
    "  })\n",
    "\n",
    "  // calculate the coefficients using the provided window function, mapping to UInts\n",
    "  val coeffs = window(length, bitwidth).map(_.U)\n",
    "  \n",
    "  // create an array holding the output of the delays\n",
    "  // note: we avoid using a Vec here since we don't need dynamic indexing\n",
    "  val delays = Seq.fill(length)(Wire(UInt(bitwidth.W))).scan(io.in)( (prev: UInt, next: UInt) => {\n",
    "    next := RegNext(prev)\n",
    "    next\n",
    "  })\n",
    "  \n",
    "  // multiply, putting result in \"mults\"\n",
    "  val mults = delays.zip(coeffs).map{ case(delay: UInt, coeff: UInt) => delay * coeff }\n",
    "  \n",
    "  // add up multiplier outputs with bit growth\n",
    "  val result = mults.reduce(_+&_)\n",
    "\n",
    "  // connect output\n",
    "  io.out := result\n",
    "}"
   ]
  },
  {
   "cell_type": "markdown",
   "metadata": {},
   "source": [
    "Those last three lines could be easily combined into one. Also notice how we've handled bitwidth growth conservatively to avoid loss.\n",
    "\n",
    "<span style=\"color:blue\">**Example: FIR Filter Tester**</span><br>\n",
    "Let's test our FIR! Previously, we provided a custom golden model. This time we'll use Breeze, a Scala library of useful linear algebra and signal processing functions, as a golden model for our FIR filter. The code below compares the Chisel output with the golden model output, and any errors cause the tester to fail.\n",
    "\n",
    "Try uncommenting the print statment at the end just after the expect call. Also try changing the window from triangular to Hamming."
   ]
  },
  {
   "cell_type": "code",
   "execution_count": 21,
   "metadata": {},
   "outputs": [
    {
     "name": "stdout",
     "output_type": "stream",
     "text": [
      "[\u001b[35minfo\u001b[0m] [0.002] Elaborating design...\n",
      "[\u001b[35minfo\u001b[0m] [1.074] Done elaborating.\n",
      "Total FIRRTL Compile Time: 660.8 ms\n",
      "Total FIRRTL Compile Time: 66.8 ms\n",
      "End of dependency graph\n",
      "Circuit state created\n",
      "[\u001b[35minfo\u001b[0m] [0.001] SEED 1575039935808\n",
      "[\u001b[35minfo\u001b[0m] [0.605] cycle 6, got 43373193, expect 43373193\n",
      "[\u001b[35minfo\u001b[0m] [0.622] cycle 7, got 36413841, expect 36413841\n",
      "[\u001b[35minfo\u001b[0m] [0.637] cycle 8, got 25153536, expect 25153536\n",
      "[\u001b[35minfo\u001b[0m] [0.645] cycle 9, got 13893231, expect 13893231\n",
      "[\u001b[35minfo\u001b[0m] [0.669] cycle 10, got 6933879, expect 6933879\n",
      "[\u001b[35minfo\u001b[0m] [0.688] cycle 11, got 6933879, expect 6933879\n",
      "[\u001b[35minfo\u001b[0m] [0.698] cycle 12, got 13893231, expect 13893231\n",
      "[\u001b[35minfo\u001b[0m] [0.712] cycle 13, got 25153536, expect 25153536\n",
      "[\u001b[35minfo\u001b[0m] [0.713] cycle 14, got 36413841, expect 36413841\n",
      "[\u001b[35minfo\u001b[0m] [0.745] cycle 15, got 43373193, expect 43373193\n",
      "[\u001b[35minfo\u001b[0m] [0.747] cycle 16, got 43373193, expect 43373193\n",
      "[\u001b[35minfo\u001b[0m] [0.763] cycle 17, got 36413841, expect 36413841\n",
      "[\u001b[35minfo\u001b[0m] [0.779] cycle 18, got 25153536, expect 25153536\n",
      "[\u001b[35minfo\u001b[0m] [0.780] cycle 19, got 13893231, expect 13893231\n",
      "[\u001b[35minfo\u001b[0m] [0.788] cycle 20, got 6933879, expect 6933879\n",
      "[\u001b[35minfo\u001b[0m] [0.788] cycle 21, got 6933879, expect 6933879\n",
      "[\u001b[35minfo\u001b[0m] [0.794] cycle 22, got 13893231, expect 13893231\n",
      "[\u001b[35minfo\u001b[0m] [0.797] cycle 23, got 25153536, expect 25153536\n",
      "[\u001b[35minfo\u001b[0m] [0.800] cycle 24, got 36413841, expect 36413841\n",
      "[\u001b[35minfo\u001b[0m] [0.801] cycle 25, got 43373193, expect 43373193\n",
      "[\u001b[35minfo\u001b[0m] [0.802] cycle 26, got 43373193, expect 43373193\n",
      "[\u001b[35minfo\u001b[0m] [0.805] cycle 27, got 36413841, expect 36413841\n",
      "[\u001b[35minfo\u001b[0m] [0.808] cycle 28, got 25153536, expect 25153536\n",
      "[\u001b[35minfo\u001b[0m] [0.810] cycle 29, got 13893231, expect 13893231\n",
      "[\u001b[35minfo\u001b[0m] [0.811] cycle 30, got 6933879, expect 6933879\n",
      "[\u001b[35minfo\u001b[0m] [0.812] cycle 31, got 6933879, expect 6933879\n",
      "[\u001b[35minfo\u001b[0m] [0.813] cycle 32, got 13893231, expect 13893231\n",
      "[\u001b[35minfo\u001b[0m] [0.824] cycle 33, got 25153536, expect 25153536\n",
      "[\u001b[35minfo\u001b[0m] [0.827] cycle 34, got 36413841, expect 36413841\n",
      "[\u001b[35minfo\u001b[0m] [0.833] cycle 35, got 43373193, expect 43373193\n",
      "[\u001b[35minfo\u001b[0m] [0.834] cycle 36, got 43373193, expect 43373193\n",
      "[\u001b[35minfo\u001b[0m] [0.835] cycle 37, got 36413841, expect 36413841\n",
      "[\u001b[35minfo\u001b[0m] [0.836] cycle 38, got 25153536, expect 25153536\n",
      "[\u001b[35minfo\u001b[0m] [0.838] cycle 39, got 13893231, expect 13893231\n",
      "[\u001b[35minfo\u001b[0m] [0.840] cycle 40, got 6933879, expect 6933879\n",
      "[\u001b[35minfo\u001b[0m] [0.841] cycle 41, got 6933879, expect 6933879\n",
      "[\u001b[35minfo\u001b[0m] [0.842] cycle 42, got 13893231, expect 13893231\n",
      "[\u001b[35minfo\u001b[0m] [0.843] cycle 43, got 25153536, expect 25153536\n",
      "[\u001b[35minfo\u001b[0m] [0.845] cycle 44, got 36413841, expect 36413841\n",
      "[\u001b[35minfo\u001b[0m] [0.846] cycle 45, got 43373193, expect 43373193\n",
      "[\u001b[35minfo\u001b[0m] [0.848] cycle 46, got 43373193, expect 43373193\n",
      "[\u001b[35minfo\u001b[0m] [0.849] cycle 47, got 36413841, expect 36413841\n",
      "[\u001b[35minfo\u001b[0m] [0.851] cycle 48, got 25153536, expect 25153536\n",
      "[\u001b[35minfo\u001b[0m] [0.852] cycle 49, got 13893231, expect 13893231\n",
      "[\u001b[35minfo\u001b[0m] [0.854] cycle 50, got 6933879, expect 6933879\n",
      "[\u001b[35minfo\u001b[0m] [0.855] cycle 51, got 6933879, expect 6933879\n",
      "[\u001b[35minfo\u001b[0m] [0.857] cycle 52, got 13893231, expect 13893231\n",
      "[\u001b[35minfo\u001b[0m] [0.860] cycle 53, got 25153536, expect 25153536\n",
      "[\u001b[35minfo\u001b[0m] [0.861] cycle 54, got 36413841, expect 36413841\n",
      "[\u001b[35minfo\u001b[0m] [0.862] cycle 55, got 43373193, expect 43373193\n",
      "[\u001b[35minfo\u001b[0m] [0.864] cycle 56, got 43373193, expect 43373193\n",
      "[\u001b[35minfo\u001b[0m] [0.866] cycle 57, got 36413841, expect 36413841\n",
      "[\u001b[35minfo\u001b[0m] [0.867] cycle 58, got 25153536, expect 25153536\n",
      "[\u001b[35minfo\u001b[0m] [0.869] cycle 59, got 13893231, expect 13893231\n",
      "[\u001b[35minfo\u001b[0m] [0.871] cycle 60, got 6933879, expect 6933879\n",
      "[\u001b[35minfo\u001b[0m] [0.872] cycle 61, got 6933879, expect 6933879\n",
      "[\u001b[35minfo\u001b[0m] [0.873] cycle 62, got 13893231, expect 13893231\n",
      "[\u001b[35minfo\u001b[0m] [0.875] cycle 63, got 25153536, expect 25153536\n",
      "[\u001b[35minfo\u001b[0m] [0.876] cycle 64, got 36413841, expect 36413841\n",
      "[\u001b[35minfo\u001b[0m] [0.876] cycle 65, got 43373193, expect 43373193\n",
      "[\u001b[35minfo\u001b[0m] [0.878] cycle 66, got 43373193, expect 43373193\n",
      "[\u001b[35minfo\u001b[0m] [0.891] cycle 67, got 36413841, expect 36413841\n",
      "[\u001b[35minfo\u001b[0m] [0.892] cycle 68, got 25153536, expect 25153536\n",
      "[\u001b[35minfo\u001b[0m] [0.902] cycle 69, got 13893231, expect 13893231\n",
      "[\u001b[35minfo\u001b[0m] [0.910] cycle 70, got 6933879, expect 6933879\n",
      "[\u001b[35minfo\u001b[0m] [0.911] cycle 71, got 6933879, expect 6933879\n",
      "[\u001b[35minfo\u001b[0m] [0.912] cycle 72, got 13893231, expect 13893231\n",
      "[\u001b[35minfo\u001b[0m] [0.923] cycle 73, got 25153536, expect 25153536\n",
      "[\u001b[35minfo\u001b[0m] [0.941] cycle 74, got 36413841, expect 36413841\n",
      "[\u001b[35minfo\u001b[0m] [0.942] cycle 75, got 43373193, expect 43373193\n",
      "[\u001b[35minfo\u001b[0m] [0.943] cycle 76, got 43373193, expect 43373193\n",
      "[\u001b[35minfo\u001b[0m] [0.947] cycle 77, got 36413841, expect 36413841\n",
      "[\u001b[35minfo\u001b[0m] [0.948] cycle 78, got 25153536, expect 25153536\n",
      "[\u001b[35minfo\u001b[0m] [0.949] cycle 79, got 13893231, expect 13893231\n",
      "[\u001b[35minfo\u001b[0m] [0.956] cycle 80, got 6933879, expect 6933879\n",
      "[\u001b[35minfo\u001b[0m] [0.957] cycle 81, got 6933879, expect 6933879\n",
      "[\u001b[35minfo\u001b[0m] [0.958] cycle 82, got 13893231, expect 13893231\n",
      "[\u001b[35minfo\u001b[0m] [0.960] cycle 83, got 25153536, expect 25153536\n",
      "[\u001b[35minfo\u001b[0m] [0.976] cycle 84, got 36413841, expect 36413841\n",
      "[\u001b[35minfo\u001b[0m] [0.977] cycle 85, got 43373193, expect 43373193\n",
      "[\u001b[35minfo\u001b[0m] [0.980] cycle 86, got 43373193, expect 43373193\n",
      "[\u001b[35minfo\u001b[0m] [0.981] cycle 87, got 36413841, expect 36413841\n",
      "[\u001b[35minfo\u001b[0m] [0.981] cycle 88, got 25153536, expect 25153536\n",
      "[\u001b[35minfo\u001b[0m] [0.985] cycle 89, got 13893231, expect 13893231\n",
      "[\u001b[35minfo\u001b[0m] [0.992] cycle 90, got 6933879, expect 6933879\n",
      "[\u001b[35minfo\u001b[0m] [0.993] cycle 91, got 6933879, expect 6933879\n",
      "[\u001b[35minfo\u001b[0m] [0.994] cycle 92, got 13893231, expect 13893231\n",
      "[\u001b[35minfo\u001b[0m] [0.995] cycle 93, got 25153536, expect 25153536\n",
      "[\u001b[35minfo\u001b[0m] [0.996] cycle 94, got 36413841, expect 36413841\n",
      "[\u001b[35minfo\u001b[0m] [0.997] cycle 95, got 43373193, expect 43373193\n",
      "[\u001b[35minfo\u001b[0m] [0.998] cycle 96, got 43373193, expect 43373193\n",
      "[\u001b[35minfo\u001b[0m] [0.999] cycle 97, got 36413841, expect 36413841\n",
      "[\u001b[35minfo\u001b[0m] [1.005] cycle 98, got 25153536, expect 25153536\n",
      "[\u001b[35minfo\u001b[0m] [1.013] cycle 99, got 13893231, expect 13893231\n",
      "test MyFir Success: 94 tests passed in 110 cycles taking 1.046062 seconds\n",
      "[\u001b[35minfo\u001b[0m] [1.020] RAN 100 CYCLES PASSED\n"
     ]
    },
    {
     "data": {
      "text/plain": [
       "\u001b[32mimport \u001b[39m\u001b[36mscala.math.{pow, sin, Pi}\n",
       "\u001b[39m\n",
       "\u001b[32mimport \u001b[39m\u001b[36mbreeze.signal.{filter, OptOverhang}\n",
       "\u001b[39m\n",
       "\u001b[32mimport \u001b[39m\u001b[36mbreeze.signal.support.{CanFilter, FIRKernel1D}\n",
       "\u001b[39m\n",
       "\u001b[32mimport \u001b[39m\u001b[36mbreeze.linalg.DenseVector\n",
       "\n",
       "// test parameters\n",
       "\u001b[39m\n",
       "\u001b[36mlength\u001b[39m: \u001b[32mInt\u001b[39m = \u001b[32m7\u001b[39m\n",
       "\u001b[36mbitwidth\u001b[39m: \u001b[32mInt\u001b[39m = \u001b[32m12\u001b[39m\n",
       "\u001b[36mwindow\u001b[39m: (\u001b[32mInt\u001b[39m, \u001b[32mInt\u001b[39m) => \u001b[32mSeq\u001b[39m[\u001b[32mInt\u001b[39m] = ammonite.$sess.cmd18$Helper$$Lambda$4216/0x0000000801ebe840@501cae04\n",
       "\u001b[36mres20_7\u001b[39m: \u001b[32mBoolean\u001b[39m = true"
      ]
     },
     "execution_count": 21,
     "metadata": {},
     "output_type": "execute_result"
    }
   ],
   "source": [
    "// math imports\n",
    "import scala.math.{pow, sin, Pi}\n",
    "import breeze.signal.{filter, OptOverhang}\n",
    "import breeze.signal.support.{CanFilter, FIRKernel1D}\n",
    "import breeze.linalg.DenseVector\n",
    "\n",
    "// test parameters\n",
    "val length = 7\n",
    "val bitwidth = 12 // must be less than 15, otherwise Int can't represent the data, need BigInt\n",
    "val window = TriangularWindow\n",
    "\n",
    "// test our FIR\n",
    "Driver(() => new MyFir(length, bitwidth, window)) {\n",
    "  c => new PeekPokeTester(c) {\n",
    "    \n",
    "    // test data\n",
    "    val n = 100 // input length\n",
    "    val sine_freq = 10\n",
    "    val samp_freq = 100\n",
    "    \n",
    "    // sample data, scale to between 0 and 2^bitwidth\n",
    "    val max_value = pow(2, bitwidth)-1\n",
    "    val sine = (0 until n).map(i => (max_value/2 + max_value/2*sin(2*Pi*sine_freq/samp_freq*i)).toInt)\n",
    "    //println(s\"input = ${sine.toArray.deep.mkString(\", \")}\")\n",
    "    \n",
    "    // coefficients\n",
    "    val coeffs = window(length, bitwidth)\n",
    "    //println(s\"coeffs = ${coeffs.toArray.deep.mkString(\", \")}\")\n",
    "\n",
    "    // use breeze filter as golden model; need to reverse coefficients\n",
    "    val expected = filter(DenseVector(sine.toArray), \n",
    "                          FIRKernel1D(DenseVector(coeffs.reverse.toArray), 1.0, \"\"), \n",
    "                          OptOverhang.None)\n",
    "    //println(s\"exp_out = ${expected.toArray.deep.mkString(\", \")}\")\n",
    "\n",
    "    // push data through our FIR and check the result\n",
    "    reset(5)\n",
    "    for (i <- 0 until n) {\n",
    "      poke(c.io.in, sine(i))\n",
    "      if (i >= length-1) { // wait for all registers to be initialized since we didn't zero-pad the data\n",
    "        expect(c.io.out, expected(i-length+1))\n",
    "        println(s\"cycle $i, got ${peek(c.io.out)}, expect ${expected(i-length+1)}\")\n",
    "      }\n",
    "      step(1)\n",
    "    }\n",
    "  }\n",
    "}"
   ]
  },
  {
   "cell_type": "markdown",
   "metadata": {},
   "source": [
    "---\n",
    "# Chisel Exercises\n",
    "Complete the following exercises to practice writing functions, using them as arguments to hardware generators, and avoiding mutable data.\n",
    "\n",
    "<span style=\"color:red\">**Exercise: Neural Network Neuron**</span><br>\n",
    "Our first example will have you build a neuron, the building block of fully-connected layers in artificial neural networks. Neurons take inputs and a set of weights, one per input, and produce one output. The weights and inputs are multiplied and added, and the result is fed through an activation function. In this exercise, you will implement different activation functions and pass them as an argument to your neuron generator.\n",
    "\n",
    "![Neuron](https://upload.wikimedia.org/wikipedia/commons/thumb/6/60/ArtificialNeuronModel_english.png/600px-ArtificialNeuronModel_english.png)\n",
    "\n",
    "First, complete the following code to create a neuron generator. The parameter `inputs` gives the number of inputs. The parameter `act` is a function that implements the logic of the activation function. We'll make the inputs and outputs 16-bit fixed point values with 8 fractional bits."
   ]
  },
  {
   "cell_type": "code",
   "execution_count": 22,
   "metadata": {},
   "outputs": [
    {
     "data": {
      "text/plain": [
       "defined \u001b[32mclass\u001b[39m \u001b[36mNeuron\u001b[39m"
      ]
     },
     "execution_count": 22,
     "metadata": {},
     "output_type": "execute_result"
    }
   ],
   "source": [
    "class Neuron(inputs: Int, act: FixedPoint => FixedPoint) extends Module {\n",
    "  val io = IO(new Bundle {\n",
    "    val in      = Input(Vec(inputs, FixedPoint(16.W, 8.BP)))\n",
    "    val weights = Input(Vec(inputs, FixedPoint(16.W, 8.BP)))\n",
    "    val out     = Output(FixedPoint(16.W, 8.BP))\n",
    "  })\n",
    "  \n",
    "    val netj = io.in.zip(io.weights).map{case (a,b)=>a*b}.reduce(_+_)\n",
    "    io.out := act(netj)\n",
    "    \n",
    "}"
   ]
  },
  {
   "cell_type": "markdown",
   "metadata": {},
   "source": [
    "<div id=\"container\"><section id=\"accordion\"><div>\n",
    "<input type=\"checkbox\" id=\"check-2\" />\n",
    "<label for=\"check-2\"><strong>Solution</strong></label>\n",
    "<article>\n",
    "<pre style=\"background-color:#f7f7f7\">\n",
    "  val mac = io.in.zip(io.weights).map{ case(a:FixedPoint, b:FixedPoint) => a*b}.reduce(_+_)\n",
    "  io.out := act(mac)\n",
    "</pre></article></div></section></div>"
   ]
  },
  {
   "cell_type": "markdown",
   "metadata": {},
   "source": [
    "Now let's create some activation functions! We'll use a threshold of zero. Typical activation functions are the sigmoid function and the rectified linear unit (ReLU).\n",
    "\n",
    "The sigmoid we'll use is called the [logistic function](https://en.wikipedia.org/wiki/Logistic_function), given by \n",
    "\n",
    "$logistic(x) = \\cfrac{1}{1+e^{-\\beta x}}$\n",
    "\n",
    "where $\\beta$ is the slope factor. However, computing the exponential function in hardware is quite challenging and expensive. We'll approximate this as the step function.\n",
    "\n",
    "$step(x) = \\begin{cases}\n",
    "             0  & \\text{if } x \\le 0 \\\\\n",
    "             1  & \\text{if } x \\gt 0\n",
    "       \\end{cases}$\n",
    "\n",
    "The second function, the ReLU, is given by a similar formula.\n",
    "\n",
    "$relu(x) = \\begin{cases}\n",
    "             0  & \\text{if } x \\le 0 \\\\\n",
    "             x  & \\text{if } x \\gt 0\n",
    "       \\end{cases}$\n",
    "\n",
    "Implement these two functions below. You can specify a fixed-point literal like `-3.14.F(8.BP)`. "
   ]
  },
  {
   "cell_type": "code",
   "execution_count": 24,
   "metadata": {},
   "outputs": [
    {
     "data": {
      "text/plain": [
       "\u001b[36mStep\u001b[39m: \u001b[32mFixedPoint\u001b[39m => \u001b[32mFixedPoint\u001b[39m = ammonite.$sess.cmd23$Helper$$Lambda$5728/0x00000008027c4040@21414e7e\n",
       "\u001b[36mReLU\u001b[39m: \u001b[32mFixedPoint\u001b[39m => \u001b[32mFixedPoint\u001b[39m = ammonite.$sess.cmd23$Helper$$Lambda$5729/0x00000008027c5040@5ad3c0f"
      ]
     },
     "execution_count": 24,
     "metadata": {},
     "output_type": "execute_result"
    }
   ],
   "source": [
    "val Step: FixedPoint => FixedPoint = x => Mux(x <= 0.F(8.BP), 0.F(8.BP), 1.F(8.BP))\n",
    "val ReLU: FixedPoint => FixedPoint = x => Mux(x <= 0.F(8.BP), 0.F(8.BP), x)"
   ]
  },
  {
   "cell_type": "markdown",
   "metadata": {},
   "source": [
    "<div id=\"container\"><section id=\"accordion\"><div>\n",
    "<input type=\"checkbox\" id=\"check-3\" />\n",
    "<label for=\"check-3\"><strong>Solution</strong></label>\n",
    "<article>\n",
    "<pre style=\"background-color:#f7f7f7\">\n",
    "val Step: FixedPoint => FixedPoint = x => Mux(x <= 0.F(8.BP), 0.F(8.BP), 1.F(8.BP))\n",
    "val ReLU: FixedPoint => FixedPoint = x => Mux(x <= 0.F(8.BP), 0.F(8.BP), x)\n",
    "</pre></article></div></section></div>"
   ]
  },
  {
   "cell_type": "markdown",
   "metadata": {},
   "source": [
    "Finally, let's create a tester that checks the correctness of our Neuron. With the step activation function, neurons may be used as logic gate approximators. Proper selection of weights and bias can perform binary functions. We'll test our neuron using AND logic. Complete the following tester to check our neuron with the step function.\n",
    "\n",
    "Note that since the circuit is purely combinational, the `reset(5)` and `step(1)` calls are not necessary."
   ]
  },
  {
   "cell_type": "code",
   "execution_count": 25,
   "metadata": {},
   "outputs": [
    {
     "name": "stdout",
     "output_type": "stream",
     "text": [
      "[\u001b[35minfo\u001b[0m] [0.000] Elaborating design...\n",
      "[\u001b[35minfo\u001b[0m] [0.111] Done elaborating.\n",
      "Total FIRRTL Compile Time: 70.4 ms\n",
      "Total FIRRTL Compile Time: 47.4 ms\n",
      "End of dependency graph\n",
      "Circuit state created\n",
      "[\u001b[35minfo\u001b[0m] [0.000] SEED 1575040410043\n",
      "test Neuron Success: 0 tests passed in 14 cycles taking 0.052923 seconds\n",
      "[\u001b[35minfo\u001b[0m] [0.042] RAN 4 CYCLES PASSED\n"
     ]
    },
    {
     "data": {
      "text/plain": [
       "\u001b[36mres24\u001b[39m: \u001b[32mBoolean\u001b[39m = true"
      ]
     },
     "execution_count": 25,
     "metadata": {},
     "output_type": "execute_result"
    }
   ],
   "source": [
    "// test our Neuron \n",
    "Driver(() => new Neuron(2, Step)) {\n",
    "  c => new PeekPokeTester(c) {\n",
    "    \n",
    "    val inputs = Seq(Seq(-1, -1), Seq(-1, 1), Seq(1, -1), Seq(1, 1))\n",
    "    \n",
    "    // make this a sequence of two values\n",
    "    val weights = Seq(1,1)\n",
    "\n",
    "    // push data through our Neuron and check the result (AND gate)\n",
    "    reset(5)\n",
    "    for (i <- inputs) {\n",
    "      pokeFixedPoint(c.io.in(0), i(0))\n",
    "      pokeFixedPoint(c.io.in(1), i(1))\n",
    "      pokeFixedPoint(c.io.weights(0), weights(0))\n",
    "      pokeFixedPoint(c.io.weights(1), weights(1))\n",
    "      expectFixedPoint(c.io.out, if (i(0) + i(1) > 0) 1 else 0, \"ERROR\")\n",
    "      step(1)\n",
    "    }\n",
    "  }\n",
    "}"
   ]
  },
  {
   "cell_type": "markdown",
   "metadata": {},
   "source": [
    "<div id=\"container\"><section id=\"accordion\"><div>\n",
    "<input type=\"checkbox\" id=\"check-4\" />\n",
    "<label for=\"check-4\"><strong>Solution</strong></label>\n",
    "<article>\n",
    "<pre style=\"background-color:#f7f7f7\">\n",
    "val weights  = Seq(1.0, 1.0)\n",
    "</pre></article></div></section></div>"
   ]
  },
  {
   "cell_type": "markdown",
   "metadata": {},
   "source": [
    "---\n",
    "# You're done!\n",
    "\n",
    "[Return to the top.](#top)"
   ]
  },
  {
   "cell_type": "code",
   "execution_count": null,
   "metadata": {},
   "outputs": [],
   "source": []
  }
 ],
 "metadata": {
  "kernelspec": {
   "display_name": "Scala",
   "language": "scala",
   "name": "scala"
  },
  "language_info": {
   "codemirror_mode": "text/x-scala",
   "file_extension": ".scala",
   "mimetype": "text/x-scala",
   "name": "scala",
   "nbconvert_exporter": "script",
   "version": "2.12.8"
  }
 },
 "nbformat": 4,
 "nbformat_minor": 2
}
